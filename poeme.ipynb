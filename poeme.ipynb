{
  "nbformat": 4,
  "nbformat_minor": 0,
  "metadata": {
    "colab": {
      "provenance": []
    },
    "kernelspec": {
      "name": "python3",
      "display_name": "Python 3"
    },
    "language_info": {
      "name": "python"
    }
  },
  "cells": [
    {
      "cell_type": "code",
      "execution_count": 1,
      "metadata": {
        "id": "cg9d3TwLLpcb"
      },
      "outputs": [],
      "source": [
        "! pip install -q kaggle"
      ]
    },
    {
      "cell_type": "code",
      "source": [
        "from google.colab import files\n",
        "files.upload()"
      ],
      "metadata": {
        "id": "GaN49vujLuGy"
      },
      "execution_count": null,
      "outputs": []
    },
    {
      "cell_type": "code",
      "source": [
        "! mkdir ~/.kaggle\n",
        "! cp kaggle.json ~/.kaggle/\n",
        "! chmod 600 ~/.kaggle/kaggle.json"
      ],
      "metadata": {
        "id": "XQDjiDfILvnJ"
      },
      "execution_count": 3,
      "outputs": []
    },
    {
      "cell_type": "code",
      "source": [
        "\n",
        "! kaggle datasets download -d ahmedabelal/arabic-poetry\n",
        "! unzip arabic-poetry.zip"
      ],
      "metadata": {
        "colab": {
          "base_uri": "https://localhost:8080/"
        },
        "id": "lkOv7iWpLwep",
        "outputId": "55608c9f-2482-4167-9b33-ce850114e218"
      },
      "execution_count": 4,
      "outputs": [
        {
          "output_type": "stream",
          "name": "stdout",
          "text": [
            "Downloading arabic-poetry.zip to /content\n",
            " 99% 26.0M/26.3M [00:01<00:00, 29.8MB/s]\n",
            "100% 26.3M/26.3M [00:01<00:00, 20.6MB/s]\n",
            "Archive:  arabic-poetry.zip\n",
            "  inflating: Arabic_poetry_dataset.csv  \n"
          ]
        }
      ]
    },
    {
      "cell_type": "code",
      "source": [
        "import pandas as pd"
      ],
      "metadata": {
        "id": "ZrBLaVrqL9OR"
      },
      "execution_count": 5,
      "outputs": []
    },
    {
      "cell_type": "code",
      "source": [
        "data = pd.read_csv(\"Arabic_poetry_dataset.csv\")"
      ],
      "metadata": {
        "id": "sznxDLJyMvvk"
      },
      "execution_count": 8,
      "outputs": []
    },
    {
      "cell_type": "code",
      "source": [
        "data.head()"
      ],
      "metadata": {
        "colab": {
          "base_uri": "https://localhost:8080/",
          "height": 206
        },
        "id": "bl5UXCUyM4Oq",
        "outputId": "f64fb0be-fdcf-4799-e1cf-cd3b08758161"
      },
      "execution_count": 9,
      "outputs": [
        {
          "output_type": "execute_result",
          "data": {
            "text/plain": [
              "   id  category      poet_name                    poem_title  \\\n",
              "0   0  الإمارات  خلفان بن مصبح     بدت تختال في حُلل الجمالِ   \n",
              "1   1  الإمارات  خلفان بن مصبح          يا طائر الشعر القرير   \n",
              "2   2  الإمارات  خلفان بن مصبح          بنت حجرات أرى من عجب   \n",
              "3   3  الإمارات  خلفان بن مصبح  هذا الربيع بنور الحسن وافانا   \n",
              "4   4  الإمارات  خلفان بن مصبح   روحي فداك وإن مُنحتُ صدوداً   \n",
              "\n",
              "                                           poem_text  \n",
              "0  بدت تختال في حُلل الجمالِ\\nوجادت بالزيارة والو...  \n",
              "1  يا طائر الشعر القرير\\nيا وحي إلهام الصدور\\nأسع...  \n",
              "2  بنت حجرات أرى من عجب\\nأن أرى فيك جمال العرب\\nد...  \n",
              "3  هذا الربيع بنور الحسن وافانا\\nوقد كسا الأرض با...  \n",
              "4  روحي فداك وإن مُنحتُ صدوداً\\nأخفاك ما بي أم أط...  "
            ],
            "text/html": [
              "\n",
              "  <div id=\"df-0b623b27-4c00-48dd-97e0-01e6e64d8e3c\">\n",
              "    <div class=\"colab-df-container\">\n",
              "      <div>\n",
              "<style scoped>\n",
              "    .dataframe tbody tr th:only-of-type {\n",
              "        vertical-align: middle;\n",
              "    }\n",
              "\n",
              "    .dataframe tbody tr th {\n",
              "        vertical-align: top;\n",
              "    }\n",
              "\n",
              "    .dataframe thead th {\n",
              "        text-align: right;\n",
              "    }\n",
              "</style>\n",
              "<table border=\"1\" class=\"dataframe\">\n",
              "  <thead>\n",
              "    <tr style=\"text-align: right;\">\n",
              "      <th></th>\n",
              "      <th>id</th>\n",
              "      <th>category</th>\n",
              "      <th>poet_name</th>\n",
              "      <th>poem_title</th>\n",
              "      <th>poem_text</th>\n",
              "    </tr>\n",
              "  </thead>\n",
              "  <tbody>\n",
              "    <tr>\n",
              "      <th>0</th>\n",
              "      <td>0</td>\n",
              "      <td>الإمارات</td>\n",
              "      <td>خلفان بن مصبح</td>\n",
              "      <td>بدت تختال في حُلل الجمالِ</td>\n",
              "      <td>بدت تختال في حُلل الجمالِ\\nوجادت بالزيارة والو...</td>\n",
              "    </tr>\n",
              "    <tr>\n",
              "      <th>1</th>\n",
              "      <td>1</td>\n",
              "      <td>الإمارات</td>\n",
              "      <td>خلفان بن مصبح</td>\n",
              "      <td>يا طائر الشعر القرير</td>\n",
              "      <td>يا طائر الشعر القرير\\nيا وحي إلهام الصدور\\nأسع...</td>\n",
              "    </tr>\n",
              "    <tr>\n",
              "      <th>2</th>\n",
              "      <td>2</td>\n",
              "      <td>الإمارات</td>\n",
              "      <td>خلفان بن مصبح</td>\n",
              "      <td>بنت حجرات أرى من عجب</td>\n",
              "      <td>بنت حجرات أرى من عجب\\nأن أرى فيك جمال العرب\\nد...</td>\n",
              "    </tr>\n",
              "    <tr>\n",
              "      <th>3</th>\n",
              "      <td>3</td>\n",
              "      <td>الإمارات</td>\n",
              "      <td>خلفان بن مصبح</td>\n",
              "      <td>هذا الربيع بنور الحسن وافانا</td>\n",
              "      <td>هذا الربيع بنور الحسن وافانا\\nوقد كسا الأرض با...</td>\n",
              "    </tr>\n",
              "    <tr>\n",
              "      <th>4</th>\n",
              "      <td>4</td>\n",
              "      <td>الإمارات</td>\n",
              "      <td>خلفان بن مصبح</td>\n",
              "      <td>روحي فداك وإن مُنحتُ صدوداً</td>\n",
              "      <td>روحي فداك وإن مُنحتُ صدوداً\\nأخفاك ما بي أم أط...</td>\n",
              "    </tr>\n",
              "  </tbody>\n",
              "</table>\n",
              "</div>\n",
              "      <button class=\"colab-df-convert\" onclick=\"convertToInteractive('df-0b623b27-4c00-48dd-97e0-01e6e64d8e3c')\"\n",
              "              title=\"Convert this dataframe to an interactive table.\"\n",
              "              style=\"display:none;\">\n",
              "        \n",
              "  <svg xmlns=\"http://www.w3.org/2000/svg\" height=\"24px\"viewBox=\"0 0 24 24\"\n",
              "       width=\"24px\">\n",
              "    <path d=\"M0 0h24v24H0V0z\" fill=\"none\"/>\n",
              "    <path d=\"M18.56 5.44l.94 2.06.94-2.06 2.06-.94-2.06-.94-.94-2.06-.94 2.06-2.06.94zm-11 1L8.5 8.5l.94-2.06 2.06-.94-2.06-.94L8.5 2.5l-.94 2.06-2.06.94zm10 10l.94 2.06.94-2.06 2.06-.94-2.06-.94-.94-2.06-.94 2.06-2.06.94z\"/><path d=\"M17.41 7.96l-1.37-1.37c-.4-.4-.92-.59-1.43-.59-.52 0-1.04.2-1.43.59L10.3 9.45l-7.72 7.72c-.78.78-.78 2.05 0 2.83L4 21.41c.39.39.9.59 1.41.59.51 0 1.02-.2 1.41-.59l7.78-7.78 2.81-2.81c.8-.78.8-2.07 0-2.86zM5.41 20L4 18.59l7.72-7.72 1.47 1.35L5.41 20z\"/>\n",
              "  </svg>\n",
              "      </button>\n",
              "      \n",
              "  <style>\n",
              "    .colab-df-container {\n",
              "      display:flex;\n",
              "      flex-wrap:wrap;\n",
              "      gap: 12px;\n",
              "    }\n",
              "\n",
              "    .colab-df-convert {\n",
              "      background-color: #E8F0FE;\n",
              "      border: none;\n",
              "      border-radius: 50%;\n",
              "      cursor: pointer;\n",
              "      display: none;\n",
              "      fill: #1967D2;\n",
              "      height: 32px;\n",
              "      padding: 0 0 0 0;\n",
              "      width: 32px;\n",
              "    }\n",
              "\n",
              "    .colab-df-convert:hover {\n",
              "      background-color: #E2EBFA;\n",
              "      box-shadow: 0px 1px 2px rgba(60, 64, 67, 0.3), 0px 1px 3px 1px rgba(60, 64, 67, 0.15);\n",
              "      fill: #174EA6;\n",
              "    }\n",
              "\n",
              "    [theme=dark] .colab-df-convert {\n",
              "      background-color: #3B4455;\n",
              "      fill: #D2E3FC;\n",
              "    }\n",
              "\n",
              "    [theme=dark] .colab-df-convert:hover {\n",
              "      background-color: #434B5C;\n",
              "      box-shadow: 0px 1px 3px 1px rgba(0, 0, 0, 0.15);\n",
              "      filter: drop-shadow(0px 1px 2px rgba(0, 0, 0, 0.3));\n",
              "      fill: #FFFFFF;\n",
              "    }\n",
              "  </style>\n",
              "\n",
              "      <script>\n",
              "        const buttonEl =\n",
              "          document.querySelector('#df-0b623b27-4c00-48dd-97e0-01e6e64d8e3c button.colab-df-convert');\n",
              "        buttonEl.style.display =\n",
              "          google.colab.kernel.accessAllowed ? 'block' : 'none';\n",
              "\n",
              "        async function convertToInteractive(key) {\n",
              "          const element = document.querySelector('#df-0b623b27-4c00-48dd-97e0-01e6e64d8e3c');\n",
              "          const dataTable =\n",
              "            await google.colab.kernel.invokeFunction('convertToInteractive',\n",
              "                                                     [key], {});\n",
              "          if (!dataTable) return;\n",
              "\n",
              "          const docLinkHtml = 'Like what you see? Visit the ' +\n",
              "            '<a target=\"_blank\" href=https://colab.research.google.com/notebooks/data_table.ipynb>data table notebook</a>'\n",
              "            + ' to learn more about interactive tables.';\n",
              "          element.innerHTML = '';\n",
              "          dataTable['output_type'] = 'display_data';\n",
              "          await google.colab.output.renderOutput(dataTable, element);\n",
              "          const docLink = document.createElement('div');\n",
              "          docLink.innerHTML = docLinkHtml;\n",
              "          element.appendChild(docLink);\n",
              "        }\n",
              "      </script>\n",
              "    </div>\n",
              "  </div>\n",
              "  "
            ]
          },
          "metadata": {},
          "execution_count": 9
        }
      ]
    },
    {
      "cell_type": "code",
      "source": [
        "data[\"poem_text\"][0]"
      ],
      "metadata": {
        "colab": {
          "base_uri": "https://localhost:8080/",
          "height": 123
        },
        "id": "uaSHHr-KNYRk",
        "outputId": "e79bac7a-91bf-423a-a7fe-ae7437696a10"
      },
      "execution_count": 11,
      "outputs": [
        {
          "output_type": "execute_result",
          "data": {
            "text/plain": [
              "'بدت تختال في حُلل الجمالِ\\nوجادت بالزيارة والوصال\\nتميس فلا يعادلها قضيب\\nوإن ترنو تداعب بالنصال\\nبمبسمها لَعَمرُ أبيك درٌّ\\nوفي أعماقها نبع الزلالِ\\nوخصر يستبيك إذا تولت\\nكغصن البان في كُثب الرمالِ\\nتبدّت كالقضيب على كثيب\\nوجلّت كالمنيرة في الليالي\\nفقمت أداعب الوجنات منها\\nوألثم ثغرها حكي اللآلي\\nوأهصرُ غصنها ضماً ولمّاً\\nوألهو باليمين وبالشمال\\nومن خلق العفاف لنا رقيب\\nبطهر الحب في حسن الخلال\\nوقد غاب الرقيب وطاب أنسي\\nوطير الحب يصدح بامتثال\\nتقول أراك تظهر لي اشتياقاً\\nوتفعل كالمودع للرحال\\nفقلت لها رويدك إن قلبي\\nوحبي لم يكن يوماً بسالي\\nولكني عزمت وفيّ عزمٌ\\nليهزأ بالأسنّة والعوالي\\nسئمت من المقام وكل شيء\\nإذا ما دام يُسأم لا محال\\nسأضرب في الحياة بسهم جدي\\nونحظى بالمسرة والوصال\\nوأرجع إن يشا الباري قريباً\\nإليك لنبتني صرح المعالي\\nفرقرق لؤلؤ في مقلتيها\\nوصاحت آه من مرّ الليالي\\nأتترك يا حبيب الروح قلباً\\nيكاد يذوب من شوقٍ لحالي\\nوتسلوني وأنت نعيم روحي\\nولا ترعى المودة أو تبالي\\nليحفظ الإله بكل أرض\\nويرزقك السلامة في الكمال\\nوجمنا لم نحر قولاً ولكن\\nنُهير الدمع فاض على التوالي\\nولاح الصبح من تحت الثريا\\nكما لاح المشيب بعين قال\\nفيالله كم ذابت قلوب\\nوكم سالت دموع كاللآلي\\nليوم السبت من شوال قمنا\\nلأربع قد خلون وعشر تال\\nركبنا اللجّة الزرقاء نحدو\\nوفوضنا الأمور لذي الجلال\\nوسار الفلك يمخر في عباب\\nتقاذفه الجنوب مع الشمال\\nولاح لنا الكويت على مغيب\\nوقد جزنا به وقت الزوال\\nومن حالول سرنا بانتباه\\nومجرانا السماك بكل حال\\nوهبت عند نصف الليل ريح\\nوهبّ الجمع يمسك بالحبال\\nيغطي الموج منّا كل شيء\\nويظهر بالعناد ولا يبالي\\nوصوت النوخذا يأتي إلينا\\nكما الوديان تهدر في الجبال\\nوعصف الموج شتتنا فبتنا\\nكريش لا يقر على مجال\\nبلاد قد زها العمران فيها\\nوشيدت بالرقيّ وبالجمال\\nترى بيض الأوانس سارحات\\nيشابهن الغصون على رمال\\nنشرن غدائراً وسَفرنَ حوراً\\nوكشفن الوجوه عن اللآلي'"
            ],
            "application/vnd.google.colaboratory.intrinsic+json": {
              "type": "string"
            }
          },
          "metadata": {},
          "execution_count": 11
        }
      ]
    },
    {
      "cell_type": "code",
      "source": [
        "data[\"category\"].unique()"
      ],
      "metadata": {
        "colab": {
          "base_uri": "https://localhost:8080/"
        },
        "id": "PQGflkogOPfK",
        "outputId": "c2a76745-3f2d-4adb-f5c8-32bb3fa398dd"
      },
      "execution_count": 14,
      "outputs": [
        {
          "output_type": "execute_result",
          "data": {
            "text/plain": [
              "array(['الإمارات', 'البحرين', 'الجزائر', 'السعودية', 'السودان', 'العراق',\n",
              "       'المغرب', 'اليمن', 'تونس', 'سوريا', 'عمان', 'فلسطين', 'لبنان',\n",
              "       'ليبيا', 'مصر', 'الأردن', 'الكويت', 'قطر', 'موريتانيا',\n",
              "       'العصر الجاهلي', 'العصر الإسلامي', 'العصر العباسي',\n",
              "       'العصر الايوبي', 'العصر العثماني', 'عصر المخضرمون', 'العصر الاموي',\n",
              "       'العصر الأندلسي', 'العصر المملوكي'], dtype=object)"
            ]
          },
          "metadata": {},
          "execution_count": 14
        }
      ]
    },
    {
      "cell_type": "code",
      "source": [
        "trans = {\n",
        "    'العراق':\"ARk\",\n",
        "    'السودان':\"SOD\",\n",
        "    'السعودية':\"SAD\",\n",
        "    'الجزائر':\"JSA\",\n",
        "    'البحرين':\"BHR\",\n",
        "    'الإمارات':\"IMR\",\n",
        "    \"لبنان\":\"LBN\",\n",
        "    \"فلسطين\":\"FLS\",\n",
        "    \"عمان\":\"AMN\",\n",
        "    \"سوريا\":\"SOR\",\n",
        "    \"تونس\":\"TNS\",\n",
        "    \"اليمن\":'YMN',\n",
        "    \"المغرب\":\"MGR\",\n",
        "    \"موريتانيا\":\"MRT\",\n",
        "    \"قطر\":\"KTR\",\n",
        "    \"الكويت\":\"KYT\",\n",
        "    \"الأردن\":\"ARD\",\n",
        "    \"مصر\":\"MSR\",\n",
        "    \"ليبيا\":\"LBY\",\n",
        "    \"العصر الإسلامي\":\"ASIS\",\n",
        "    \"العصر العباسي\":\"ASAB\",\n",
        "    \"العصر الجاهلي\":\"ASJA\",\n",
        "    \"العصر الاموي\":\"ASAM\",\n",
        "    \"عصر المخضرمون\":\"ASMD\",\n",
        "    \"العصر العثماني\":\"ASAS\",\n",
        "    \"العصر الايوبي\":\"ASAY\",\n",
        "    \"العصر المملوكي\":\"ASMM\",\n",
        "    \"العصر الأندلسي\":\"ASAN\"\n",
        "}"
      ],
      "metadata": {
        "id": "7DIwQwUndnJX"
      },
      "execution_count": 66,
      "outputs": []
    },
    {
      "cell_type": "code",
      "source": [
        "list(data[data.poem_title ==  'يا ندمي على سهم بن عوذ'][\"poem_text\"])[0].split('\\n')"
      ],
      "metadata": {
        "colab": {
          "base_uri": "https://localhost:8080/"
        },
        "id": "rVobAaEGP27m",
        "outputId": "bddbfd25-bf2f-4c3d-b859-78fafb5703aa"
      },
      "execution_count": 44,
      "outputs": [
        {
          "output_type": "execute_result",
          "data": {
            "text/plain": [
              "['يا نَدَمي عَلى سَهمِ بنِ عَوذٍ',\n",
              " 'نَدامَةَ ما سَفِهتُ وَضَلَّ حِلمي',\n",
              " 'نَدِمتُ نَدامَةَ الكُسَعِيِّ لَمّا',\n",
              " 'شَرَيتُ رِضى بَني سَهمٍ بِرَغمي',\n",
              " 'نَدِمتُ عَلى لِسانٍ فاتَ مِنّي',\n",
              " 'وَدِدتُ بِأَنَّهُ في جَوفِ عِكمِ',\n",
              " 'هُنالِكُم تَهَدَّمَتِ الرَكايا',\n",
              " 'وَضُمِّنَتِ الرَجا فَهَوَت بِذَمِّ']"
            ]
          },
          "metadata": {},
          "execution_count": 44
        }
      ]
    },
    {
      "cell_type": "code",
      "source": [
        "actress = {}\n",
        "for i in list(data[\"category\"].unique()):\n",
        "  actress[i]=list(data[data.category ==i][\"poet_name\"].unique())"
      ],
      "metadata": {
        "id": "jhvFAjCluZNa"
      },
      "execution_count": 72,
      "outputs": []
    },
    {
      "cell_type": "code",
      "source": [
        "obj = {}\n",
        "for i in list(data[\"category\"].unique()):\n",
        "  obj[i]={}\n",
        "  for j in list(data[data.category ==i][\"poet_name\"].unique()):\n",
        "    obj[i][j]={}\n",
        "    for k in list(data.loc[(data.category == i) & (data.poet_name == j)][\"poem_title\"]):\n",
        "      obj[i][j][k] = list(data[data.poem_title == k][\"poem_text\"])[0]"
      ],
      "metadata": {
        "id": "Rww9M65mQcEU"
      },
      "execution_count": 57,
      "outputs": []
    },
    {
      "cell_type": "code",
      "source": [
        "obj[\"ليبيا\"]['مصطفى بن زكري'].keys()"
      ],
      "metadata": {
        "colab": {
          "base_uri": "https://localhost:8080/"
        },
        "id": "-_MFf9YofixT",
        "outputId": "9491cf1b-4ef5-4274-a8f2-533e5dd243bf"
      },
      "execution_count": 63,
      "outputs": [
        {
          "output_type": "execute_result",
          "data": {
            "text/plain": [
              "dict_keys(['روح الروح واسقني بمدام', 'قوت روحي هواك بل روح ذاتي', 'رق لما هواك عقلي فما يقدر', 'حكم اخص بها منادمة الفكر', 'بين آس وأقاح', 'دعاك الهوى فاجب من دعاك', 'طرابلس الغرب لي وطن', 'أغرك صبري وفرط ودادي', 'لولا محياك والقوام', 'نزهت في روض المحاسن ناظري', 'لقد فرض الحب الحبيب وسنه', 'قالوا له خال بصفحة خده', 'عطر شمولك من بقية كأسه', 'مارست دين الحب فيك وفنه', 'فانظر إلى ورد الخدود وحوله', 'يا معرضا عني ولا يترفق', 'فتن الأنام بخده ولهيبه', 'عبث النسيم بقدها فتحركت', 'يا من تفضل بالزيارة', 'عبس الزمان وقد أتى', 'قام يسعى بقده المياس', 'شادن يدعي النبوة في الحسن', 'إن كنت حرمت الكلام', 'يا معرضا عمن تعرض', 'ومليك حسن في القلوب', 'لا تطلبوا ثأري من اللحظ', 'قالوا أدر ذكر الحبيب', 'نبت الأفاح بأرض مرجان', 'يا سائرا وبسائري', 'فعل النعاس فعائل الخمر', 'وافاك بدرك زائرا', 'بأبي من زارني ملتثما', 'والذي سواك لا أهوي', 'براني الضنى حتى خفيت عن الورى', 'سأسعف قلبي في الهوى بعذابه', 'وروض يروق الناظرين وإنما', 'تعجب قومي من بديع تغزلي', 'إذا لم تطق ذل الهوى وهوانه', 'جفاني بلا ذنب سوى أن حبه', 'بروحي من حيا سلامي برده', 'يسوم سلوى في هواه بصده', 'ولما أداروا عنده ذكر سيرتي', 'أسير هواك لا يرجو سراحا', 'فؤاد بين هجران وبين', 'بروحي من يمر بعاشقيه', 'بخلت وجاد طيفك باقترابي', 'يرق لوصفك الغزل', 'لوصفك ينتمي كلمي', 'تقنع بالورد من لطفه', 'يمر الزمان ولا نلتقي', 'يسوم منا العداة ودا', 'جرى بشقائي عليك القدر', 'لا برء من لسعة الفراق', 'يا فتنة النساك رفقا بمن', 'أفديه من طيف أتى وانثنى', 'وأهيف كالغصن لما رأى', 'قد كان صبري أستعين به', 'لا تنكروا سكري بألفاظه', 'قمر تجلى في سماء كماله', 'يهيم قلبي بمن رقت شمائله', 'عوارض آس ما أرى أم زبرجد', 'شهدت بحزمك في الأمور مساجد', 'بشير السعد أم ثغر التهاني', 'أو لم يأن أن يفيق من الغفلة', 'أشكو لهيب الأسى لموقده', 'ونارنجة مسكية العرف والشذا', 'ألا يا راجيا عفوا ولطفا', 'فعال البر لا تخفى ولكن', 'بدا ثغر الولاية في أمان', 'مراسم حمد أم محامد راسم', 'ينابيع ماء أم رحيق مرونق', 'إذا حمد الفرسان في حلبة العلا', 'كيف نخشى فاقة الجهال من', 'وكم سائل عن وصف من أسس العلا', 'يا سعد سر مترنما', 'زمانك حياة نشر الترقي', 'وظائف الإنسان في دنياه', 'قل للمهندس أترك برجل العذل', 'أيسلو صفات البدر من عشق البدرا', 'وينسبني للترك والروم معشر', 'أول ما ما يقوله ابن زكري'])"
            ]
          },
          "metadata": {},
          "execution_count": 63
        }
      ]
    },
    {
      "cell_type": "code",
      "source": [
        "list(obj.keys())[-1]"
      ],
      "metadata": {
        "colab": {
          "base_uri": "https://localhost:8080/",
          "height": 36
        },
        "id": "N4IQEpEXYdGo",
        "outputId": "323aea05-8064-42a1-dccc-a847e8da982d"
      },
      "execution_count": 48,
      "outputs": [
        {
          "output_type": "execute_result",
          "data": {
            "text/plain": [
              "'العصر المملوكي'"
            ],
            "application/vnd.google.colaboratory.intrinsic+json": {
              "type": "string"
            }
          },
          "metadata": {},
          "execution_count": 48
        }
      ]
    },
    {
      "cell_type": "code",
      "source": [
        "import json\n",
        "path = \"Data/\"\n",
        "for i in list(data[\"category\"].unique()):\n",
        "  with open(path+trans[i]+\".json\", 'w') as file:\n",
        "      # Use the json.dump() function to write the dictionary to the file\n",
        "      json.dump(obj[i], file)"
      ],
      "metadata": {
        "id": "eHL3Ovz9XaHE"
      },
      "execution_count": 68,
      "outputs": []
    },
    {
      "cell_type": "code",
      "source": [
        "with open(\"poet.json\", 'w') as file:\n",
        "    # Use the json.dump() function to write the dictionary to the file\n",
        "    json.dump(obj, file)"
      ],
      "metadata": {
        "id": "H5qPv2BzZhXw"
      },
      "execution_count": 60,
      "outputs": []
    },
    {
      "cell_type": "code",
      "source": [
        "with open(\"actress.json\", 'w') as file:\n",
        "    # Use the json.dump() function to write the dictionary to the file\n",
        "    json.dump(actress, file)"
      ],
      "metadata": {
        "id": "iCsPhGnYy2u3"
      },
      "execution_count": 74,
      "outputs": []
    },
    {
      "cell_type": "code",
      "source": [
        "import zipfile\n",
        "import os\n",
        "\n",
        "def zip_folder(folder_path, zip_path):\n",
        "    with zipfile.ZipFile(zip_path, 'w', zipfile.ZIP_DEFLATED) as zip_file:\n",
        "        for root, _, files in os.walk(folder_path):\n",
        "            for file in files:\n",
        "                file_path = os.path.join(root, file)\n",
        "                zip_file.write(file_path, os.path.relpath(file_path, folder_path))\n",
        "\n",
        "folder_path = 'Data'\n",
        "zip_path = 'allData/Data.zip'\n",
        "\n",
        "zip_folder(folder_path, zip_path)"
      ],
      "metadata": {
        "id": "mDYFvs8jqlGB"
      },
      "execution_count": 71,
      "outputs": []
    }
  ]
}