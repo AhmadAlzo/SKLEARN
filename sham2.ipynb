{
  "cells": [
    {
      "cell_type": "code",
      "execution_count": null,
      "metadata": {
        "id": "P44jWLA2v6hL"
      },
      "outputs": [],
      "source": [
        "!pip install pysiology"
      ]
    },
    {
      "cell_type": "code",
      "source": [
        "from google.colab import files\n",
        "files.upload()"
      ],
      "metadata": {
        "id": "_3E3Lfn1nRy0"
      },
      "execution_count": null,
      "outputs": []
    },
    {
      "cell_type": "code",
      "source": [
        "#@title Fix\n",
        "import os,shutil\n",
        "os.remove(\"/usr/local/lib/python3.9/dist-packages/pysiology/electromyography.py\")\n",
        "shutil.move(\"/content/electromyography.py\",\"/usr/local/lib/python3.9/dist-packages/pysiology/electromyography.py\")"
      ],
      "metadata": {
        "colab": {
          "base_uri": "https://localhost:8080/",
          "height": 36
        },
        "id": "YXOeS406h4xR",
        "outputId": "0cf976da-abbf-478c-84b0-cbfb73ca371b"
      },
      "execution_count": 3,
      "outputs": [
        {
          "output_type": "execute_result",
          "data": {
            "text/plain": [
              "'/usr/local/lib/python3.9/dist-packages/pysiology/electromyography.py'"
            ],
            "application/vnd.google.colaboratory.intrinsic+json": {
              "type": "string"
            }
          },
          "metadata": {},
          "execution_count": 3
        }
      ]
    },
    {
      "cell_type": "code",
      "source": [
        "! wget -r -N -c -np https://physionet.org/files/gaitndd/1.0.0/"
      ],
      "metadata": {
        "id": "11iWTi9ziDvk"
      },
      "execution_count": null,
      "outputs": []
    },
    {
      "cell_type": "code",
      "source": [
        "import pysiology\n",
        "import pandas as pd\n",
        "import re\n",
        "import numpy as np\n",
        "import matplotlib.pyplot as plt\n",
        "%matplotlib inline\n",
        "import seaborn as sns"
      ],
      "metadata": {
        "id": "S_tr68_si8A6",
        "colab": {
          "base_uri": "https://localhost:8080/"
        },
        "outputId": "b3289aff-5004-4401-d6ec-248788de0125"
      },
      "execution_count": 5,
      "outputs": [
        {
          "output_type": "stream",
          "name": "stdout",
          "text": [
            "Thank you for using Pysiology. If you use it in your work, please cite:\n",
            "Gabrieli G., Azhari A., Esposito G. (2020) PySiology: A Python Package for Physiological Feature Extraction. In: Esposito A., Faundez-Zanuy M., Morabito F., Pasero E. (eds) Neural Approaches to Dynamics of Signal Exchanges. Smart Innovation, Systems and Technologies, vol 151. Springer, Singapore. https://doi.org/10.1007/978-981-13-8950-4_35\n"
          ]
        }
      ]
    },
    {
      "cell_type": "code",
      "source": [
        "\n",
        "\n",
        "#EDA\n",
        "from collections import Counter\n",
        "# import pandas_profiling as pp\n",
        "# data preprocessing\n",
        "from sklearn.preprocessing import StandardScaler\n",
        "# data splitting\n",
        "from sklearn.model_selection import train_test_split\n",
        "# data modeling\n",
        "from sklearn.metrics import confusion_matrix,accuracy_score,roc_curve,classification_report\n",
        "from sklearn.linear_model import LogisticRegression\n",
        "from sklearn.naive_bayes import GaussianNB\n",
        "from xgboost import XGBClassifier\n",
        "from sklearn.ensemble import RandomForestClassifier, AdaBoostClassifier\n",
        "from sklearn.tree import DecisionTreeClassifier\n",
        "from sklearn.neighbors import KNeighborsClassifier\n",
        "from sklearn.naive_bayes import GaussianNB\n",
        "from sklearn.svm import SVC\n",
        "from sklearn.discriminant_analysis import LinearDiscriminantAnalysis\n",
        "from sklearn.linear_model import Perceptron\n",
        "# from mlxtend.classifier import StackingCVClassifier"
      ],
      "metadata": {
        "id": "WVimuaj7iFV4"
      },
      "execution_count": 38,
      "outputs": []
    },
    {
      "cell_type": "code",
      "source": [
        "data_1 = pd.read_csv(\"physionet.org/files/gaitndd/1.0.0/als1.ts\",delimiter=\"\\t\",names=[\"Elapsed Time (sec)\",\"Left Stride Interval (sec)\",\"Right Stride Interval (sec)\",\"Left Swing Interval (sec)\",\n",
        "                                                      \"Right Swing Interval (sec)\",\"Left Swing Interval (% of stride)\",\"Right Swing Interval (% of stride)\",\n",
        "                                                      \"Left Stance Interval (sec)\",\"Right Stance Interval (sec)\",\"Left Stance Interval (% of stride)\",\n",
        "                                                      \"Right Stance Interval (% of stride)\",\"Double Support Interval (sec)\",\"Double Support Interval (% of stride)\"])\n",
        "\n",
        "data_1.head()"
      ],
      "metadata": {
        "id": "ncTz0eROMI1s"
      },
      "execution_count": null,
      "outputs": []
    },
    {
      "cell_type": "code",
      "source": [
        "dataset_path = \"physionet.org/files/gaitndd/1.0.0\"\n",
        "dict_data = {'MNF': [], 'MDF': [],'PeakFrequency': [], 'MNP': [],'TTP': [], 'SM1': [],'SM2': [], 'SM3': []\n",
        "  ,'FR': [], 'PSR': [], 'VCF': [],'IEMG': [], 'MAV': [], 'MAV1': [], \n",
        " 'MAV2': [], 'SSI': [], 'VAR': [], 'TM3': [], 'TM4': [], 'TM5': [],  \n",
        " 'LOG': [], 'RMS': [], 'WL': [], 'AAC': [], 'DASDV': [], 'ZC': [], 'MYOP':[],   \n",
        " 'WAMP': [], 'SSC': [], 'MAVSLPk1':[],\"MAVSLPk2\":[],\"MAVSLPk3\":[],\"label\":[]}\n",
        "  \n",
        "folders = [os.path.join(dataset_path, folder_name) for folder_name in os.listdir(dataset_path) if str(folder_name).endswith(\".ts\")]  \n",
        "  \n",
        "labels = [\"als\",\"control\",\"hunt\",\"park\"]\n",
        "for folder in folders:  \n",
        "  if(re.split(\"\\d\", str(folder.split(\"/\")[4]))[0] != \"example\"):\n",
        "    df = pd.read_csv(folder,delimiter=\"\\t\",names=[\"Elapsed Time (sec)\",\"Left Stride Interval (sec)\",\"Right Stride Interval (sec)\",\"Left Swing Interval (sec)\",  \n",
        "                                                      \"Right Swing Interval (sec)\",\"Left Swing Interval (% of stride)\",\"Right Swing Interval (% of stride)\",  \n",
        "                                                      \"Left Stance Interval (sec)\",\"Right Stance Interval (sec)\",\"Left Stance Interval (% of stride)\",  \n",
        "                                                      \"Right Stance Interval (% of stride)\",\"Double Support Interval (sec)\",\"Double Support Interval (% of stride)\"])\n",
        "    target = [\"Left Stride Interval (sec)\",\"Right Stride Interval (sec)\",\"Left Swing Interval (sec)\",\"Right Swing Interval (sec)\",\n",
        "              \"Left Stance Interval (sec)\",\"Right Stance Interval (sec)\",\"Double Support Interval (sec)\"] \n",
        "    label = labels.index(re.split(\"\\d\", str(folder.split(\"/\")[4]))[0]) \n",
        "    for f in target:\n",
        "      data = df[f]\n",
        "      analyzedEMG = pysiology.electromyography.analyzeEMGnew(data,samplerate=200,preprocessing=False) \n",
        "      time,freq = analyzedEMG\n",
        "\n",
        "      freq = analyzedEMG[freq]\n",
        "      keys1 = list(freq.keys())\n",
        "\n",
        "      for i in keys1 :\n",
        "        dict_data[i].append(freq[i])\n",
        "\n",
        "      time = analyzedEMG[time]\n",
        "      keys2 = list(time.keys())[:-1]\n",
        "\n",
        "      for i in keys2 :\n",
        "        dict_data[i].append(time[i])\n",
        "\n",
        "      dict_data[\"MAVSLPk1\"].append(time[\"MAVSLPk\"][0])\n",
        "      dict_data[\"MAVSLPk2\"].append(time[\"MAVSLPk\"][1])\n",
        "      dict_data[\"MAVSLPk3\"].append(time[\"MAVSLPk\"][2])\n",
        "      dict_data[\"label\"].append(label)\n",
        "\n",
        "dataFrame = pd.DataFrame(dict_data)"
      ],
      "metadata": {
        "id": "fCA3lv7licGJ"
      },
      "execution_count": null,
      "outputs": []
    },
    {
      "cell_type": "code",
      "source": [
        "dataFrame"
      ],
      "metadata": {
        "id": "IIVfGA2HNtCh"
      },
      "execution_count": null,
      "outputs": []
    },
    {
      "cell_type": "code",
      "source": [
        "dataFrame.iloc[:60,:16]"
      ],
      "metadata": {
        "id": "kCR9uzLXJW-C"
      },
      "execution_count": null,
      "outputs": []
    },
    {
      "cell_type": "code",
      "source": [
        "dataFrame.iloc[:60,16:]"
      ],
      "metadata": {
        "id": "fVHhtD50I2Ws"
      },
      "execution_count": null,
      "outputs": []
    },
    {
      "cell_type": "code",
      "source": [
        "dataFrame.columns"
      ],
      "metadata": {
        "colab": {
          "base_uri": "https://localhost:8080/"
        },
        "id": "KYXo25tw-LjD",
        "outputId": "d80791e8-44f6-4133-feaf-f6490aff79b6"
      },
      "execution_count": 159,
      "outputs": [
        {
          "output_type": "execute_result",
          "data": {
            "text/plain": [
              "Index(['MNF', 'MDF', 'PeakFrequency', 'MNP', 'TTP', 'SM1', 'SM2', 'SM3', 'FR',\n",
              "       'PSR', 'VCF', 'IEMG', 'MAV', 'MAV1', 'MAV2', 'SSI', 'VAR', 'TM3', 'TM4',\n",
              "       'TM5', 'LOG', 'RMS', 'WL', 'AAC', 'DASDV', 'ZC', 'MYOP', 'WAMP', 'SSC',\n",
              "       'MAVSLPk1', 'MAVSLPk2', 'MAVSLPk3', 'label'],\n",
              "      dtype='object')"
            ]
          },
          "metadata": {},
          "execution_count": 159
        }
      ]
    },
    {
      "cell_type": "code",
      "source": [
        "dataFrame =  dataFrame.drop(columns='FR')\n",
        "dataFrame =  dataFrame.drop(columns='ZC')\n",
        "dataFrame =  dataFrame.drop(columns='MYOP')"
      ],
      "metadata": {
        "id": "yvnrc8I3I9R6"
      },
      "execution_count": 160,
      "outputs": []
    },
    {
      "cell_type": "code",
      "source": [
        "!pip -q install dataprep"
      ],
      "metadata": {
        "id": "4u73pjTdoNGo"
      },
      "execution_count": null,
      "outputs": []
    },
    {
      "cell_type": "code",
      "source": [
        "\n",
        "from dataprep.eda import plot, plot_correlation, plot_missing,create_db_report,create_report\n",
        "report = create_report(dataFrame)\n",
        "report"
      ],
      "metadata": {
        "id": "GymmQ3G25_Jq"
      },
      "execution_count": null,
      "outputs": []
    },
    {
      "cell_type": "code",
      "source": [
        "dataFrame[\"label\"].unique()"
      ],
      "metadata": {
        "colab": {
          "base_uri": "https://localhost:8080/"
        },
        "id": "Wck1fXuWQ6K3",
        "outputId": "a78bc6cf-0e10-4ae0-d6ad-67f9acf8df0c"
      },
      "execution_count": null,
      "outputs": [
        {
          "output_type": "execute_result",
          "data": {
            "text/plain": [
              "array([1, 2, 3, 0])"
            ]
          },
          "metadata": {},
          "execution_count": 13
        }
      ]
    },
    {
      "cell_type": "code",
      "source": [
        "  als = dataFrame[dataFrame.label == 0]\n",
        "  control = dataFrame[dataFrame.label==1]\n",
        "  hunt = dataFrame[dataFrame.label==2]\n",
        "  park = dataFrame[dataFrame.label==3]"
      ],
      "metadata": {
        "id": "jOFvnuNCUxIV"
      },
      "execution_count": 175,
      "outputs": []
    },
    {
      "cell_type": "code",
      "source": [
        "def plot_scatter(x,y):\n",
        "  fig, ax = plt.subplots()\n",
        "  fig.set_size_inches(13, 7) \n",
        "  # lables and scatter points\n",
        "  ax.scatter(als[x], als[y], label=\"als\", facecolor=\"blue\")\n",
        "  ax.scatter(control[x], control[y], label=\"control\", facecolor=\"green\")\n",
        "  ax.scatter(hunt[x], hunt[y], label=\"hunt\", facecolor=\"red\")\n",
        "  ax.scatter(park[x], park[y], label=\"park\", facecolor=\"Yellow\")\n",
        "  ax.set_xlabel(x)\n",
        "  ax.set_ylabel(y)\n",
        "  ax.grid()\n",
        "  ax.set_title(\"\")\n",
        "  ax.legend()"
      ],
      "metadata": {
        "id": "A00T9r9IAvRK"
      },
      "execution_count": 176,
      "outputs": []
    },
    {
      "cell_type": "code",
      "source": [
        "plot_scatter('MNF', 'MDF')"
      ],
      "metadata": {
        "id": "-P948YNKVgJ8"
      },
      "execution_count": null,
      "outputs": []
    },
    {
      "cell_type": "code",
      "source": [
        "plot_scatter('WL', 'AAC')"
      ],
      "metadata": {
        "id": "QlFSJhG7VlHu"
      },
      "execution_count": null,
      "outputs": []
    },
    {
      "cell_type": "code",
      "source": [
        "# plt.figure(figsize=(50,50))\n",
        "# sns.heatmap(dataFrame.corr())"
      ],
      "metadata": {
        "id": "FbYbaTPb1h_s"
      },
      "execution_count": null,
      "outputs": []
    },
    {
      "cell_type": "code",
      "source": [
        "data.describe()"
      ],
      "metadata": {
        "colab": {
          "base_uri": "https://localhost:8080/"
        },
        "id": "8AZaEJfc25Wn",
        "outputId": "b642a31d-23e3-495a-d1d9-fcf89e5bdf2d"
      },
      "execution_count": 161,
      "outputs": [
        {
          "output_type": "execute_result",
          "data": {
            "text/plain": [
              "count    277.000000\n",
              "mean       0.266257\n",
              "std        0.031327\n",
              "min        0.233300\n",
              "25%        0.253300\n",
              "50%        0.260000\n",
              "75%        0.270000\n",
              "max        0.633300\n",
              "Name: Double Support Interval (sec), dtype: float64"
            ]
          },
          "metadata": {},
          "execution_count": 161
        }
      ]
    },
    {
      "cell_type": "markdown",
      "source": [
        "# train model"
      ],
      "metadata": {
        "id": "K4jMm7xMWTlD"
      }
    },
    {
      "cell_type": "code",
      "source": [
        "from sklearn.model_selection import train_test_split\n",
        "\n",
        "# Set up X and y variables\n",
        "y, X = dataFrame['label'], dataFrame.drop(columns='label').astype('int64')\n",
        "\n",
        "# Split the data into training and test samples\n",
        "X_train, X_test, y_train, y_test = train_test_split(X, y, test_size=0.2, random_state=42)\n",
        "print(\"shape of X_train data: \", X_train.shape)\n",
        "print(\"shape of y_train data: \", y_train.shape)\n",
        "print(\"shape of X_test data: \", X_test.shape)\n",
        "print(\"shape of y_test data: \", y_test.shape)"
      ],
      "metadata": {
        "colab": {
          "base_uri": "https://localhost:8080/"
        },
        "id": "YYo85v1gnALG",
        "outputId": "9f111ee1-f089-476a-e189-f4e6cea2ae4b"
      },
      "execution_count": 162,
      "outputs": [
        {
          "output_type": "stream",
          "name": "stdout",
          "text": [
            "shape of X_train data:  (358, 29)\n",
            "shape of y_train data:  (358,)\n",
            "shape of X_test data:  (90, 29)\n",
            "shape of y_test data:  (90,)\n"
          ]
        }
      ]
    },
    {
      "cell_type": "markdown",
      "source": [
        "## LogisticRegression"
      ],
      "metadata": {
        "id": "-ZGcVJ0X4BLa"
      }
    },
    {
      "cell_type": "code",
      "source": [
        "m1 = 'Logistic Regression'\n",
        "lr = LogisticRegression(max_iter=5000,solver='lbfgs', fit_intercept=True,intercept_scaling=1)\n",
        "model = lr.fit(X_train, y_train)\n",
        "lr_predict = lr.predict(X_test)\n",
        "lr_conf_matrix = confusion_matrix(y_test, lr_predict)\n",
        "lr_acc_score = accuracy_score(y_test, lr_predict)\n",
        "print(\"confussion matrix\")\n",
        "print(lr_conf_matrix)\n",
        "print(\"\\n\")\n",
        "print(\"Accuracy of Logistic Regression:\",lr_acc_score*100,'\\n')\n",
        "print(classification_report(y_test,lr_predict))"
      ],
      "metadata": {
        "colab": {
          "base_uri": "https://localhost:8080/"
        },
        "id": "FPsFBDKa3J9V",
        "outputId": "a69f2e3c-d5c5-4900-9a6c-b83535e6fec9"
      },
      "execution_count": 163,
      "outputs": [
        {
          "output_type": "stream",
          "name": "stdout",
          "text": [
            "confussion matrix\n",
            "[[11  3  0  1]\n",
            " [ 0 21  0  4]\n",
            " [ 4  0 23  2]\n",
            " [ 3  3  7  8]]\n",
            "\n",
            "\n",
            "Accuracy of Logistic Regression: 70.0 \n",
            "\n",
            "              precision    recall  f1-score   support\n",
            "\n",
            "           0       0.61      0.73      0.67        15\n",
            "           1       0.78      0.84      0.81        25\n",
            "           2       0.77      0.79      0.78        29\n",
            "           3       0.53      0.38      0.44        21\n",
            "\n",
            "    accuracy                           0.70        90\n",
            "   macro avg       0.67      0.69      0.67        90\n",
            "weighted avg       0.69      0.70      0.69        90\n",
            "\n"
          ]
        },
        {
          "output_type": "stream",
          "name": "stderr",
          "text": [
            "/usr/local/lib/python3.9/dist-packages/sklearn/linear_model/_logistic.py:458: ConvergenceWarning: lbfgs failed to converge (status=1):\n",
            "STOP: TOTAL NO. of ITERATIONS REACHED LIMIT.\n",
            "\n",
            "Increase the number of iterations (max_iter) or scale the data as shown in:\n",
            "    https://scikit-learn.org/stable/modules/preprocessing.html\n",
            "Please also refer to the documentation for alternative solver options:\n",
            "    https://scikit-learn.org/stable/modules/linear_model.html#logistic-regression\n",
            "  n_iter_i = _check_optimize_result(\n"
          ]
        }
      ]
    },
    {
      "cell_type": "markdown",
      "source": [
        "## Naive Bayes"
      ],
      "metadata": {
        "id": "6giy1cPZ3Udr"
      }
    },
    {
      "cell_type": "code",
      "source": [
        "m2 = 'Naive Bayes'\n",
        "nb = GaussianNB( var_smoothing=1e-018)\n",
        "nb.fit(X_train,y_train)\n",
        "nbpred = nb.predict(X_test)\n",
        "nb_conf_matrix = confusion_matrix(y_test, nbpred)\n",
        "nb_acc_score = accuracy_score(y_test, nbpred)\n",
        "print(\"confussion matrix\")\n",
        "print(nb_conf_matrix)\n",
        "print(\"\\n\")\n",
        "print(\"Accuracy of Naive Bayes model:\",nb_acc_score*100,'\\n')\n",
        "print(classification_report(y_test,nbpred,zero_division=0))"
      ],
      "metadata": {
        "colab": {
          "base_uri": "https://localhost:8080/"
        },
        "id": "AcbXaPOX3Tr6",
        "outputId": "aed4c80a-c324-4fdf-9abd-b2af721a5f72"
      },
      "execution_count": 164,
      "outputs": [
        {
          "output_type": "stream",
          "name": "stdout",
          "text": [
            "confussion matrix\n",
            "[[ 2  8  5  0]\n",
            " [ 0 25  0  0]\n",
            " [ 2 18  9  0]\n",
            " [ 1 20  0  0]]\n",
            "\n",
            "\n",
            "Accuracy of Naive Bayes model: 40.0 \n",
            "\n",
            "              precision    recall  f1-score   support\n",
            "\n",
            "           0       0.40      0.13      0.20        15\n",
            "           1       0.35      1.00      0.52        25\n",
            "           2       0.64      0.31      0.42        29\n",
            "           3       0.00      0.00      0.00        21\n",
            "\n",
            "    accuracy                           0.40        90\n",
            "   macro avg       0.35      0.36      0.28        90\n",
            "weighted avg       0.37      0.40      0.31        90\n",
            "\n"
          ]
        }
      ]
    },
    {
      "cell_type": "markdown",
      "source": [
        "##  Support Vector Machine"
      ],
      "metadata": {
        "id": "0TG-tqZM4UEl"
      }
    },
    {
      "cell_type": "code",
      "source": [
        "m3 = 'Support Vector Classifier'\n",
        "svc =  SVC(kernel='rbf', C=2, max_iter=-1)\n",
        "svc.fit(X_train, y_train)\n",
        "svc_predicted = svc.predict(X_test)\n",
        "svc_conf_matrix = confusion_matrix(y_test, svc_predicted)\n",
        "svc_acc_score = accuracy_score(y_test, svc_predicted)\n",
        "print(\"confussion matrix\")\n",
        "print(svc_conf_matrix)\n",
        "print(\"\\n\")\n",
        "print(\"Accuracy of Support Vector Classifier:\",svc_acc_score*100,'\\n')\n",
        "print(classification_report(y_test,svc_predicted,zero_division=0))"
      ],
      "metadata": {
        "colab": {
          "base_uri": "https://localhost:8080/"
        },
        "id": "Bz_BhcHv3zy3",
        "outputId": "f7a34569-a4d5-40ba-b003-4a145b299490"
      },
      "execution_count": 165,
      "outputs": [
        {
          "output_type": "stream",
          "name": "stdout",
          "text": [
            "confussion matrix\n",
            "[[ 2  0 13  0]\n",
            " [ 0  0 25  0]\n",
            " [ 2  0 27  0]\n",
            " [ 0  0 21  0]]\n",
            "\n",
            "\n",
            "Accuracy of Support Vector Classifier: 32.22222222222222 \n",
            "\n",
            "              precision    recall  f1-score   support\n",
            "\n",
            "           0       0.50      0.13      0.21        15\n",
            "           1       0.00      0.00      0.00        25\n",
            "           2       0.31      0.93      0.47        29\n",
            "           3       0.00      0.00      0.00        21\n",
            "\n",
            "    accuracy                           0.32        90\n",
            "   macro avg       0.20      0.27      0.17        90\n",
            "weighted avg       0.18      0.32      0.19        90\n",
            "\n"
          ]
        }
      ]
    },
    {
      "cell_type": "markdown",
      "source": [
        "## DecisionTreeClassifier"
      ],
      "metadata": {
        "id": "v4hYi16I4Zpv"
      }
    },
    {
      "cell_type": "code",
      "source": [
        "m4 = 'DecisionTreeClassifier'\n",
        "dt = DecisionTreeClassifier(criterion = 'entropy',random_state=0,max_depth = 32)\n",
        "dt.fit(X_train, y_train)\n",
        "dt_predicted = dt.predict(X_test)\n",
        "dt_conf_matrix = confusion_matrix(y_test, dt_predicted)\n",
        "dt_acc_score = accuracy_score(y_test, dt_predicted)\n",
        "print(\"confussion matrix\")\n",
        "print(dt_conf_matrix)\n",
        "print(\"\\n\")\n",
        "print(\"Accuracy of DecisionTreeClassifier:\",dt_acc_score*100,'\\n')\n",
        "print(classification_report(y_test,dt_predicted))"
      ],
      "metadata": {
        "colab": {
          "base_uri": "https://localhost:8080/"
        },
        "id": "BF97k8853tr4",
        "outputId": "dce9baba-5312-4fbb-f0c5-a634b829ece6"
      },
      "execution_count": 166,
      "outputs": [
        {
          "output_type": "stream",
          "name": "stdout",
          "text": [
            "confussion matrix\n",
            "[[13  0  1  1]\n",
            " [ 1 18  2  4]\n",
            " [ 4  2 16  7]\n",
            " [ 2  3  8  8]]\n",
            "\n",
            "\n",
            "Accuracy of DecisionTreeClassifier: 61.111111111111114 \n",
            "\n",
            "              precision    recall  f1-score   support\n",
            "\n",
            "           0       0.65      0.87      0.74        15\n",
            "           1       0.78      0.72      0.75        25\n",
            "           2       0.59      0.55      0.57        29\n",
            "           3       0.40      0.38      0.39        21\n",
            "\n",
            "    accuracy                           0.61        90\n",
            "   macro avg       0.61      0.63      0.61        90\n",
            "weighted avg       0.61      0.61      0.61        90\n",
            "\n"
          ]
        }
      ]
    },
    {
      "cell_type": "markdown",
      "source": [
        "## RandomForestClassifier"
      ],
      "metadata": {
        "id": "-udQ1sIh4dMn"
      }
    },
    {
      "cell_type": "code",
      "source": [
        "m5 = 'Random Forest Classfier'\n",
        "rf = RandomForestClassifier(n_estimators=26, random_state=2,max_depth=5)\n",
        "rf.fit(X_train,y_train)\n",
        "rf_predicted = rf.predict(X_test)\n",
        "rf_conf_matrix = confusion_matrix(y_test, rf_predicted)\n",
        "rf_acc_score = accuracy_score(y_test, rf_predicted)\n",
        "print(\"confussion matrix\")\n",
        "print(rf_conf_matrix)\n",
        "print(\"\\n\")\n",
        "print(\"Accuracy of Random Forest:\",rf_acc_score*100,'\\n')\n",
        "print(classification_report(y_test,rf_predicted))"
      ],
      "metadata": {
        "colab": {
          "base_uri": "https://localhost:8080/"
        },
        "id": "qsW4BU1u3a2R",
        "outputId": "031606ed-3bea-4a45-ebdf-14f80f43b8f5"
      },
      "execution_count": 167,
      "outputs": [
        {
          "output_type": "stream",
          "name": "stdout",
          "text": [
            "confussion matrix\n",
            "[[11  3  1  0]\n",
            " [ 0 23  2  0]\n",
            " [ 5  1 21  2]\n",
            " [ 1  1 10  9]]\n",
            "\n",
            "\n",
            "Accuracy of Random Forest: 71.11111111111111 \n",
            "\n",
            "              precision    recall  f1-score   support\n",
            "\n",
            "           0       0.65      0.73      0.69        15\n",
            "           1       0.82      0.92      0.87        25\n",
            "           2       0.62      0.72      0.67        29\n",
            "           3       0.82      0.43      0.56        21\n",
            "\n",
            "    accuracy                           0.71        90\n",
            "   macro avg       0.73      0.70      0.70        90\n",
            "weighted avg       0.73      0.71      0.70        90\n",
            "\n"
          ]
        }
      ]
    },
    {
      "cell_type": "markdown",
      "source": [
        "## KNeighborsClassifier"
      ],
      "metadata": {
        "id": "kyXCDXQt4tHf"
      }
    },
    {
      "cell_type": "code",
      "source": [
        "m6 = 'K-NeighborsClassifier'\n",
        "knn = KNeighborsClassifier(n_neighbors=16)\n",
        "knn.fit(X_train, y_train)\n",
        "knn_predicted = knn.predict(X_test)\n",
        "knn_conf_matrix = confusion_matrix(y_test, knn_predicted)\n",
        "knn_acc_score = accuracy_score(y_test, knn_predicted)\n",
        "print(\"confussion matrix\")\n",
        "print(knn_conf_matrix)\n",
        "print(\"\\n\")\n",
        "print(\"Accuracy of K-NeighborsClassifier:\",knn_acc_score*100,'\\n')\n",
        "print(classification_report(y_test,knn_predicted))"
      ],
      "metadata": {
        "colab": {
          "base_uri": "https://localhost:8080/"
        },
        "id": "sVnLbudG3o57",
        "outputId": "b9684d48-e08b-4a93-835d-4fe61ce66127"
      },
      "execution_count": 168,
      "outputs": [
        {
          "output_type": "stream",
          "name": "stdout",
          "text": [
            "confussion matrix\n",
            "[[ 5  3  3  4]\n",
            " [ 0 18  6  1]\n",
            " [ 0  6 20  3]\n",
            " [ 2  8 10  1]]\n",
            "\n",
            "\n",
            "Accuracy of K-NeighborsClassifier: 48.888888888888886 \n",
            "\n",
            "              precision    recall  f1-score   support\n",
            "\n",
            "           0       0.71      0.33      0.45        15\n",
            "           1       0.51      0.72      0.60        25\n",
            "           2       0.51      0.69      0.59        29\n",
            "           3       0.11      0.05      0.07        21\n",
            "\n",
            "    accuracy                           0.49        90\n",
            "   macro avg       0.46      0.45      0.43        90\n",
            "weighted avg       0.45      0.49      0.45        90\n",
            "\n"
          ]
        }
      ]
    },
    {
      "cell_type": "markdown",
      "source": [
        "## Extreme Gradient Boost"
      ],
      "metadata": {
        "id": "lItQKYp73g29"
      }
    },
    {
      "cell_type": "code",
      "source": [
        "m7 = 'Extreme Gradient Boost'\n",
        "xgb = XGBClassifier(learning_rate=0.01, n_estimators=25, max_depth=15,gamma=0.6, subsample=0.52,colsample_bytree=0.6,seed=27, \n",
        "                    reg_lambda=2, booster='dart', colsample_bylevel=0.6, colsample_bynode=0.5)\n",
        "xgb.fit(X_train, y_train)\n",
        "xgb_predicted = xgb.predict(X_test)\n",
        "xgb_conf_matrix = confusion_matrix(y_test, xgb_predicted)\n",
        "xgb_acc_score = accuracy_score(y_test, xgb_predicted)\n",
        "print(\"confussion matrix\")\n",
        "print(xgb_conf_matrix)\n",
        "print(\"\\n\")\n",
        "print(\"Accuracy of Extreme Gradient Boost:\",xgb_acc_score*100,'\\n')\n",
        "print(classification_report(y_test,xgb_predicted))"
      ],
      "metadata": {
        "colab": {
          "base_uri": "https://localhost:8080/"
        },
        "id": "qCdpvnce3gE6",
        "outputId": "bc0ad374-9d1f-451b-a90f-ba5b6c47e2f2"
      },
      "execution_count": 169,
      "outputs": [
        {
          "output_type": "stream",
          "name": "stdout",
          "text": [
            "confussion matrix\n",
            "[[11  3  1  0]\n",
            " [ 0 21  2  2]\n",
            " [ 5  1 18  5]\n",
            " [ 1  2 11  7]]\n",
            "\n",
            "\n",
            "Accuracy of Extreme Gradient Boost: 63.33333333333333 \n",
            "\n",
            "              precision    recall  f1-score   support\n",
            "\n",
            "           0       0.65      0.73      0.69        15\n",
            "           1       0.78      0.84      0.81        25\n",
            "           2       0.56      0.62      0.59        29\n",
            "           3       0.50      0.33      0.40        21\n",
            "\n",
            "    accuracy                           0.63        90\n",
            "   macro avg       0.62      0.63      0.62        90\n",
            "weighted avg       0.62      0.63      0.62        90\n",
            "\n"
          ]
        }
      ]
    },
    {
      "cell_type": "markdown",
      "source": [
        "# AdaBoostClassifier"
      ],
      "metadata": {
        "id": "gIC5pQgmjFzr"
      }
    },
    {
      "cell_type": "code",
      "source": [
        "m8 = 'Ada Boost Classifier'\n",
        "Ada = AdaBoostClassifier(n_estimators=500, learning_rate = 0.75)\n",
        "Ada.fit(X_train,y_train)\n",
        "Ada_predicted = Ada.predict(X_test)\n",
        "Ada_conf_matrix = confusion_matrix(y_test, Ada_predicted)\n",
        "Ada_acc_score = accuracy_score(y_test, Ada_predicted)\n",
        "print(\"confussion matrix\")\n",
        "print(Ada_conf_matrix)\n",
        "print(\"\\n\")\n",
        "print(\"Accuracy of Ada Boost:\",Ada_acc_score*100,'\\n')\n",
        "print(classification_report(y_test,Ada_predicted))"
      ],
      "metadata": {
        "colab": {
          "base_uri": "https://localhost:8080/"
        },
        "id": "c9g6WlBBjHmS",
        "outputId": "ff3b3558-1558-4d63-f89e-977bb10dc396"
      },
      "execution_count": 170,
      "outputs": [
        {
          "output_type": "stream",
          "name": "stdout",
          "text": [
            "confussion matrix\n",
            "[[10  0  1  4]\n",
            " [ 1 19  2  3]\n",
            " [ 5  1 16  7]\n",
            " [ 1  2  8 10]]\n",
            "\n",
            "\n",
            "Accuracy of Ada Boost: 61.111111111111114 \n",
            "\n",
            "              precision    recall  f1-score   support\n",
            "\n",
            "           0       0.59      0.67      0.62        15\n",
            "           1       0.86      0.76      0.81        25\n",
            "           2       0.59      0.55      0.57        29\n",
            "           3       0.42      0.48      0.44        21\n",
            "\n",
            "    accuracy                           0.61        90\n",
            "   macro avg       0.62      0.61      0.61        90\n",
            "weighted avg       0.63      0.61      0.62        90\n",
            "\n"
          ]
        }
      ]
    },
    {
      "cell_type": "markdown",
      "source": [
        "# LDA"
      ],
      "metadata": {
        "id": "t9FZs5mMpbFZ"
      }
    },
    {
      "cell_type": "code",
      "source": [
        "\n",
        "m9 = 'Linear Discriminant Analysis'\n",
        "LDA = LinearDiscriminantAnalysis()\n",
        "LDA.fit(X_train,y_train)\n",
        "LDA_predicted = LDA.predict(X_test)\n",
        "LDA_conf_matrix = confusion_matrix(y_test, LDA_predicted)\n",
        "LDA_acc_score = accuracy_score(y_test, LDA_predicted)\n",
        "print(\"confussion matrix\")\n",
        "print(LDA_conf_matrix)\n",
        "print(\"\\n\")\n",
        "print(\"Accuracy of Linear Discriminant Analysis:\",LDA_acc_score*100,'\\n')\n",
        "print(classification_report(y_test,LDA_predicted))\n"
      ],
      "metadata": {
        "colab": {
          "base_uri": "https://localhost:8080/"
        },
        "id": "FKXP_vl4pcp9",
        "outputId": "8c07ff79-0121-4d28-f364-e189f9f23b74"
      },
      "execution_count": 171,
      "outputs": [
        {
          "output_type": "stream",
          "name": "stdout",
          "text": [
            "confussion matrix\n",
            "[[12  2  0  1]\n",
            " [ 1 20  1  3]\n",
            " [ 2  2 22  3]\n",
            " [ 2  3  8  8]]\n",
            "\n",
            "\n",
            "Accuracy of Linear Discriminant Analysis: 68.88888888888889 \n",
            "\n",
            "              precision    recall  f1-score   support\n",
            "\n",
            "           0       0.71      0.80      0.75        15\n",
            "           1       0.74      0.80      0.77        25\n",
            "           2       0.71      0.76      0.73        29\n",
            "           3       0.53      0.38      0.44        21\n",
            "\n",
            "    accuracy                           0.69        90\n",
            "   macro avg       0.67      0.68      0.67        90\n",
            "weighted avg       0.68      0.69      0.68        90\n",
            "\n"
          ]
        }
      ]
    },
    {
      "cell_type": "markdown",
      "source": [
        "#Perceptron"
      ],
      "metadata": {
        "id": "ufAK1S1oqLrq"
      }
    },
    {
      "cell_type": "code",
      "source": [
        "m9 = 'Linear Discriminant Analysis'\n",
        "Perc = Perceptron(random_state=0,max_iter=1000)\n",
        "Perc.fit(X_train,y_train)\n",
        "Perc_predicted = Perc.predict(X_test)\n",
        "Perc_conf_matrix = confusion_matrix(y_test, Perc_predicted)\n",
        "Perc_acc_score = accuracy_score(y_test, Perc_predicted)\n",
        "print(\"confussion matrix\")\n",
        "print(Perc_conf_matrix)\n",
        "print(\"\\n\")\n",
        "print(\"Accuracy of Perceptron:\",Perc_acc_score*100,'\\n')\n",
        "print(classification_report(y_test,Perc_predicted))"
      ],
      "metadata": {
        "colab": {
          "base_uri": "https://localhost:8080/"
        },
        "id": "XBRDn19LqRtW",
        "outputId": "b0c72085-84e8-433a-9372-0b7956879add"
      },
      "execution_count": 172,
      "outputs": [
        {
          "output_type": "stream",
          "name": "stdout",
          "text": [
            "confussion matrix\n",
            "[[ 7  1  7  0]\n",
            " [ 0 10 10  5]\n",
            " [ 4  1 22  2]\n",
            " [ 1  4 13  3]]\n",
            "\n",
            "\n",
            "Accuracy of Perceptron: 46.666666666666664 \n",
            "\n",
            "              precision    recall  f1-score   support\n",
            "\n",
            "           0       0.58      0.47      0.52        15\n",
            "           1       0.62      0.40      0.49        25\n",
            "           2       0.42      0.76      0.54        29\n",
            "           3       0.30      0.14      0.19        21\n",
            "\n",
            "    accuracy                           0.47        90\n",
            "   macro avg       0.48      0.44      0.44        90\n",
            "weighted avg       0.48      0.47      0.44        90\n",
            "\n"
          ]
        }
      ]
    },
    {
      "cell_type": "markdown",
      "source": [
        "## conclusion"
      ],
      "metadata": {
        "id": "iAMKBxkp4DyT"
      }
    },
    {
      "cell_type": "code",
      "source": [
        "model_ev = pd.DataFrame({'Model': ['Logistic Regression','Naive Bayes','Random Forest','Extreme Gradient Boost',\n",
        "                    'K-Nearest Neighbour','Decision Tree','Support Vector Machine',\"Ada Boost\",\"LDA\",\"Perceptron\"], 'Accuracy': [lr_acc_score*100,\n",
        "                    nb_acc_score*100,rf_acc_score*100,xgb_acc_score*100,knn_acc_score*100,dt_acc_score*100,svc_acc_score*100,Ada_acc_score*100,LDA_acc_score*100,Perc_acc_score*100]})\n",
        "model_ev"
      ],
      "metadata": {
        "colab": {
          "base_uri": "https://localhost:8080/",
          "height": 363
        },
        "id": "KlUdkuS04PWq",
        "outputId": "a98b8d99-3501-4719-efa1-16d10ce65f5c"
      },
      "execution_count": 173,
      "outputs": [
        {
          "output_type": "execute_result",
          "data": {
            "text/plain": [
              "                    Model   Accuracy\n",
              "0     Logistic Regression  70.000000\n",
              "1             Naive Bayes  40.000000\n",
              "2           Random Forest  71.111111\n",
              "3  Extreme Gradient Boost  63.333333\n",
              "4     K-Nearest Neighbour  48.888889\n",
              "5           Decision Tree  61.111111\n",
              "6  Support Vector Machine  32.222222\n",
              "7               Ada Boost  61.111111\n",
              "8                     LDA  68.888889\n",
              "9              Perceptron  46.666667"
            ],
            "text/html": [
              "\n",
              "  <div id=\"df-6454650b-9ee9-4552-ba59-dadea521436e\">\n",
              "    <div class=\"colab-df-container\">\n",
              "      <div>\n",
              "<style scoped>\n",
              "    .dataframe tbody tr th:only-of-type {\n",
              "        vertical-align: middle;\n",
              "    }\n",
              "\n",
              "    .dataframe tbody tr th {\n",
              "        vertical-align: top;\n",
              "    }\n",
              "\n",
              "    .dataframe thead th {\n",
              "        text-align: right;\n",
              "    }\n",
              "</style>\n",
              "<table border=\"1\" class=\"dataframe\">\n",
              "  <thead>\n",
              "    <tr style=\"text-align: right;\">\n",
              "      <th></th>\n",
              "      <th>Model</th>\n",
              "      <th>Accuracy</th>\n",
              "    </tr>\n",
              "  </thead>\n",
              "  <tbody>\n",
              "    <tr>\n",
              "      <th>0</th>\n",
              "      <td>Logistic Regression</td>\n",
              "      <td>70.000000</td>\n",
              "    </tr>\n",
              "    <tr>\n",
              "      <th>1</th>\n",
              "      <td>Naive Bayes</td>\n",
              "      <td>40.000000</td>\n",
              "    </tr>\n",
              "    <tr>\n",
              "      <th>2</th>\n",
              "      <td>Random Forest</td>\n",
              "      <td>71.111111</td>\n",
              "    </tr>\n",
              "    <tr>\n",
              "      <th>3</th>\n",
              "      <td>Extreme Gradient Boost</td>\n",
              "      <td>63.333333</td>\n",
              "    </tr>\n",
              "    <tr>\n",
              "      <th>4</th>\n",
              "      <td>K-Nearest Neighbour</td>\n",
              "      <td>48.888889</td>\n",
              "    </tr>\n",
              "    <tr>\n",
              "      <th>5</th>\n",
              "      <td>Decision Tree</td>\n",
              "      <td>61.111111</td>\n",
              "    </tr>\n",
              "    <tr>\n",
              "      <th>6</th>\n",
              "      <td>Support Vector Machine</td>\n",
              "      <td>32.222222</td>\n",
              "    </tr>\n",
              "    <tr>\n",
              "      <th>7</th>\n",
              "      <td>Ada Boost</td>\n",
              "      <td>61.111111</td>\n",
              "    </tr>\n",
              "    <tr>\n",
              "      <th>8</th>\n",
              "      <td>LDA</td>\n",
              "      <td>68.888889</td>\n",
              "    </tr>\n",
              "    <tr>\n",
              "      <th>9</th>\n",
              "      <td>Perceptron</td>\n",
              "      <td>46.666667</td>\n",
              "    </tr>\n",
              "  </tbody>\n",
              "</table>\n",
              "</div>\n",
              "      <button class=\"colab-df-convert\" onclick=\"convertToInteractive('df-6454650b-9ee9-4552-ba59-dadea521436e')\"\n",
              "              title=\"Convert this dataframe to an interactive table.\"\n",
              "              style=\"display:none;\">\n",
              "        \n",
              "  <svg xmlns=\"http://www.w3.org/2000/svg\" height=\"24px\"viewBox=\"0 0 24 24\"\n",
              "       width=\"24px\">\n",
              "    <path d=\"M0 0h24v24H0V0z\" fill=\"none\"/>\n",
              "    <path d=\"M18.56 5.44l.94 2.06.94-2.06 2.06-.94-2.06-.94-.94-2.06-.94 2.06-2.06.94zm-11 1L8.5 8.5l.94-2.06 2.06-.94-2.06-.94L8.5 2.5l-.94 2.06-2.06.94zm10 10l.94 2.06.94-2.06 2.06-.94-2.06-.94-.94-2.06-.94 2.06-2.06.94z\"/><path d=\"M17.41 7.96l-1.37-1.37c-.4-.4-.92-.59-1.43-.59-.52 0-1.04.2-1.43.59L10.3 9.45l-7.72 7.72c-.78.78-.78 2.05 0 2.83L4 21.41c.39.39.9.59 1.41.59.51 0 1.02-.2 1.41-.59l7.78-7.78 2.81-2.81c.8-.78.8-2.07 0-2.86zM5.41 20L4 18.59l7.72-7.72 1.47 1.35L5.41 20z\"/>\n",
              "  </svg>\n",
              "      </button>\n",
              "      \n",
              "  <style>\n",
              "    .colab-df-container {\n",
              "      display:flex;\n",
              "      flex-wrap:wrap;\n",
              "      gap: 12px;\n",
              "    }\n",
              "\n",
              "    .colab-df-convert {\n",
              "      background-color: #E8F0FE;\n",
              "      border: none;\n",
              "      border-radius: 50%;\n",
              "      cursor: pointer;\n",
              "      display: none;\n",
              "      fill: #1967D2;\n",
              "      height: 32px;\n",
              "      padding: 0 0 0 0;\n",
              "      width: 32px;\n",
              "    }\n",
              "\n",
              "    .colab-df-convert:hover {\n",
              "      background-color: #E2EBFA;\n",
              "      box-shadow: 0px 1px 2px rgba(60, 64, 67, 0.3), 0px 1px 3px 1px rgba(60, 64, 67, 0.15);\n",
              "      fill: #174EA6;\n",
              "    }\n",
              "\n",
              "    [theme=dark] .colab-df-convert {\n",
              "      background-color: #3B4455;\n",
              "      fill: #D2E3FC;\n",
              "    }\n",
              "\n",
              "    [theme=dark] .colab-df-convert:hover {\n",
              "      background-color: #434B5C;\n",
              "      box-shadow: 0px 1px 3px 1px rgba(0, 0, 0, 0.15);\n",
              "      filter: drop-shadow(0px 1px 2px rgba(0, 0, 0, 0.3));\n",
              "      fill: #FFFFFF;\n",
              "    }\n",
              "  </style>\n",
              "\n",
              "      <script>\n",
              "        const buttonEl =\n",
              "          document.querySelector('#df-6454650b-9ee9-4552-ba59-dadea521436e button.colab-df-convert');\n",
              "        buttonEl.style.display =\n",
              "          google.colab.kernel.accessAllowed ? 'block' : 'none';\n",
              "\n",
              "        async function convertToInteractive(key) {\n",
              "          const element = document.querySelector('#df-6454650b-9ee9-4552-ba59-dadea521436e');\n",
              "          const dataTable =\n",
              "            await google.colab.kernel.invokeFunction('convertToInteractive',\n",
              "                                                     [key], {});\n",
              "          if (!dataTable) return;\n",
              "\n",
              "          const docLinkHtml = 'Like what you see? Visit the ' +\n",
              "            '<a target=\"_blank\" href=https://colab.research.google.com/notebooks/data_table.ipynb>data table notebook</a>'\n",
              "            + ' to learn more about interactive tables.';\n",
              "          element.innerHTML = '';\n",
              "          dataTable['output_type'] = 'display_data';\n",
              "          await google.colab.output.renderOutput(dataTable, element);\n",
              "          const docLink = document.createElement('div');\n",
              "          docLink.innerHTML = docLinkHtml;\n",
              "          element.appendChild(docLink);\n",
              "        }\n",
              "      </script>\n",
              "    </div>\n",
              "  </div>\n",
              "  "
            ]
          },
          "metadata": {},
          "execution_count": 173
        }
      ]
    },
    {
      "cell_type": "code",
      "source": [
        "colors = ['red','green','blue','Cyan','Lime','yellow','orange',\"DeepPink\",\"OrangeRed\",\"DarkMagenta\"]\n",
        "plt.figure(figsize=(25,8))\n",
        "plt.title(\"barplot Represent Accuracy of different models\")\n",
        "plt.xlabel(\"Accuracy %\")\n",
        "plt.ylabel(\"Algorithms\")\n",
        "plt.bar(model_ev['Model'],model_ev['Accuracy'],color = colors)\n",
        "plt.show()"
      ],
      "metadata": {
        "colab": {
          "base_uri": "https://localhost:8080/",
          "height": 691
        },
        "id": "fuPp6lbi4RMy",
        "outputId": "3eaf5082-97c1-4184-cf3c-b7a5b0255fe0"
      },
      "execution_count": 174,
      "outputs": [
        {
          "output_type": "display_data",
          "data": {
            "text/plain": [
              "<Figure size 2500x800 with 1 Axes>"
            ],
            "image/png": "[encoded data removed]"
          },
          "metadata": {}
        }
      ]
    }
  ],
  "metadata": {
    "colab": {
      "provenance": []
    },
    "kernelspec": {
      "display_name": "Python 3",
      "name": "python3"
    },
    "language_info": {
      "name": "python"
    }
  },
  "nbformat": 4,
  "nbformat_minor": 0
}