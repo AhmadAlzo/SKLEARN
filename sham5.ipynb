{
  "cells": [
    {
      "cell_type": "code",
      "execution_count": null,
      "metadata": {
        "id": "P44jWLA2v6hL"
      },
      "outputs": [],
      "source": [
        "!pip install pysiology"
      ]
    },
    {
      "cell_type": "code",
      "source": [
        "from google.colab import files\n",
        "files.upload()"
      ],
      "metadata": {
        "id": "z9JnN2aiwS5v"
      },
      "execution_count": null,
      "outputs": []
    },
    {
      "cell_type": "code",
      "source": [
        "#@title Fix\n",
        "import os,shutil\n",
        "os.remove(\"/usr/local/lib/python3.10/dist-packages/pysiology/electromyography.py\")\n",
        "shutil.move(\"/content/electromyography.py\",\"/usr/local/lib/python3.10/dist-packages/pysiology/electromyography.py\")"
      ],
      "metadata": {
        "colab": {
          "base_uri": "https://localhost:8080/",
          "height": 36
        },
        "id": "YXOeS406h4xR",
        "outputId": "c1319c31-1e7f-435f-8f49-6584fc7ea4e2"
      },
      "execution_count": 3,
      "outputs": [
        {
          "output_type": "execute_result",
          "data": {
            "text/plain": [
              "'/usr/local/lib/python3.10/dist-packages/pysiology/electromyography.py'"
            ],
            "application/vnd.google.colaboratory.intrinsic+json": {
              "type": "string"
            }
          },
          "metadata": {},
          "execution_count": 3
        }
      ]
    },
    {
      "cell_type": "code",
      "source": [
        "! wget -r -N -c -np https://physionet.org/files/gaitndd/1.0.0/"
      ],
      "metadata": {
        "id": "11iWTi9ziDvk"
      },
      "execution_count": null,
      "outputs": []
    },
    {
      "cell_type": "code",
      "source": [
        "import pysiology\n",
        "import pandas as pd\n",
        "import re\n",
        "import numpy as np\n",
        "import matplotlib.pyplot as plt\n",
        "%matplotlib inline\n",
        "import seaborn as sns\n",
        "import os,shutil"
      ],
      "metadata": {
        "id": "S_tr68_si8A6",
        "colab": {
          "base_uri": "https://localhost:8080/"
        },
        "outputId": "8da0cfab-bfc6-4a29-cade-9d9ae4327e0c"
      },
      "execution_count": 1,
      "outputs": [
        {
          "output_type": "stream",
          "name": "stdout",
          "text": [
            "Thank you for using Pysiology. If you use it in your work, please cite:\n",
            "Gabrieli G., Azhari A., Esposito G. (2020) PySiology: A Python Package for Physiological Feature Extraction. In: Esposito A., Faundez-Zanuy M., Morabito F., Pasero E. (eds) Neural Approaches to Dynamics of Signal Exchanges. Smart Innovation, Systems and Technologies, vol 151. Springer, Singapore. https://doi.org/10.1007/978-981-13-8950-4_35\n"
          ]
        }
      ]
    },
    {
      "cell_type": "code",
      "source": [
        "#EDA\n",
        "from collections import Counter\n",
        "# data preprocessing\n",
        "from sklearn.preprocessing import StandardScaler\n",
        "# data splitting\n",
        "from sklearn.model_selection import train_test_split\n",
        "# data modeling\n",
        "from sklearn.metrics import confusion_matrix,accuracy_score,roc_curve,classification_report\n",
        "from sklearn.linear_model import LogisticRegression\n",
        "from sklearn.naive_bayes import GaussianNB\n",
        "from xgboost import XGBClassifier\n",
        "from sklearn.ensemble import RandomForestClassifier, AdaBoostClassifier\n",
        "from sklearn.tree import DecisionTreeClassifier\n",
        "from sklearn.neighbors import KNeighborsClassifier\n",
        "from sklearn.naive_bayes import GaussianNB\n",
        "from sklearn.svm import SVC\n",
        "from sklearn.discriminant_analysis import LinearDiscriminantAnalysis\n",
        "from sklearn.neural_network import MLPClassifier\n",
        "# from mlxtend.classifier import StackingCVClassifier"
      ],
      "metadata": {
        "id": "WVimuaj7iFV4"
      },
      "execution_count": 2,
      "outputs": []
    },
    {
      "cell_type": "code",
      "source": [
        "data_1 = pd.read_csv(\"physionet.org/files/gaitndd/1.0.0/als1.ts\",delimiter=\"\\t\",names=[\"Elapsed Time (sec)\",\"Left Stride Interval (sec)\",\"Right Stride Interval (sec)\",\"Left Swing Interval (sec)\",\n",
        "                                                      \"Right Swing Interval (sec)\",\"Left Swing Interval (% of stride)\",\"Right Swing Interval (% of stride)\",\n",
        "                                                      \"Left Stance Interval (sec)\",\"Right Stance Interval (sec)\",\"Left Stance Interval (% of stride)\",\n",
        "                                                      \"Right Stance Interval (% of stride)\",\"Double Support Interval (sec)\",\"Double Support Interval (% of stride)\"])\n",
        "\n",
        "data_1.head()"
      ],
      "metadata": {
        "id": "ncTz0eROMI1s"
      },
      "execution_count": null,
      "outputs": []
    },
    {
      "cell_type": "code",
      "source": [
        "dataset_path = \"physionet.org/files/gaitndd/1.0.0\"\n",
        "dict_data = {'MNF': [], 'MDF': [],'PeakFrequency': [], 'MNP': [],'TTP': [], 'SM1': [],'SM2': [], 'SM3': []\n",
        "  ,'FR': [], 'PSR': [], 'VCF': [],'IEMG': [], 'MAV': [], 'MAV1': [], \n",
        " 'MAV2': [], 'SSI': [], 'VAR': [], 'TM3': [], 'TM4': [], 'TM5': [],  \n",
        " 'LOG': [], 'RMS': [], 'WL': [], 'AAC': [], 'DASDV': [], 'ZC': [], 'MYOP':[],   \n",
        " 'WAMP': [], 'SSC': [], 'MAVSLPk1':[],\"MAVSLPk2\":[],\"MAVSLPk3\":[],\"label\":[]}\n",
        "  \n",
        "folders = [os.path.join(dataset_path, folder_name) for folder_name in os.listdir(dataset_path) if str(folder_name).endswith(\".ts\")]  \n",
        "  \n",
        "labels = [\"als\",\"control\",\"hunt\",\"park\"]\n",
        "for folder in folders:  \n",
        "  if(re.split(\"\\d\", str(folder.split(\"/\")[4]))[0] != \"example\"):\n",
        "    df = pd.read_csv(folder,delimiter=\"\\t\",names=[\"Elapsed Time (sec)\",\"Left Stride Interval (sec)\",\"Right Stride Interval (sec)\",\"Left Swing Interval (sec)\",  \n",
        "                                                      \"Right Swing Interval (sec)\",\"Left Swing Interval (% of stride)\",\"Right Swing Interval (% of stride)\",  \n",
        "                                                      \"Left Stance Interval (sec)\",\"Right Stance Interval (sec)\",\"Left Stance Interval (% of stride)\",  \n",
        "                                                      \"Right Stance Interval (% of stride)\",\"Double Support Interval (sec)\",\"Double Support Interval (% of stride)\"])\n",
        "    target = [\"Left Stride Interval (sec)\",\"Right Stride Interval (sec)\",\"Left Swing Interval (sec)\",\"Right Swing Interval (sec)\",\n",
        "              \"Left Stance Interval (sec)\",\"Right Stance Interval (sec)\",\"Double Support Interval (sec)\"] \n",
        "    label = labels.index(re.split(\"\\d\", str(folder.split(\"/\")[4]))[0]) \n",
        "    for f in target:\n",
        "      data = df[f]\n",
        "      analyzedEMG = pysiology.electromyography.analyzeEMGnew(data,samplerate=200,preprocessing=False) \n",
        "      time,freq = analyzedEMG\n",
        "\n",
        "      freq = analyzedEMG[freq]\n",
        "      keys1 = list(freq.keys())\n",
        "\n",
        "      for i in keys1 :\n",
        "        dict_data[i].append(freq[i])\n",
        "\n",
        "      time = analyzedEMG[time]\n",
        "      keys2 = list(time.keys())[:-1]\n",
        "\n",
        "      for i in keys2 :\n",
        "        dict_data[i].append(time[i])\n",
        "\n",
        "      dict_data[\"MAVSLPk1\"].append(time[\"MAVSLPk\"][0])\n",
        "      dict_data[\"MAVSLPk2\"].append(time[\"MAVSLPk\"][1])\n",
        "      dict_data[\"MAVSLPk3\"].append(time[\"MAVSLPk\"][2])\n",
        "      dict_data[\"label\"].append(label)\n",
        "\n",
        "dataFrame = pd.DataFrame(dict_data)"
      ],
      "metadata": {
        "id": "fCA3lv7licGJ"
      },
      "execution_count": null,
      "outputs": []
    },
    {
      "cell_type": "code",
      "source": [
        "dataFrame"
      ],
      "metadata": {
        "id": "IIVfGA2HNtCh"
      },
      "execution_count": null,
      "outputs": []
    },
    {
      "cell_type": "code",
      "source": [
        "dataFrame.iloc[:60,:16]"
      ],
      "metadata": {
        "id": "kCR9uzLXJW-C"
      },
      "execution_count": null,
      "outputs": []
    },
    {
      "cell_type": "code",
      "source": [
        "dataFrame.iloc[:60,16:]"
      ],
      "metadata": {
        "id": "fVHhtD50I2Ws"
      },
      "execution_count": null,
      "outputs": []
    },
    {
      "cell_type": "code",
      "source": [
        "dataFrame.columns"
      ],
      "metadata": {
        "colab": {
          "base_uri": "https://localhost:8080/"
        },
        "id": "KYXo25tw-LjD",
        "outputId": "d80791e8-44f6-4133-feaf-f6490aff79b6"
      },
      "execution_count": null,
      "outputs": [
        {
          "output_type": "execute_result",
          "data": {
            "text/plain": [
              "Index(['MNF', 'MDF', 'PeakFrequency', 'MNP', 'TTP', 'SM1', 'SM2', 'SM3', 'FR',\n",
              "       'PSR', 'VCF', 'IEMG', 'MAV', 'MAV1', 'MAV2', 'SSI', 'VAR', 'TM3', 'TM4',\n",
              "       'TM5', 'LOG', 'RMS', 'WL', 'AAC', 'DASDV', 'ZC', 'MYOP', 'WAMP', 'SSC',\n",
              "       'MAVSLPk1', 'MAVSLPk2', 'MAVSLPk3', 'label'],\n",
              "      dtype='object')"
            ]
          },
          "metadata": {},
          "execution_count": 159
        }
      ]
    },
    {
      "cell_type": "code",
      "source": [
        "dataFrame =  dataFrame.drop(columns='FR')\n",
        "dataFrame =  dataFrame.drop(columns='ZC')\n",
        "dataFrame =  dataFrame.drop(columns='MYOP')"
      ],
      "metadata": {
        "id": "yvnrc8I3I9R6"
      },
      "execution_count": 4,
      "outputs": []
    },
    {
      "cell_type": "code",
      "source": [
        "# !pip -q install dataprep"
      ],
      "metadata": {
        "id": "4u73pjTdoNGo"
      },
      "execution_count": null,
      "outputs": []
    },
    {
      "cell_type": "code",
      "source": [
        "\n",
        "# from dataprep.eda import plot, plot_correlation, plot_missing,create_db_report,create_report\n",
        "# report = create_report(dataFrame)\n",
        "# report"
      ],
      "metadata": {
        "id": "GymmQ3G25_Jq"
      },
      "execution_count": null,
      "outputs": []
    },
    {
      "cell_type": "code",
      "source": [
        "dataFrame[\"label\"].unique()"
      ],
      "metadata": {
        "colab": {
          "base_uri": "https://localhost:8080/"
        },
        "id": "Wck1fXuWQ6K3",
        "outputId": "a78bc6cf-0e10-4ae0-d6ad-67f9acf8df0c"
      },
      "execution_count": null,
      "outputs": [
        {
          "output_type": "execute_result",
          "data": {
            "text/plain": [
              "array([1, 2, 3, 0])"
            ]
          },
          "metadata": {},
          "execution_count": 13
        }
      ]
    },
    {
      "cell_type": "code",
      "source": [
        "  als = dataFrame[dataFrame.label == 0]\n",
        "  control = dataFrame[dataFrame.label==1]\n",
        "  hunt = dataFrame[dataFrame.label==2]\n",
        "  park = dataFrame[dataFrame.label==3]"
      ],
      "metadata": {
        "id": "jOFvnuNCUxIV"
      },
      "execution_count": null,
      "outputs": []
    },
    {
      "cell_type": "code",
      "source": [
        "def plot_scatter(x,y):\n",
        "  fig, ax = plt.subplots()\n",
        "  fig.set_size_inches(13, 7) \n",
        "  # lables and scatter points\n",
        "  ax.scatter(als[x], als[y], label=\"als\", facecolor=\"blue\")\n",
        "  ax.scatter(control[x], control[y], label=\"control\", facecolor=\"green\")\n",
        "  ax.scatter(hunt[x], hunt[y], label=\"hunt\", facecolor=\"red\")\n",
        "  ax.scatter(park[x], park[y], label=\"park\", facecolor=\"Yellow\")\n",
        "  ax.set_xlabel(x)\n",
        "  ax.set_ylabel(y)\n",
        "  ax.grid()\n",
        "  ax.set_title(\"\")\n",
        "  ax.legend()"
      ],
      "metadata": {
        "id": "A00T9r9IAvRK"
      },
      "execution_count": null,
      "outputs": []
    },
    {
      "cell_type": "code",
      "source": [
        "plot_scatter('MNF', 'MDF')"
      ],
      "metadata": {
        "id": "-P948YNKVgJ8"
      },
      "execution_count": null,
      "outputs": []
    },
    {
      "cell_type": "code",
      "source": [
        "plot_scatter('WL', 'AAC')"
      ],
      "metadata": {
        "id": "QlFSJhG7VlHu"
      },
      "execution_count": null,
      "outputs": []
    },
    {
      "cell_type": "code",
      "source": [
        "# plt.figure(figsize=(50,50))\n",
        "# sns.heatmap(dataFrame.corr())"
      ],
      "metadata": {
        "id": "FbYbaTPb1h_s"
      },
      "execution_count": null,
      "outputs": []
    },
    {
      "cell_type": "code",
      "source": [
        "data.describe()"
      ],
      "metadata": {
        "id": "8AZaEJfc25Wn"
      },
      "execution_count": null,
      "outputs": []
    },
    {
      "cell_type": "markdown",
      "source": [
        "# Main function"
      ],
      "metadata": {
        "id": "K4jMm7xMWTlD"
      }
    },
    {
      "cell_type": "code",
      "source": [
        "def Main(dataFrame,columns):\n",
        "    models = {\n",
        "        'Logistic Regression':LogisticRegression(max_iter=5000,solver='lbfgs', fit_intercept=True,intercept_scaling=1),\n",
        "        \"Naive Bayes\":GaussianNB( var_smoothing=1e-018),\n",
        "        'Support Vector ':SVC(kernel='rbf', C=2, max_iter=-1),\n",
        "        \"Decision Tree\":DecisionTreeClassifier(criterion = 'entropy',random_state=0,max_depth = 32),\n",
        "        \"Random Forest\": RandomForestClassifier(n_estimators=26, random_state=2,max_depth=5),\n",
        "        \"K-Neighbors\":KNeighborsClassifier(n_neighbors=16),\n",
        "        \"Extreme Gradient Boost\":XGBClassifier(learning_rate=0.01, n_estimators=25, max_depth=15,gamma=0.6, subsample=0.52,colsample_bytree=0.6,seed=27, reg_lambda=2, booster='dart', colsample_bylevel=0.6, colsample_bynode=0.5),\n",
        "        \"Ada Boost\":AdaBoostClassifier(n_estimators=500, learning_rate = 0.75),\n",
        "        \"LDA\":LinearDiscriminantAnalysis(),\n",
        "        \"MLP\":MLPClassifier(hidden_layer_sizes=(100,100,100), max_iter=500, alpha=0.0001,solver='sgd',  random_state=21,tol=0.000000001)\n",
        "    }\n",
        "    acc_score={}\n",
        "    colors = ['red','green','blue','Cyan','Lime','yellow','orange',\"DeepPink\",\"OrangeRed\",\"DarkMagenta\"]\n",
        "    y, X = dataFrame['label'], dataFrame.loc[:,columns].astype('int32')\n",
        "    X_train, X_test, y_train, y_test = train_test_split(X, y, test_size=0.2, random_state=42) \n",
        "    score = []\n",
        "    models_names = list(models.keys())\n",
        "    for i in models_names:\n",
        "      models[i].fit(X_train, y_train)\n",
        "      predict = models[i].predict(X_test)\n",
        "      acc = accuracy_score(y_test, predict)\n",
        "      score.append(acc*100)\n",
        "    acc_score[\"Model\"] = models_names\n",
        "    acc_score[\"Accuracy\"] = score\n",
        "    frame =  pd.DataFrame(acc_score)\n",
        "    plt.figure(figsize=(20,10))\n",
        "    plt.title(\"barplot Represent Accuracy of different models\")\n",
        "    plt.xlabel(\"Algorithms\")\n",
        "    plt.ylabel(\"Accuracy %\")\n",
        "    plt.bar(frame['Model'],frame['Accuracy'],color = colors)\n",
        "    plt.show()\n",
        "    return [frame,models.copy()]"
      ],
      "metadata": {
        "id": "YYo85v1gnALG"
      },
      "execution_count": 5,
      "outputs": []
    },
    {
      "cell_type": "markdown",
      "source": [
        "# feature_selection"
      ],
      "metadata": {
        "id": "2RVOzeyi8NGh"
      }
    },
    {
      "cell_type": "code",
      "source": [
        "from sklearn.svm import SVR\n",
        "from sklearn.feature_selection import SequentialFeatureSelector\n",
        "\n",
        "y, X = dataFrame['label'], dataFrame.drop(columns='label').astype('int32')\n",
        "\n",
        "\n",
        "knn = KNeighborsClassifier(n_neighbors=10)\n",
        "sfs = SequentialFeatureSelector(knn, n_features_to_select=10)\n",
        "sfs.fit(X, y)\n",
        "selected_features = list(X.columns[sfs.get_support()])\n",
        "selected_features"
      ],
      "metadata": {
        "colab": {
          "base_uri": "https://localhost:8080/"
        },
        "id": "PpW3sfw58JIY",
        "outputId": "bfacbe67-bfd0-4c5a-ac72-83f938e2d10b"
      },
      "execution_count": 15,
      "outputs": [
        {
          "output_type": "execute_result",
          "data": {
            "text/plain": [
              "['PeakFrequency',\n",
              " 'MNP',\n",
              " 'TTP',\n",
              " 'SM1',\n",
              " 'SM2',\n",
              " 'SM3',\n",
              " 'MAV1',\n",
              " 'TM5',\n",
              " 'WL',\n",
              " 'SSC']"
            ]
          },
          "metadata": {},
          "execution_count": 15
        }
      ]
    },
    {
      "cell_type": "code",
      "source": [
        "[acc, models ]=Main(dataFrame,selected_features)"
      ],
      "metadata": {
        "colab": {
          "base_uri": "https://localhost:8080/",
          "height": 872
        },
        "id": "kML1irIfvmQg",
        "outputId": "757e439e-d3b9-4378-893d-9ce6b8d6d8d4"
      },
      "execution_count": 16,
      "outputs": [
        {
          "output_type": "display_data",
          "data": {
            "text/plain": [
              "<Figure size 2000x1000 with 1 Axes>"
            ],
            "image/png": "[encoded data removed]"
          },
          "metadata": {}
        }
      ]
    },
    {
      "cell_type": "code",
      "source": [
        "from sklearn.feature_selection import RFECV\n",
        "from sklearn.svm import SVR\n",
        "y, X = dataFrame['label'], dataFrame.drop(columns='label').astype('int32')\n",
        "estimator =LogisticRegression()\n",
        "\n",
        "selector = RFECV(estimator, step=1, cv=5)\n",
        "selector = selector.fit(X, y)\n",
        "\n",
        "selected_features = list(X.columns[selector.support_])\n"
      ],
      "metadata": {
        "id": "9eagC3IKz2u1"
      },
      "execution_count": null,
      "outputs": []
    },
    {
      "cell_type": "code",
      "source": [
        "selected_features"
      ],
      "metadata": {
        "colab": {
          "base_uri": "https://localhost:8080/"
        },
        "id": "-i8xAfXEBIEn",
        "outputId": "34caadb0-e8e1-49b9-8c7d-5056e6555b76"
      },
      "execution_count": 11,
      "outputs": [
        {
          "output_type": "execute_result",
          "data": {
            "text/plain": [
              "['MNF',\n",
              " 'MDF',\n",
              " 'PeakFrequency',\n",
              " 'SM1',\n",
              " 'SM2',\n",
              " 'VCF',\n",
              " 'IEMG',\n",
              " 'SSI',\n",
              " 'TM3',\n",
              " 'TM4',\n",
              " 'TM5',\n",
              " 'WL',\n",
              " 'DASDV',\n",
              " 'WAMP',\n",
              " 'SSC']"
            ]
          },
          "metadata": {},
          "execution_count": 11
        }
      ]
    },
    {
      "cell_type": "code",
      "source": [
        "[acc, models ]=Main(dataFrame,selected_features)"
      ],
      "metadata": {
        "colab": {
          "base_uri": "https://localhost:8080/",
          "height": 872
        },
        "id": "ixurgcCd9oLx",
        "outputId": "2142b8fc-3969-4fbf-a87e-2008fe7b45f7"
      },
      "execution_count": 12,
      "outputs": [
        {
          "output_type": "display_data",
          "data": {
            "text/plain": [
              "<Figure size 2000x1000 with 1 Axes>"
            ],
            "image/png": "[encoded data removed]"
          },
          "metadata": {}
        }
      ]
    }
  ],
  "metadata": {
    "colab": {
      "provenance": []
    },
    "kernelspec": {
      "display_name": "Python 3",
      "name": "python3"
    },
    "language_info": {
      "name": "python"
    }
  },
  "nbformat": 4,
  "nbformat_minor": 0
}