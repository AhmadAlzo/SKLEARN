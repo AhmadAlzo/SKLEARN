{
  "cells": [
    {
      "cell_type": "code",
      "execution_count": null,
      "metadata": {
        "id": "P44jWLA2v6hL"
      },
      "outputs": [],
      "source": [
        "!pip install pysiology"
      ]
    },
    {
      "cell_type": "code",
      "source": [
        "from google.colab import files\n",
        "files.upload()"
      ],
      "metadata": {
        "id": "z9JnN2aiwS5v"
      },
      "execution_count": null,
      "outputs": []
    },
    {
      "cell_type": "code",
      "source": [
        "#@title Fix\n",
        "import os,shutil\n",
        "os.remove(\"/usr/local/lib/python3.10/dist-packages/pysiology/electromyography.py\")\n",
        "shutil.move(\"/content/electromyography.py\",\"/usr/local/lib/python3.10/dist-packages/pysiology/electromyography.py\")"
      ],
      "metadata": {
        "colab": {
          "base_uri": "https://localhost:8080/",
          "height": 35
        },
        "id": "YXOeS406h4xR",
        "outputId": "ff45c775-0333-45e7-db01-1b707d0fb71a"
      },
      "execution_count": 3,
      "outputs": [
        {
          "output_type": "execute_result",
          "data": {
            "text/plain": [
              "'/usr/local/lib/python3.10/dist-packages/pysiology/electromyography.py'"
            ],
            "application/vnd.google.colaboratory.intrinsic+json": {
              "type": "string"
            }
          },
          "metadata": {},
          "execution_count": 3
        }
      ]
    },
    {
      "cell_type": "code",
      "source": [
        "! wget -r -N -c -np https://physionet.org/files/gaitndd/1.0.0/"
      ],
      "metadata": {
        "id": "11iWTi9ziDvk"
      },
      "execution_count": null,
      "outputs": []
    },
    {
      "cell_type": "code",
      "source": [
        "import pysiology\n",
        "import pandas as pd\n",
        "import re\n",
        "import numpy as np\n",
        "import matplotlib.pyplot as plt\n",
        "%matplotlib inline\n",
        "import seaborn as sns\n",
        "import os,shutil"
      ],
      "metadata": {
        "id": "S_tr68_si8A6",
        "colab": {
          "base_uri": "https://localhost:8080/"
        },
        "outputId": "472bed3d-a0c6-4264-a6d8-8fb3edb56c89"
      },
      "execution_count": 5,
      "outputs": [
        {
          "output_type": "stream",
          "name": "stdout",
          "text": [
            "Thank you for using Pysiology. If you use it in your work, please cite:\n",
            "Gabrieli G., Azhari A., Esposito G. (2020) PySiology: A Python Package for Physiological Feature Extraction. In: Esposito A., Faundez-Zanuy M., Morabito F., Pasero E. (eds) Neural Approaches to Dynamics of Signal Exchanges. Smart Innovation, Systems and Technologies, vol 151. Springer, Singapore. https://doi.org/10.1007/978-981-13-8950-4_35\n"
          ]
        }
      ]
    },
    {
      "cell_type": "code",
      "source": [
        "#EDA\n",
        "from collections import Counter\n",
        "# data preprocessing\n",
        "from sklearn.preprocessing import StandardScaler\n",
        "# data splitting\n",
        "from sklearn.model_selection import train_test_split\n",
        "# data modeling\n",
        "from sklearn.metrics import confusion_matrix,accuracy_score,roc_curve,classification_report\n",
        "from sklearn.linear_model import LogisticRegression\n",
        "from sklearn.naive_bayes import GaussianNB\n",
        "from xgboost import XGBClassifier\n",
        "from sklearn.ensemble import RandomForestClassifier, AdaBoostClassifier\n",
        "from sklearn.tree import DecisionTreeClassifier\n",
        "from sklearn.neighbors import KNeighborsClassifier\n",
        "from sklearn.naive_bayes import GaussianNB\n",
        "from sklearn.svm import SVC\n",
        "from sklearn.discriminant_analysis import LinearDiscriminantAnalysis\n",
        "from sklearn.neural_network import MLPClassifier\n",
        "# from mlxtend.classifier import StackingCVClassifier"
      ],
      "metadata": {
        "id": "WVimuaj7iFV4"
      },
      "execution_count": 6,
      "outputs": []
    },
    {
      "cell_type": "code",
      "source": [
        "data_1 = pd.read_csv(\"physionet.org/files/gaitndd/1.0.0/als1.ts\",delimiter=\"\\t\",names=[\"Elapsed Time (sec)\",\"Left Stride Interval (sec)\",\"Right Stride Interval (sec)\",\"Left Swing Interval (sec)\",\n",
        "                                                      \"Right Swing Interval (sec)\",\"Left Swing Interval (% of stride)\",\"Right Swing Interval (% of stride)\",\n",
        "                                                      \"Left Stance Interval (sec)\",\"Right Stance Interval (sec)\",\"Left Stance Interval (% of stride)\",\n",
        "                                                      \"Right Stance Interval (% of stride)\",\"Double Support Interval (sec)\",\"Double Support Interval (% of stride)\"])\n",
        "\n",
        "data_1.head()"
      ],
      "metadata": {
        "id": "ncTz0eROMI1s"
      },
      "execution_count": null,
      "outputs": []
    },
    {
      "cell_type": "code",
      "source": [
        "dataset_path = \"physionet.org/files/gaitndd/1.0.0\"\n",
        "dict_data = {'MNF': [], 'MDF': [],'PeakFrequency': [], 'MNP': [],'TTP': [], 'SM1': [],'SM2': [], 'SM3': []\n",
        "  ,'FR': [], 'PSR': [], 'VCF': [],'IEMG': [], 'MAV': [], 'MAV1': [], \n",
        " 'MAV2': [], 'SSI': [], 'VAR': [], 'TM3': [], 'TM4': [], 'TM5': [],  \n",
        " 'LOG': [], 'RMS': [], 'WL': [], 'AAC': [], 'DASDV': [], 'ZC': [], 'MYOP':[],   \n",
        " 'WAMP': [], 'SSC': [], 'MAVSLPk1':[],\"MAVSLPk2\":[],\"MAVSLPk3\":[],\"label\":[]}\n",
        "  \n",
        "folders = [os.path.join(dataset_path, folder_name) for folder_name in os.listdir(dataset_path) if str(folder_name).endswith(\".ts\")]  \n",
        "  \n",
        "labels = [\"als\",\"control\",\"hunt\",\"park\"]\n",
        "for folder in folders:  \n",
        "  if(re.split(\"\\d\", str(folder.split(\"/\")[4]))[0] != \"example\"):\n",
        "    df = pd.read_csv(folder,delimiter=\"\\t\",names=[\"Elapsed Time (sec)\",\"Left Stride Interval (sec)\",\"Right Stride Interval (sec)\",\"Left Swing Interval (sec)\",  \n",
        "                                                      \"Right Swing Interval (sec)\",\"Left Swing Interval (% of stride)\",\"Right Swing Interval (% of stride)\",  \n",
        "                                                      \"Left Stance Interval (sec)\",\"Right Stance Interval (sec)\",\"Left Stance Interval (% of stride)\",  \n",
        "                                                      \"Right Stance Interval (% of stride)\",\"Double Support Interval (sec)\",\"Double Support Interval (% of stride)\"])\n",
        "    target = [\"Left Stride Interval (sec)\",\"Right Stride Interval (sec)\",\"Left Swing Interval (sec)\",\"Right Swing Interval (sec)\",\n",
        "              \"Left Stance Interval (sec)\",\"Right Stance Interval (sec)\",\"Double Support Interval (sec)\"] \n",
        "    label = labels.index(re.split(\"\\d\", str(folder.split(\"/\")[4]))[0]) \n",
        "    for f in target:\n",
        "      data = df[f]\n",
        "      analyzedEMG = pysiology.electromyography.analyzeEMGnew(data,samplerate=200,preprocessing=False) \n",
        "      time,freq = analyzedEMG\n",
        "\n",
        "      freq = analyzedEMG[freq]\n",
        "      keys1 = list(freq.keys())\n",
        "\n",
        "      for i in keys1 :\n",
        "        dict_data[i].append(freq[i])\n",
        "\n",
        "      time = analyzedEMG[time]\n",
        "      keys2 = list(time.keys())[:-1]\n",
        "\n",
        "      for i in keys2 :\n",
        "        dict_data[i].append(time[i])\n",
        "\n",
        "      dict_data[\"MAVSLPk1\"].append(time[\"MAVSLPk\"][0])\n",
        "      dict_data[\"MAVSLPk2\"].append(time[\"MAVSLPk\"][1])\n",
        "      dict_data[\"MAVSLPk3\"].append(time[\"MAVSLPk\"][2])\n",
        "      dict_data[\"label\"].append(label)\n",
        "\n",
        "dataFrame = pd.DataFrame(dict_data)"
      ],
      "metadata": {
        "id": "fCA3lv7licGJ"
      },
      "execution_count": null,
      "outputs": []
    },
    {
      "cell_type": "code",
      "source": [
        "dataFrame"
      ],
      "metadata": {
        "id": "IIVfGA2HNtCh"
      },
      "execution_count": null,
      "outputs": []
    },
    {
      "cell_type": "code",
      "source": [
        "dataFrame.iloc[:60,:16]"
      ],
      "metadata": {
        "id": "kCR9uzLXJW-C"
      },
      "execution_count": null,
      "outputs": []
    },
    {
      "cell_type": "code",
      "source": [
        "dataFrame.iloc[:60,16:]"
      ],
      "metadata": {
        "id": "fVHhtD50I2Ws"
      },
      "execution_count": null,
      "outputs": []
    },
    {
      "cell_type": "code",
      "source": [
        "dataFrame.columns"
      ],
      "metadata": {
        "colab": {
          "base_uri": "https://localhost:8080/"
        },
        "id": "KYXo25tw-LjD",
        "outputId": "20ac4819-66e0-4882-c928-f8549c92bfe0"
      },
      "execution_count": 8,
      "outputs": [
        {
          "output_type": "execute_result",
          "data": {
            "text/plain": [
              "Index(['MNF', 'MDF', 'PeakFrequency', 'MNP', 'TTP', 'SM1', 'SM2', 'SM3', 'FR',\n",
              "       'PSR', 'VCF', 'IEMG', 'MAV', 'MAV1', 'MAV2', 'SSI', 'VAR', 'TM3', 'TM4',\n",
              "       'TM5', 'LOG', 'RMS', 'WL', 'AAC', 'DASDV', 'ZC', 'MYOP', 'WAMP', 'SSC',\n",
              "       'MAVSLPk1', 'MAVSLPk2', 'MAVSLPk3', 'label'],\n",
              "      dtype='object')"
            ]
          },
          "metadata": {},
          "execution_count": 8
        }
      ]
    },
    {
      "cell_type": "code",
      "source": [
        "dataFrame =  dataFrame.drop(columns='FR')\n",
        "dataFrame =  dataFrame.drop(columns='ZC')\n",
        "dataFrame =  dataFrame.drop(columns='MYOP')"
      ],
      "metadata": {
        "id": "yvnrc8I3I9R6"
      },
      "execution_count": 9,
      "outputs": []
    },
    {
      "cell_type": "code",
      "source": [
        "# !pip -q install dataprep"
      ],
      "metadata": {
        "id": "4u73pjTdoNGo"
      },
      "execution_count": null,
      "outputs": []
    },
    {
      "cell_type": "code",
      "source": [
        "\n",
        "# from dataprep.eda import plot, plot_correlation, plot_missing,create_db_report,create_report\n",
        "# report = create_report(dataFrame)\n",
        "# report"
      ],
      "metadata": {
        "id": "GymmQ3G25_Jq"
      },
      "execution_count": null,
      "outputs": []
    },
    {
      "cell_type": "code",
      "source": [
        "dataFrame[\"label\"].unique()"
      ],
      "metadata": {
        "colab": {
          "base_uri": "https://localhost:8080/"
        },
        "id": "Wck1fXuWQ6K3",
        "outputId": "d522c4b8-197c-4578-b76a-9703a0606e1f"
      },
      "execution_count": 10,
      "outputs": [
        {
          "output_type": "execute_result",
          "data": {
            "text/plain": [
              "array([2, 1, 0, 3])"
            ]
          },
          "metadata": {},
          "execution_count": 10
        }
      ]
    },
    {
      "cell_type": "code",
      "source": [
        "  als = dataFrame[dataFrame.label == 0]\n",
        "  control = dataFrame[dataFrame.label==1]\n",
        "  hunt = dataFrame[dataFrame.label==2]\n",
        "  park = dataFrame[dataFrame.label==3]"
      ],
      "metadata": {
        "id": "jOFvnuNCUxIV"
      },
      "execution_count": null,
      "outputs": []
    },
    {
      "cell_type": "code",
      "source": [
        "def plot_scatter(x,y):\n",
        "  fig, ax = plt.subplots()\n",
        "  fig.set_size_inches(13, 7) \n",
        "  # lables and scatter points\n",
        "  ax.scatter(als[x], als[y], label=\"als\", facecolor=\"blue\")\n",
        "  ax.scatter(control[x], control[y], label=\"control\", facecolor=\"green\")\n",
        "  ax.scatter(hunt[x], hunt[y], label=\"hunt\", facecolor=\"red\")\n",
        "  ax.scatter(park[x], park[y], label=\"park\", facecolor=\"Yellow\")\n",
        "  ax.set_xlabel(x)\n",
        "  ax.set_ylabel(y)\n",
        "  ax.grid()\n",
        "  ax.set_title(\"\")\n",
        "  ax.legend()"
      ],
      "metadata": {
        "id": "A00T9r9IAvRK"
      },
      "execution_count": null,
      "outputs": []
    },
    {
      "cell_type": "code",
      "source": [
        "plot_scatter('MNF', 'MDF')"
      ],
      "metadata": {
        "id": "-P948YNKVgJ8"
      },
      "execution_count": null,
      "outputs": []
    },
    {
      "cell_type": "code",
      "source": [
        "plot_scatter('WL', 'AAC')"
      ],
      "metadata": {
        "id": "QlFSJhG7VlHu"
      },
      "execution_count": null,
      "outputs": []
    },
    {
      "cell_type": "code",
      "source": [
        "# plt.figure(figsize=(50,50))\n",
        "# sns.heatmap(dataFrame.corr())"
      ],
      "metadata": {
        "id": "FbYbaTPb1h_s"
      },
      "execution_count": null,
      "outputs": []
    },
    {
      "cell_type": "markdown",
      "source": [
        "# Main function"
      ],
      "metadata": {
        "id": "K4jMm7xMWTlD"
      }
    },
    {
      "cell_type": "code",
      "source": [
        "def Main(dataFrame,columns):\n",
        "    models = {\n",
        "        'Logistic Regression':LogisticRegression(max_iter=5000,solver='lbfgs', fit_intercept=True,intercept_scaling=1),\n",
        "        \"Naive Bayes\":GaussianNB( var_smoothing=1e-018),\n",
        "        'Support Vector ':SVC(kernel='rbf', C=2, max_iter=-1),\n",
        "        \"Decision Tree\":DecisionTreeClassifier(criterion = 'entropy',random_state=0,max_depth = 32),\n",
        "        \"Random Forest\": RandomForestClassifier(n_estimators=26, random_state=2,max_depth=5),\n",
        "        \"K-Neighbors\":KNeighborsClassifier(n_neighbors=16),\n",
        "        \"Extreme Gradient Boost\":XGBClassifier(learning_rate=0.01, n_estimators=25, max_depth=15,gamma=0.6, subsample=0.52,colsample_bytree=0.6,seed=27, reg_lambda=2, booster='dart', colsample_bylevel=0.6, colsample_bynode=0.5),\n",
        "        \"Ada Boost\":AdaBoostClassifier(n_estimators=500, learning_rate = 0.75),\n",
        "        \"LDA\":LinearDiscriminantAnalysis(),\n",
        "        \"MLP\":MLPClassifier(hidden_layer_sizes=(100,100,100), max_iter=500, alpha=0.0001,solver='sgd',  random_state=21,tol=0.000000001)\n",
        "    }\n",
        "    acc_score={}\n",
        "    colors = ['red','green','blue','Cyan','Lime','yellow','orange',\"DeepPink\",\"OrangeRed\",\"DarkMagenta\"]\n",
        "    y, X = dataFrame['label'], dataFrame.loc[:,columns].astype('float64')\n",
        "    X_train, X_test, y_train, y_test = train_test_split(X, y, test_size=0.2, random_state=42) \n",
        "    score = []\n",
        "    models_names = list(models.keys())\n",
        "    for i in models_names:\n",
        "      models[i].fit(X_train, y_train)\n",
        "      predict = models[i].predict(X_test)\n",
        "      acc = accuracy_score(y_test, predict)\n",
        "      score.append(acc*100)\n",
        "    acc_score[\"Model\"] = models_names\n",
        "    acc_score[\"Accuracy\"] = score\n",
        "    frame =  pd.DataFrame(acc_score)\n",
        "    plt.figure(figsize=(20,10))\n",
        "    plt.title(\"barplot Represent Accuracy of different models\")\n",
        "    plt.xlabel(\"Algorithms\")\n",
        "    plt.ylabel(\"Accuracy %\")\n",
        "    plt.bar(frame['Model'],frame['Accuracy'],color = colors)\n",
        "    plt.show()\n",
        "    return [frame,models.copy()]"
      ],
      "metadata": {
        "id": "YYo85v1gnALG"
      },
      "execution_count": 37,
      "outputs": []
    },
    {
      "cell_type": "markdown",
      "source": [
        "# filter"
      ],
      "metadata": {
        "id": "pvQ8eV2PFZxH"
      }
    },
    {
      "cell_type": "code",
      "source": [
        "def filter(dataFrame,name):\n",
        "    min = dataFrame[name].min().astype('float64')\n",
        "    std = dataFrame[name].std().astype('float64')\n",
        "    data = dataFrame.loc[:,[name,'label']].astype('float64')\n",
        "    for x in data.index:\n",
        "      if data.loc[x, name] > min+std or data.loc[x, name] < min-std:\n",
        "        data.drop(x, inplace = True)\n",
        "    return data"
      ],
      "metadata": {
        "id": "oSFpKpicFdDP"
      },
      "execution_count": 66,
      "outputs": []
    },
    {
      "cell_type": "code",
      "source": [
        "filter(dataFrame,'SM1')"
      ],
      "metadata": {
        "colab": {
          "base_uri": "https://localhost:8080/",
          "height": 424
        },
        "id": "QLQVAlFnFlFk",
        "outputId": "0d92a9d2-9b40-44c0-ff65-4e2ae8934567"
      },
      "execution_count": 69,
      "outputs": [
        {
          "output_type": "execute_result",
          "data": {
            "text/plain": [
              "           SM1  label\n",
              "0     0.498224    2.0\n",
              "1     0.753189    2.0\n",
              "2     0.121463    2.0\n",
              "3     0.206851    2.0\n",
              "4     0.536163    2.0\n",
              "..         ...    ...\n",
              "443   0.094979    0.0\n",
              "444   0.082909    0.0\n",
              "445   0.518111    0.0\n",
              "446   0.384435    0.0\n",
              "447  19.431671    0.0\n",
              "\n",
              "[435 rows x 2 columns]"
            ],
            "text/html": [
              "\n",
              "  <div id=\"df-0f706463-dc36-48fc-a9b0-0ce95bfbe544\">\n",
              "    <div class=\"colab-df-container\">\n",
              "      <div>\n",
              "<style scoped>\n",
              "    .dataframe tbody tr th:only-of-type {\n",
              "        vertical-align: middle;\n",
              "    }\n",
              "\n",
              "    .dataframe tbody tr th {\n",
              "        vertical-align: top;\n",
              "    }\n",
              "\n",
              "    .dataframe thead th {\n",
              "        text-align: right;\n",
              "    }\n",
              "</style>\n",
              "<table border=\"1\" class=\"dataframe\">\n",
              "  <thead>\n",
              "    <tr style=\"text-align: right;\">\n",
              "      <th></th>\n",
              "      <th>SM1</th>\n",
              "      <th>label</th>\n",
              "    </tr>\n",
              "  </thead>\n",
              "  <tbody>\n",
              "    <tr>\n",
              "      <th>0</th>\n",
              "      <td>0.498224</td>\n",
              "      <td>2.0</td>\n",
              "    </tr>\n",
              "    <tr>\n",
              "      <th>1</th>\n",
              "      <td>0.753189</td>\n",
              "      <td>2.0</td>\n",
              "    </tr>\n",
              "    <tr>\n",
              "      <th>2</th>\n",
              "      <td>0.121463</td>\n",
              "      <td>2.0</td>\n",
              "    </tr>\n",
              "    <tr>\n",
              "      <th>3</th>\n",
              "      <td>0.206851</td>\n",
              "      <td>2.0</td>\n",
              "    </tr>\n",
              "    <tr>\n",
              "      <th>4</th>\n",
              "      <td>0.536163</td>\n",
              "      <td>2.0</td>\n",
              "    </tr>\n",
              "    <tr>\n",
              "      <th>...</th>\n",
              "      <td>...</td>\n",
              "      <td>...</td>\n",
              "    </tr>\n",
              "    <tr>\n",
              "      <th>443</th>\n",
              "      <td>0.094979</td>\n",
              "      <td>0.0</td>\n",
              "    </tr>\n",
              "    <tr>\n",
              "      <th>444</th>\n",
              "      <td>0.082909</td>\n",
              "      <td>0.0</td>\n",
              "    </tr>\n",
              "    <tr>\n",
              "      <th>445</th>\n",
              "      <td>0.518111</td>\n",
              "      <td>0.0</td>\n",
              "    </tr>\n",
              "    <tr>\n",
              "      <th>446</th>\n",
              "      <td>0.384435</td>\n",
              "      <td>0.0</td>\n",
              "    </tr>\n",
              "    <tr>\n",
              "      <th>447</th>\n",
              "      <td>19.431671</td>\n",
              "      <td>0.0</td>\n",
              "    </tr>\n",
              "  </tbody>\n",
              "</table>\n",
              "<p>435 rows × 2 columns</p>\n",
              "</div>\n",
              "      <button class=\"colab-df-convert\" onclick=\"convertToInteractive('df-0f706463-dc36-48fc-a9b0-0ce95bfbe544')\"\n",
              "              title=\"Convert this dataframe to an interactive table.\"\n",
              "              style=\"display:none;\">\n",
              "        \n",
              "  <svg xmlns=\"http://www.w3.org/2000/svg\" height=\"24px\"viewBox=\"0 0 24 24\"\n",
              "       width=\"24px\">\n",
              "    <path d=\"M0 0h24v24H0V0z\" fill=\"none\"/>\n",
              "    <path d=\"M18.56 5.44l.94 2.06.94-2.06 2.06-.94-2.06-.94-.94-2.06-.94 2.06-2.06.94zm-11 1L8.5 8.5l.94-2.06 2.06-.94-2.06-.94L8.5 2.5l-.94 2.06-2.06.94zm10 10l.94 2.06.94-2.06 2.06-.94-2.06-.94-.94-2.06-.94 2.06-2.06.94z\"/><path d=\"M17.41 7.96l-1.37-1.37c-.4-.4-.92-.59-1.43-.59-.52 0-1.04.2-1.43.59L10.3 9.45l-7.72 7.72c-.78.78-.78 2.05 0 2.83L4 21.41c.39.39.9.59 1.41.59.51 0 1.02-.2 1.41-.59l7.78-7.78 2.81-2.81c.8-.78.8-2.07 0-2.86zM5.41 20L4 18.59l7.72-7.72 1.47 1.35L5.41 20z\"/>\n",
              "  </svg>\n",
              "      </button>\n",
              "      \n",
              "  <style>\n",
              "    .colab-df-container {\n",
              "      display:flex;\n",
              "      flex-wrap:wrap;\n",
              "      gap: 12px;\n",
              "    }\n",
              "\n",
              "    .colab-df-convert {\n",
              "      background-color: #E8F0FE;\n",
              "      border: none;\n",
              "      border-radius: 50%;\n",
              "      cursor: pointer;\n",
              "      display: none;\n",
              "      fill: #1967D2;\n",
              "      height: 32px;\n",
              "      padding: 0 0 0 0;\n",
              "      width: 32px;\n",
              "    }\n",
              "\n",
              "    .colab-df-convert:hover {\n",
              "      background-color: #E2EBFA;\n",
              "      box-shadow: 0px 1px 2px rgba(60, 64, 67, 0.3), 0px 1px 3px 1px rgba(60, 64, 67, 0.15);\n",
              "      fill: #174EA6;\n",
              "    }\n",
              "\n",
              "    [theme=dark] .colab-df-convert {\n",
              "      background-color: #3B4455;\n",
              "      fill: #D2E3FC;\n",
              "    }\n",
              "\n",
              "    [theme=dark] .colab-df-convert:hover {\n",
              "      background-color: #434B5C;\n",
              "      box-shadow: 0px 1px 3px 1px rgba(0, 0, 0, 0.15);\n",
              "      filter: drop-shadow(0px 1px 2px rgba(0, 0, 0, 0.3));\n",
              "      fill: #FFFFFF;\n",
              "    }\n",
              "  </style>\n",
              "\n",
              "      <script>\n",
              "        const buttonEl =\n",
              "          document.querySelector('#df-0f706463-dc36-48fc-a9b0-0ce95bfbe544 button.colab-df-convert');\n",
              "        buttonEl.style.display =\n",
              "          google.colab.kernel.accessAllowed ? 'block' : 'none';\n",
              "\n",
              "        async function convertToInteractive(key) {\n",
              "          const element = document.querySelector('#df-0f706463-dc36-48fc-a9b0-0ce95bfbe544');\n",
              "          const dataTable =\n",
              "            await google.colab.kernel.invokeFunction('convertToInteractive',\n",
              "                                                     [key], {});\n",
              "          if (!dataTable) return;\n",
              "\n",
              "          const docLinkHtml = 'Like what you see? Visit the ' +\n",
              "            '<a target=\"_blank\" href=https://colab.research.google.com/notebooks/data_table.ipynb>data table notebook</a>'\n",
              "            + ' to learn more about interactive tables.';\n",
              "          element.innerHTML = '';\n",
              "          dataTable['output_type'] = 'display_data';\n",
              "          await google.colab.output.renderOutput(dataTable, element);\n",
              "          const docLink = document.createElement('div');\n",
              "          docLink.innerHTML = docLinkHtml;\n",
              "          element.appendChild(docLink);\n",
              "        }\n",
              "      </script>\n",
              "    </div>\n",
              "  </div>\n",
              "  "
            ]
          },
          "metadata": {},
          "execution_count": 69
        }
      ]
    },
    {
      "cell_type": "code",
      "source": [
        "filter(dataFrame,'WL')"
      ],
      "metadata": {
        "colab": {
          "base_uri": "https://localhost:8080/",
          "height": 424
        },
        "id": "Stwr2QiBF5mJ",
        "outputId": "4b5fe5b3-ce54-45fc-eff5-badc1ea59ec3"
      },
      "execution_count": 68,
      "outputs": [
        {
          "output_type": "execute_result",
          "data": {
            "text/plain": [
              "          WL  label\n",
              "0    15.5939    2.0\n",
              "1    17.9602    2.0\n",
              "2    10.0031    2.0\n",
              "3     9.1360    2.0\n",
              "4    11.9565    2.0\n",
              "..       ...    ...\n",
              "442  12.7688    0.0\n",
              "443   6.0160    0.0\n",
              "444   6.1196    0.0\n",
              "445  13.0866    0.0\n",
              "446  12.9902    0.0\n",
              "\n",
              "[387 rows x 2 columns]"
            ],
            "text/html": [
              "\n",
              "  <div id=\"df-093d4685-c98a-4968-a91d-5d497b21ea25\">\n",
              "    <div class=\"colab-df-container\">\n",
              "      <div>\n",
              "<style scoped>\n",
              "    .dataframe tbody tr th:only-of-type {\n",
              "        vertical-align: middle;\n",
              "    }\n",
              "\n",
              "    .dataframe tbody tr th {\n",
              "        vertical-align: top;\n",
              "    }\n",
              "\n",
              "    .dataframe thead th {\n",
              "        text-align: right;\n",
              "    }\n",
              "</style>\n",
              "<table border=\"1\" class=\"dataframe\">\n",
              "  <thead>\n",
              "    <tr style=\"text-align: right;\">\n",
              "      <th></th>\n",
              "      <th>WL</th>\n",
              "      <th>label</th>\n",
              "    </tr>\n",
              "  </thead>\n",
              "  <tbody>\n",
              "    <tr>\n",
              "      <th>0</th>\n",
              "      <td>15.5939</td>\n",
              "      <td>2.0</td>\n",
              "    </tr>\n",
              "    <tr>\n",
              "      <th>1</th>\n",
              "      <td>17.9602</td>\n",
              "      <td>2.0</td>\n",
              "    </tr>\n",
              "    <tr>\n",
              "      <th>2</th>\n",
              "      <td>10.0031</td>\n",
              "      <td>2.0</td>\n",
              "    </tr>\n",
              "    <tr>\n",
              "      <th>3</th>\n",
              "      <td>9.1360</td>\n",
              "      <td>2.0</td>\n",
              "    </tr>\n",
              "    <tr>\n",
              "      <th>4</th>\n",
              "      <td>11.9565</td>\n",
              "      <td>2.0</td>\n",
              "    </tr>\n",
              "    <tr>\n",
              "      <th>...</th>\n",
              "      <td>...</td>\n",
              "      <td>...</td>\n",
              "    </tr>\n",
              "    <tr>\n",
              "      <th>442</th>\n",
              "      <td>12.7688</td>\n",
              "      <td>0.0</td>\n",
              "    </tr>\n",
              "    <tr>\n",
              "      <th>443</th>\n",
              "      <td>6.0160</td>\n",
              "      <td>0.0</td>\n",
              "    </tr>\n",
              "    <tr>\n",
              "      <th>444</th>\n",
              "      <td>6.1196</td>\n",
              "      <td>0.0</td>\n",
              "    </tr>\n",
              "    <tr>\n",
              "      <th>445</th>\n",
              "      <td>13.0866</td>\n",
              "      <td>0.0</td>\n",
              "    </tr>\n",
              "    <tr>\n",
              "      <th>446</th>\n",
              "      <td>12.9902</td>\n",
              "      <td>0.0</td>\n",
              "    </tr>\n",
              "  </tbody>\n",
              "</table>\n",
              "<p>387 rows × 2 columns</p>\n",
              "</div>\n",
              "      <button class=\"colab-df-convert\" onclick=\"convertToInteractive('df-093d4685-c98a-4968-a91d-5d497b21ea25')\"\n",
              "              title=\"Convert this dataframe to an interactive table.\"\n",
              "              style=\"display:none;\">\n",
              "        \n",
              "  <svg xmlns=\"http://www.w3.org/2000/svg\" height=\"24px\"viewBox=\"0 0 24 24\"\n",
              "       width=\"24px\">\n",
              "    <path d=\"M0 0h24v24H0V0z\" fill=\"none\"/>\n",
              "    <path d=\"M18.56 5.44l.94 2.06.94-2.06 2.06-.94-2.06-.94-.94-2.06-.94 2.06-2.06.94zm-11 1L8.5 8.5l.94-2.06 2.06-.94-2.06-.94L8.5 2.5l-.94 2.06-2.06.94zm10 10l.94 2.06.94-2.06 2.06-.94-2.06-.94-.94-2.06-.94 2.06-2.06.94z\"/><path d=\"M17.41 7.96l-1.37-1.37c-.4-.4-.92-.59-1.43-.59-.52 0-1.04.2-1.43.59L10.3 9.45l-7.72 7.72c-.78.78-.78 2.05 0 2.83L4 21.41c.39.39.9.59 1.41.59.51 0 1.02-.2 1.41-.59l7.78-7.78 2.81-2.81c.8-.78.8-2.07 0-2.86zM5.41 20L4 18.59l7.72-7.72 1.47 1.35L5.41 20z\"/>\n",
              "  </svg>\n",
              "      </button>\n",
              "      \n",
              "  <style>\n",
              "    .colab-df-container {\n",
              "      display:flex;\n",
              "      flex-wrap:wrap;\n",
              "      gap: 12px;\n",
              "    }\n",
              "\n",
              "    .colab-df-convert {\n",
              "      background-color: #E8F0FE;\n",
              "      border: none;\n",
              "      border-radius: 50%;\n",
              "      cursor: pointer;\n",
              "      display: none;\n",
              "      fill: #1967D2;\n",
              "      height: 32px;\n",
              "      padding: 0 0 0 0;\n",
              "      width: 32px;\n",
              "    }\n",
              "\n",
              "    .colab-df-convert:hover {\n",
              "      background-color: #E2EBFA;\n",
              "      box-shadow: 0px 1px 2px rgba(60, 64, 67, 0.3), 0px 1px 3px 1px rgba(60, 64, 67, 0.15);\n",
              "      fill: #174EA6;\n",
              "    }\n",
              "\n",
              "    [theme=dark] .colab-df-convert {\n",
              "      background-color: #3B4455;\n",
              "      fill: #D2E3FC;\n",
              "    }\n",
              "\n",
              "    [theme=dark] .colab-df-convert:hover {\n",
              "      background-color: #434B5C;\n",
              "      box-shadow: 0px 1px 3px 1px rgba(0, 0, 0, 0.15);\n",
              "      filter: drop-shadow(0px 1px 2px rgba(0, 0, 0, 0.3));\n",
              "      fill: #FFFFFF;\n",
              "    }\n",
              "  </style>\n",
              "\n",
              "      <script>\n",
              "        const buttonEl =\n",
              "          document.querySelector('#df-093d4685-c98a-4968-a91d-5d497b21ea25 button.colab-df-convert');\n",
              "        buttonEl.style.display =\n",
              "          google.colab.kernel.accessAllowed ? 'block' : 'none';\n",
              "\n",
              "        async function convertToInteractive(key) {\n",
              "          const element = document.querySelector('#df-093d4685-c98a-4968-a91d-5d497b21ea25');\n",
              "          const dataTable =\n",
              "            await google.colab.kernel.invokeFunction('convertToInteractive',\n",
              "                                                     [key], {});\n",
              "          if (!dataTable) return;\n",
              "\n",
              "          const docLinkHtml = 'Like what you see? Visit the ' +\n",
              "            '<a target=\"_blank\" href=https://colab.research.google.com/notebooks/data_table.ipynb>data table notebook</a>'\n",
              "            + ' to learn more about interactive tables.';\n",
              "          element.innerHTML = '';\n",
              "          dataTable['output_type'] = 'display_data';\n",
              "          await google.colab.output.renderOutput(dataTable, element);\n",
              "          const docLink = document.createElement('div');\n",
              "          docLink.innerHTML = docLinkHtml;\n",
              "          element.appendChild(docLink);\n",
              "        }\n",
              "      </script>\n",
              "    </div>\n",
              "  </div>\n",
              "  "
            ]
          },
          "metadata": {},
          "execution_count": 68
        }
      ]
    },
    {
      "cell_type": "markdown",
      "source": [
        "# main with filter"
      ],
      "metadata": {
        "id": "FHCCGcd2ATYu"
      }
    },
    {
      "cell_type": "code",
      "source": [
        "def filterMain(dataFrame,name):\n",
        "    min = dataFrame[name].min().astype('float64')\n",
        "    std = dataFrame[name].std().astype('float64')\n",
        "    data = dataFrame.loc[:,[name,'label']].astype('float64')\n",
        "    for x in data.index:\n",
        "      if data.loc[x, name] > min+std or data.loc[x, name] < min-std:\n",
        "        data.drop(x, inplace = True)\n",
        "    if (len(data.index) > 250):\n",
        "      [a,s] = Main(data,[name])\n",
        "      return [a,s,data]\n",
        "    else :\n",
        "      print(data)\n",
        "      return [1,2,3]\n"
      ],
      "metadata": {
        "id": "su1gaPHOAV3K"
      },
      "execution_count": 62,
      "outputs": []
    },
    {
      "cell_type": "code",
      "source": [
        "[a,d,f] =filterMain(dataFrame,'MNF')"
      ],
      "metadata": {
        "colab": {
          "base_uri": "https://localhost:8080/"
        },
        "id": "U0dahWjBBYX8",
        "outputId": "93ccbe60-d84a-4a38-ce96-bb74b9a644c4"
      },
      "execution_count": 63,
      "outputs": [
        {
          "output_type": "stream",
          "name": "stdout",
          "text": [
            "          MNF  label\n",
            "155  3.469734    2.0\n",
            "157  2.191025    2.0\n",
            "159  3.468165    2.0\n",
            "160  1.799191    2.0\n"
          ]
        }
      ]
    },
    {
      "cell_type": "code",
      "source": [
        "[a,d,f] =filterMain(dataFrame,'TM5')"
      ],
      "metadata": {
        "colab": {
          "base_uri": "https://localhost:8080/",
          "height": 481
        },
        "id": "BPxMsPuHCZ3e",
        "outputId": "5ddc946b-9c78-4991-ad8d-98f713867239"
      },
      "execution_count": 57,
      "outputs": [
        {
          "output_type": "display_data",
          "data": {
            "text/plain": [
              "<Figure size 2000x1000 with 1 Axes>"
            ],
            "image/png": "[encoded data removed]"
          },
          "metadata": {}
        }
      ]
    },
    {
      "cell_type": "markdown",
      "source": [
        "# feature_selection SequentialFeatureSelector"
      ],
      "metadata": {
        "id": "2RVOzeyi8NGh"
      }
    },
    {
      "cell_type": "code",
      "source": [
        "from sklearn.svm import SVR\n",
        "from sklearn.feature_selection import SequentialFeatureSelector\n",
        "\n",
        "y, X = dataFrame['label'], dataFrame.drop(columns='label').astype('float64')\n",
        "\n",
        "\n",
        "knn = KNeighborsClassifier(n_neighbors=10)\n",
        "sfs = SequentialFeatureSelector(knn, n_features_to_select=10)\n",
        "sfs.fit(X, y)\n",
        "selected_features = list(X.columns[sfs.get_support()])\n",
        "selected_features"
      ],
      "metadata": {
        "colab": {
          "base_uri": "https://localhost:8080/"
        },
        "id": "PpW3sfw58JIY",
        "outputId": "d4a7e9cc-5af1-4c02-895f-1f45b3ce6c46"
      },
      "execution_count": 74,
      "outputs": [
        {
          "output_type": "execute_result",
          "data": {
            "text/plain": [
              "['MNP', 'TTP', 'SM1', 'SM2', 'SM3', 'PSR', 'MAV1', 'TM5', 'WL', 'AAC']"
            ]
          },
          "metadata": {},
          "execution_count": 74
        }
      ]
    },
    {
      "cell_type": "code",
      "source": [
        "[acc, models ]=Main(dataFrame,selected_features)"
      ],
      "metadata": {
        "colab": {
          "base_uri": "https://localhost:8080/",
          "height": 481
        },
        "id": "kML1irIfvmQg",
        "outputId": "c14ac955-ef81-4c23-9809-57df6a1592c9"
      },
      "execution_count": 76,
      "outputs": [
        {
          "output_type": "display_data",
          "data": {
            "text/plain": [
              "<Figure size 2000x1000 with 1 Axes>"
            ],
            "image/png": "[encoded data removed]"
          },
          "metadata": {}
        }
      ]
    },
    {
      "cell_type": "markdown",
      "source": [
        "# feature selection RFECV"
      ],
      "metadata": {
        "id": "2aR7r4kJGTf2"
      }
    },
    {
      "cell_type": "code",
      "source": [
        "from sklearn.feature_selection import RFECV\n",
        "from sklearn.svm import SVR\n",
        "y, X = dataFrame['label'], dataFrame.drop(columns='label').astype('float64')\n",
        "estimator =LogisticRegression()\n",
        "\n",
        "selector = RFECV(estimator, step=1, cv=5)\n",
        "selector = selector.fit(X, y)\n",
        "\n",
        "selected_features = list(X.columns[selector.support_])\n"
      ],
      "metadata": {
        "id": "9eagC3IKz2u1"
      },
      "execution_count": null,
      "outputs": []
    },
    {
      "cell_type": "code",
      "source": [
        "selected_features"
      ],
      "metadata": {
        "colab": {
          "base_uri": "https://localhost:8080/"
        },
        "id": "-i8xAfXEBIEn",
        "outputId": "47078bba-6b62-4a33-f72c-9af538c1df67"
      },
      "execution_count": 79,
      "outputs": [
        {
          "output_type": "execute_result",
          "data": {
            "text/plain": [
              "['RMS', 'WL', 'DASDV', 'MAVSLPk1', 'MAVSLPk2', 'MAVSLPk3']"
            ]
          },
          "metadata": {},
          "execution_count": 79
        }
      ]
    },
    {
      "cell_type": "code",
      "source": [
        "[acc, models ]=Main(dataFrame,selected_features)"
      ],
      "metadata": {
        "colab": {
          "base_uri": "https://localhost:8080/",
          "height": 536
        },
        "id": "ixurgcCd9oLx",
        "outputId": "6be578ed-99a9-4134-943a-44d604c9fb42"
      },
      "execution_count": 80,
      "outputs": [
        {
          "output_type": "stream",
          "name": "stderr",
          "text": [
            "/usr/local/lib/python3.10/dist-packages/sklearn/neural_network/_multilayer_perceptron.py:686: ConvergenceWarning: Stochastic Optimizer: Maximum iterations (500) reached and the optimization hasn't converged yet.\n",
            "  warnings.warn(\n"
          ]
        },
        {
          "output_type": "display_data",
          "data": {
            "text/plain": [
              "<Figure size 2000x1000 with 1 Axes>"
            ],
            "image/png": "[encoded data removed]"
          },
          "metadata": {}
        }
      ]
    },
    {
      "cell_type": "markdown",
      "source": [
        "# filterAllTable base on the selected_features"
      ],
      "metadata": {
        "id": "V6PcAZNuGrwA"
      }
    },
    {
      "cell_type": "code",
      "source": [
        "def filterAllTable(dataFrame,selected_features):\n",
        "  std={}\n",
        "  min={}\n",
        "  for i in selected_features:\n",
        "    min[i] = dataFrame[i].min().astype('float64')\n",
        "    std[i] =dataFrame[i].std().astype('float64')\n",
        "  selected_features.append(\"label\")\n",
        "  df = dataFrame[selected_features]\n",
        "  for i in selected_features[:-1]:\n",
        "    for j in df[i].index:\n",
        "      if df.loc[j, i] > min[i]+std[i] or df.loc[j, i] < min[i]-std[i]:\n",
        "        df = df.drop(j)\n",
        "  return df\n",
        "\n",
        "bestData = filterAllTable(dataFrame,selected_features)\n",
        "bestData"
      ],
      "metadata": {
        "colab": {
          "base_uri": "https://localhost:8080/",
          "height": 424
        },
        "id": "4siStsyQHWau",
        "outputId": "5c85d3fa-96cc-4438-d7ec-96ec483c5f43"
      },
      "execution_count": 98,
      "outputs": [
        {
          "output_type": "execute_result",
          "data": {
            "text/plain": [
              "          RMS       WL     DASDV  MAVSLPk1  MAVSLPk2  MAVSLPk3  label\n",
              "0    1.059600  15.5939  0.011369  1.053528  1.064677  1.053185      2\n",
              "1    1.060594  17.9602  0.016630  1.053216  1.064639  1.053530      2\n",
              "2    0.384178  10.0031  0.003649  0.388431  0.380613  0.376705      2\n",
              "3    0.395574   9.1360  0.003745  0.387393  0.400079  0.392107      2\n",
              "4    0.678789  11.9565  0.010066  0.665093  0.684059  0.676478      2\n",
              "..        ...      ...       ...       ...       ...       ...    ...\n",
              "442  1.756759  12.7688  0.010385  1.777232  1.713458  1.767045      0\n",
              "443  0.473807   6.0160  0.002563  0.469685  0.460568  0.486417      0\n",
              "444  0.534248   6.1196  0.003103  0.540498  0.529683  0.527162      0\n",
              "445  1.280558  13.0866  0.013072  1.273209  1.261949  1.291579      0\n",
              "446  1.225370  12.9902  0.011565  1.236725  1.183775  1.239872      0\n",
              "\n",
              "[387 rows x 7 columns]"
            ],
            "text/html": [
              "\n",
              "  <div id=\"df-88f77d0d-2fc1-42da-8c9f-7758d4c062e4\">\n",
              "    <div class=\"colab-df-container\">\n",
              "      <div>\n",
              "<style scoped>\n",
              "    .dataframe tbody tr th:only-of-type {\n",
              "        vertical-align: middle;\n",
              "    }\n",
              "\n",
              "    .dataframe tbody tr th {\n",
              "        vertical-align: top;\n",
              "    }\n",
              "\n",
              "    .dataframe thead th {\n",
              "        text-align: right;\n",
              "    }\n",
              "</style>\n",
              "<table border=\"1\" class=\"dataframe\">\n",
              "  <thead>\n",
              "    <tr style=\"text-align: right;\">\n",
              "      <th></th>\n",
              "      <th>RMS</th>\n",
              "      <th>WL</th>\n",
              "      <th>DASDV</th>\n",
              "      <th>MAVSLPk1</th>\n",
              "      <th>MAVSLPk2</th>\n",
              "      <th>MAVSLPk3</th>\n",
              "      <th>label</th>\n",
              "    </tr>\n",
              "  </thead>\n",
              "  <tbody>\n",
              "    <tr>\n",
              "      <th>0</th>\n",
              "      <td>1.059600</td>\n",
              "      <td>15.5939</td>\n",
              "      <td>0.011369</td>\n",
              "      <td>1.053528</td>\n",
              "      <td>1.064677</td>\n",
              "      <td>1.053185</td>\n",
              "      <td>2</td>\n",
              "    </tr>\n",
              "    <tr>\n",
              "      <th>1</th>\n",
              "      <td>1.060594</td>\n",
              "      <td>17.9602</td>\n",
              "      <td>0.016630</td>\n",
              "      <td>1.053216</td>\n",
              "      <td>1.064639</td>\n",
              "      <td>1.053530</td>\n",
              "      <td>2</td>\n",
              "    </tr>\n",
              "    <tr>\n",
              "      <th>2</th>\n",
              "      <td>0.384178</td>\n",
              "      <td>10.0031</td>\n",
              "      <td>0.003649</td>\n",
              "      <td>0.388431</td>\n",
              "      <td>0.380613</td>\n",
              "      <td>0.376705</td>\n",
              "      <td>2</td>\n",
              "    </tr>\n",
              "    <tr>\n",
              "      <th>3</th>\n",
              "      <td>0.395574</td>\n",
              "      <td>9.1360</td>\n",
              "      <td>0.003745</td>\n",
              "      <td>0.387393</td>\n",
              "      <td>0.400079</td>\n",
              "      <td>0.392107</td>\n",
              "      <td>2</td>\n",
              "    </tr>\n",
              "    <tr>\n",
              "      <th>4</th>\n",
              "      <td>0.678789</td>\n",
              "      <td>11.9565</td>\n",
              "      <td>0.010066</td>\n",
              "      <td>0.665093</td>\n",
              "      <td>0.684059</td>\n",
              "      <td>0.676478</td>\n",
              "      <td>2</td>\n",
              "    </tr>\n",
              "    <tr>\n",
              "      <th>...</th>\n",
              "      <td>...</td>\n",
              "      <td>...</td>\n",
              "      <td>...</td>\n",
              "      <td>...</td>\n",
              "      <td>...</td>\n",
              "      <td>...</td>\n",
              "      <td>...</td>\n",
              "    </tr>\n",
              "    <tr>\n",
              "      <th>442</th>\n",
              "      <td>1.756759</td>\n",
              "      <td>12.7688</td>\n",
              "      <td>0.010385</td>\n",
              "      <td>1.777232</td>\n",
              "      <td>1.713458</td>\n",
              "      <td>1.767045</td>\n",
              "      <td>0</td>\n",
              "    </tr>\n",
              "    <tr>\n",
              "      <th>443</th>\n",
              "      <td>0.473807</td>\n",
              "      <td>6.0160</td>\n",
              "      <td>0.002563</td>\n",
              "      <td>0.469685</td>\n",
              "      <td>0.460568</td>\n",
              "      <td>0.486417</td>\n",
              "      <td>0</td>\n",
              "    </tr>\n",
              "    <tr>\n",
              "      <th>444</th>\n",
              "      <td>0.534248</td>\n",
              "      <td>6.1196</td>\n",
              "      <td>0.003103</td>\n",
              "      <td>0.540498</td>\n",
              "      <td>0.529683</td>\n",
              "      <td>0.527162</td>\n",
              "      <td>0</td>\n",
              "    </tr>\n",
              "    <tr>\n",
              "      <th>445</th>\n",
              "      <td>1.280558</td>\n",
              "      <td>13.0866</td>\n",
              "      <td>0.013072</td>\n",
              "      <td>1.273209</td>\n",
              "      <td>1.261949</td>\n",
              "      <td>1.291579</td>\n",
              "      <td>0</td>\n",
              "    </tr>\n",
              "    <tr>\n",
              "      <th>446</th>\n",
              "      <td>1.225370</td>\n",
              "      <td>12.9902</td>\n",
              "      <td>0.011565</td>\n",
              "      <td>1.236725</td>\n",
              "      <td>1.183775</td>\n",
              "      <td>1.239872</td>\n",
              "      <td>0</td>\n",
              "    </tr>\n",
              "  </tbody>\n",
              "</table>\n",
              "<p>387 rows × 7 columns</p>\n",
              "</div>\n",
              "      <button class=\"colab-df-convert\" onclick=\"convertToInteractive('df-88f77d0d-2fc1-42da-8c9f-7758d4c062e4')\"\n",
              "              title=\"Convert this dataframe to an interactive table.\"\n",
              "              style=\"display:none;\">\n",
              "        \n",
              "  <svg xmlns=\"http://www.w3.org/2000/svg\" height=\"24px\"viewBox=\"0 0 24 24\"\n",
              "       width=\"24px\">\n",
              "    <path d=\"M0 0h24v24H0V0z\" fill=\"none\"/>\n",
              "    <path d=\"M18.56 5.44l.94 2.06.94-2.06 2.06-.94-2.06-.94-.94-2.06-.94 2.06-2.06.94zm-11 1L8.5 8.5l.94-2.06 2.06-.94-2.06-.94L8.5 2.5l-.94 2.06-2.06.94zm10 10l.94 2.06.94-2.06 2.06-.94-2.06-.94-.94-2.06-.94 2.06-2.06.94z\"/><path d=\"M17.41 7.96l-1.37-1.37c-.4-.4-.92-.59-1.43-.59-.52 0-1.04.2-1.43.59L10.3 9.45l-7.72 7.72c-.78.78-.78 2.05 0 2.83L4 21.41c.39.39.9.59 1.41.59.51 0 1.02-.2 1.41-.59l7.78-7.78 2.81-2.81c.8-.78.8-2.07 0-2.86zM5.41 20L4 18.59l7.72-7.72 1.47 1.35L5.41 20z\"/>\n",
              "  </svg>\n",
              "      </button>\n",
              "      \n",
              "  <style>\n",
              "    .colab-df-container {\n",
              "      display:flex;\n",
              "      flex-wrap:wrap;\n",
              "      gap: 12px;\n",
              "    }\n",
              "\n",
              "    .colab-df-convert {\n",
              "      background-color: #E8F0FE;\n",
              "      border: none;\n",
              "      border-radius: 50%;\n",
              "      cursor: pointer;\n",
              "      display: none;\n",
              "      fill: #1967D2;\n",
              "      height: 32px;\n",
              "      padding: 0 0 0 0;\n",
              "      width: 32px;\n",
              "    }\n",
              "\n",
              "    .colab-df-convert:hover {\n",
              "      background-color: #E2EBFA;\n",
              "      box-shadow: 0px 1px 2px rgba(60, 64, 67, 0.3), 0px 1px 3px 1px rgba(60, 64, 67, 0.15);\n",
              "      fill: #174EA6;\n",
              "    }\n",
              "\n",
              "    [theme=dark] .colab-df-convert {\n",
              "      background-color: #3B4455;\n",
              "      fill: #D2E3FC;\n",
              "    }\n",
              "\n",
              "    [theme=dark] .colab-df-convert:hover {\n",
              "      background-color: #434B5C;\n",
              "      box-shadow: 0px 1px 3px 1px rgba(0, 0, 0, 0.15);\n",
              "      filter: drop-shadow(0px 1px 2px rgba(0, 0, 0, 0.3));\n",
              "      fill: #FFFFFF;\n",
              "    }\n",
              "  </style>\n",
              "\n",
              "      <script>\n",
              "        const buttonEl =\n",
              "          document.querySelector('#df-88f77d0d-2fc1-42da-8c9f-7758d4c062e4 button.colab-df-convert');\n",
              "        buttonEl.style.display =\n",
              "          google.colab.kernel.accessAllowed ? 'block' : 'none';\n",
              "\n",
              "        async function convertToInteractive(key) {\n",
              "          const element = document.querySelector('#df-88f77d0d-2fc1-42da-8c9f-7758d4c062e4');\n",
              "          const dataTable =\n",
              "            await google.colab.kernel.invokeFunction('convertToInteractive',\n",
              "                                                     [key], {});\n",
              "          if (!dataTable) return;\n",
              "\n",
              "          const docLinkHtml = 'Like what you see? Visit the ' +\n",
              "            '<a target=\"_blank\" href=https://colab.research.google.com/notebooks/data_table.ipynb>data table notebook</a>'\n",
              "            + ' to learn more about interactive tables.';\n",
              "          element.innerHTML = '';\n",
              "          dataTable['output_type'] = 'display_data';\n",
              "          await google.colab.output.renderOutput(dataTable, element);\n",
              "          const docLink = document.createElement('div');\n",
              "          docLink.innerHTML = docLinkHtml;\n",
              "          element.appendChild(docLink);\n",
              "        }\n",
              "      </script>\n",
              "    </div>\n",
              "  </div>\n",
              "  "
            ]
          },
          "metadata": {},
          "execution_count": 98
        }
      ]
    },
    {
      "cell_type": "code",
      "source": [
        "[a,d] = Main(bestData,bestData.columns[:-1])"
      ],
      "metadata": {
        "colab": {
          "base_uri": "https://localhost:8080/",
          "height": 536
        },
        "id": "vPyjbFIdZPYA",
        "outputId": "f9f50458-49ea-49ed-d239-5e86ddd93075"
      },
      "execution_count": 99,
      "outputs": [
        {
          "output_type": "stream",
          "name": "stderr",
          "text": [
            "/usr/local/lib/python3.10/dist-packages/sklearn/neural_network/_multilayer_perceptron.py:686: ConvergenceWarning: Stochastic Optimizer: Maximum iterations (500) reached and the optimization hasn't converged yet.\n",
            "  warnings.warn(\n"
          ]
        },
        {
          "output_type": "display_data",
          "data": {
            "text/plain": [
              "<Figure size 2000x1000 with 1 Axes>"
            ],
            "image/png": "[encoded data removed]"
          },
          "metadata": {}
        }
      ]
    },
    {
      "cell_type": "code",
      "source": [],
      "metadata": {
        "id": "cwh9fKhNZrSY"
      },
      "execution_count": null,
      "outputs": []
    }
  ],
  "metadata": {
    "colab": {
      "provenance": []
    },
    "kernelspec": {
      "display_name": "Python 3",
      "name": "python3"
    },
    "language_info": {
      "name": "python"
    }
  },
  "nbformat": 4,
  "nbformat_minor": 0
}