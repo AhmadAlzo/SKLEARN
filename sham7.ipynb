{
  "cells": [
    {
      "cell_type": "code",
      "execution_count": null,
      "metadata": {
        "id": "P44jWLA2v6hL"
      },
      "outputs": [],
      "source": [
        "!pip install pysiology"
      ]
    },
    {
      "cell_type": "code",
      "execution_count": null,
      "metadata": {
        "id": "z9JnN2aiwS5v"
      },
      "outputs": [],
      "source": [
        "from google.colab import files\n",
        "files.upload()"
      ]
    },
    {
      "cell_type": "code",
      "execution_count": null,
      "metadata": {
        "colab": {
          "base_uri": "https://localhost:8080/",
          "height": 35
        },
        "id": "YXOeS406h4xR",
        "outputId": "a8f8e129-b918-4a88-c443-9a1145a055af"
      },
      "outputs": [
        {
          "data": {
            "application/vnd.google.colaboratory.intrinsic+json": {
              "type": "string"
            },
            "text/plain": [
              "'/usr/local/lib/python3.10/dist-packages/pysiology/electromyography.py'"
            ]
          },
          "execution_count": 3,
          "metadata": {},
          "output_type": "execute_result"
        }
      ],
      "source": [
        "#@title Fix\n",
        "import os,shutil\n",
        "os.remove(\"/usr/local/lib/python3.10/dist-packages/pysiology/electromyography.py\")\n",
        "shutil.move(\"/content/electromyography.py\",\"/usr/local/lib/python3.10/dist-packages/pysiology/electromyography.py\")"
      ]
    },
    {
      "cell_type": "code",
      "execution_count": null,
      "metadata": {
        "id": "11iWTi9ziDvk"
      },
      "outputs": [],
      "source": [
        "! wget -r -N -c -np https://physionet.org/files/gaitndd/1.0.0/"
      ]
    },
    {
      "cell_type": "code",
      "execution_count": null,
      "metadata": {
        "colab": {
          "base_uri": "https://localhost:8080/"
        },
        "id": "S_tr68_si8A6",
        "outputId": "e3a9cdee-8a2a-4e90-e83c-5b2c63d7ec2f"
      },
      "outputs": [
        {
          "name": "stdout",
          "output_type": "stream",
          "text": [
            "Thank you for using Pysiology. If you use it in your work, please cite:\n",
            "Gabrieli G., Azhari A., Esposito G. (2020) PySiology: A Python Package for Physiological Feature Extraction. In: Esposito A., Faundez-Zanuy M., Morabito F., Pasero E. (eds) Neural Approaches to Dynamics of Signal Exchanges. Smart Innovation, Systems and Technologies, vol 151. Springer, Singapore. https://doi.org/10.1007/978-981-13-8950-4_35\n"
          ]
        }
      ],
      "source": [
        "import pysiology\n",
        "import pandas as pd\n",
        "import re\n",
        "import numpy as np\n",
        "import matplotlib.pyplot as plt\n",
        "%matplotlib inline\n",
        "import seaborn as sns\n",
        "import os,shutil"
      ]
    },
    {
      "cell_type": "code",
      "execution_count": null,
      "metadata": {
        "id": "WVimuaj7iFV4"
      },
      "outputs": [],
      "source": [
        "#EDA\n",
        "from collections import Counter\n",
        "# data preprocessing\n",
        "from sklearn.preprocessing import StandardScaler\n",
        "# data splitting\n",
        "from sklearn.model_selection import train_test_split\n",
        "# data modeling\n",
        "from sklearn.metrics import confusion_matrix,accuracy_score,roc_curve,classification_report\n",
        "from sklearn.linear_model import LogisticRegression\n",
        "from sklearn.naive_bayes import GaussianNB\n",
        "from xgboost import XGBClassifier\n",
        "from sklearn.ensemble import RandomForestClassifier, AdaBoostClassifier\n",
        "from sklearn.tree import DecisionTreeClassifier\n",
        "from sklearn.neighbors import KNeighborsClassifier\n",
        "from sklearn.naive_bayes import GaussianNB\n",
        "from sklearn.svm import SVC\n",
        "from sklearn.discriminant_analysis import LinearDiscriminantAnalysis\n",
        "from sklearn.neural_network import MLPClassifier\n",
        "# from mlxtend.classifier import StackingCVClassifier"
      ]
    },
    {
      "cell_type": "code",
      "execution_count": null,
      "metadata": {
        "id": "ncTz0eROMI1s"
      },
      "outputs": [],
      "source": [
        "data_1 = pd.read_csv(\"physionet.org/files/gaitndd/1.0.0/als1.ts\",delimiter=\"\\t\",names=[\"Elapsed Time (sec)\",\"Left Stride Interval (sec)\",\"Right Stride Interval (sec)\",\"Left Swing Interval (sec)\",\n",
        "                                                      \"Right Swing Interval (sec)\",\"Left Swing Interval (% of stride)\",\"Right Swing Interval (% of stride)\",\n",
        "                                                      \"Left Stance Interval (sec)\",\"Right Stance Interval (sec)\",\"Left Stance Interval (% of stride)\",\n",
        "                                                      \"Right Stance Interval (% of stride)\",\"Double Support Interval (sec)\",\"Double Support Interval (% of stride)\"])\n",
        "\n",
        "data_1.head()"
      ]
    },
    {
      "cell_type": "code",
      "execution_count": null,
      "metadata": {
        "id": "fCA3lv7licGJ"
      },
      "outputs": [],
      "source": [
        "dataset_path = \"physionet.org/files/gaitndd/1.0.0\"\n",
        "dict_data = {'MNF': [], 'MDF': [],'PeakFrequency': [], 'MNP': [],'TTP': [], 'SM1': [],'SM2': [], 'SM3': []\n",
        "  ,'FR': [], 'PSR': [], 'VCF': [],'IEMG': [], 'MAV': [], 'MAV1': [], \n",
        " 'MAV2': [], 'SSI': [], 'VAR': [], 'TM3': [], 'TM4': [], 'TM5': [],  \n",
        " 'LOG': [], 'RMS': [], 'WL': [], 'AAC': [], 'DASDV': [], 'ZC': [], 'MYOP':[],   \n",
        " 'WAMP': [], 'SSC': [], 'MAVSLPk1':[],\"MAVSLPk2\":[],\"MAVSLPk3\":[],\"label\":[]}\n",
        "  \n",
        "folders = [os.path.join(dataset_path, folder_name) for folder_name in os.listdir(dataset_path) if str(folder_name).endswith(\".ts\")]  \n",
        "  \n",
        "labels = [\"als\",\"control\",\"hunt\",\"park\"]\n",
        "for folder in folders:  \n",
        "  if(re.split(\"\\d\", str(folder.split(\"/\")[4]))[0] != \"example\"):\n",
        "    df = pd.read_csv(folder,delimiter=\"\\t\",names=[\"Elapsed Time (sec)\",\"Left Stride Interval (sec)\",\"Right Stride Interval (sec)\",\"Left Swing Interval (sec)\",  \n",
        "                                                      \"Right Swing Interval (sec)\",\"Left Swing Interval (% of stride)\",\"Right Swing Interval (% of stride)\",  \n",
        "                                                      \"Left Stance Interval (sec)\",\"Right Stance Interval (sec)\",\"Left Stance Interval (% of stride)\",  \n",
        "                                                      \"Right Stance Interval (% of stride)\",\"Double Support Interval (sec)\",\"Double Support Interval (% of stride)\"])\n",
        "    target = [\"Left Stride Interval (sec)\",\"Right Stride Interval (sec)\",\"Left Swing Interval (sec)\",\"Right Swing Interval (sec)\",\n",
        "              \"Left Stance Interval (sec)\",\"Right Stance Interval (sec)\",\"Double Support Interval (sec)\"] \n",
        "    label = labels.index(re.split(\"\\d\", str(folder.split(\"/\")[4]))[0]) \n",
        "    for f in target:\n",
        "      data = df[f]\n",
        "      analyzedEMG = pysiology.electromyography.analyzeEMGnew(data,samplerate=200,preprocessing=False) \n",
        "      time,freq = analyzedEMG\n",
        "\n",
        "      freq = analyzedEMG[freq]\n",
        "      keys1 = list(freq.keys())\n",
        "\n",
        "      for i in keys1 :\n",
        "        dict_data[i].append(freq[i])\n",
        "\n",
        "      time = analyzedEMG[time]\n",
        "      keys2 = list(time.keys())[:-1]\n",
        "\n",
        "      for i in keys2 :\n",
        "        dict_data[i].append(time[i])\n",
        "\n",
        "      dict_data[\"MAVSLPk1\"].append(time[\"MAVSLPk\"][0])\n",
        "      dict_data[\"MAVSLPk2\"].append(time[\"MAVSLPk\"][1])\n",
        "      dict_data[\"MAVSLPk3\"].append(time[\"MAVSLPk\"][2])\n",
        "      dict_data[\"label\"].append(label)\n",
        "\n",
        "dataFrame = pd.DataFrame(dict_data)"
      ]
    },
    {
      "cell_type": "code",
      "execution_count": null,
      "metadata": {
        "colab": {
          "base_uri": "https://localhost:8080/",
          "height": 424
        },
        "id": "IIVfGA2HNtCh",
        "outputId": "008165f0-46b5-4141-d7ef-20a164830dd4"
      },
      "outputs": [
        {
          "data": {
            "text/html": [
              "\n",
              "  <div id=\"df-396f34c5-2357-4243-9af5-3e205049488e\">\n",
              "    <div class=\"colab-df-container\">\n",
              "      <div>\n",
              "<style scoped>\n",
              "    .dataframe tbody tr th:only-of-type {\n",
              "        vertical-align: middle;\n",
              "    }\n",
              "\n",
              "    .dataframe tbody tr th {\n",
              "        vertical-align: top;\n",
              "    }\n",
              "\n",
              "    .dataframe thead th {\n",
              "        text-align: right;\n",
              "    }\n",
              "</style>\n",
              "<table border=\"1\" class=\"dataframe\">\n",
              "  <thead>\n",
              "    <tr style=\"text-align: right;\">\n",
              "      <th></th>\n",
              "      <th>MNF</th>\n",
              "      <th>MDF</th>\n",
              "      <th>PeakFrequency</th>\n",
              "      <th>MNP</th>\n",
              "      <th>TTP</th>\n",
              "      <th>SM1</th>\n",
              "      <th>SM2</th>\n",
              "      <th>SM3</th>\n",
              "      <th>PSR</th>\n",
              "      <th>VCF</th>\n",
              "      <th>...</th>\n",
              "      <th>RMS</th>\n",
              "      <th>WL</th>\n",
              "      <th>AAC</th>\n",
              "      <th>DASDV</th>\n",
              "      <th>WAMP</th>\n",
              "      <th>SSC</th>\n",
              "      <th>MAVSLPk1</th>\n",
              "      <th>MAVSLPk2</th>\n",
              "      <th>MAVSLPk3</th>\n",
              "      <th>label</th>\n",
              "    </tr>\n",
              "  </thead>\n",
              "  <tbody>\n",
              "    <tr>\n",
              "      <th>0</th>\n",
              "      <td>55.419204</td>\n",
              "      <td>60.937500</td>\n",
              "      <td>75.781250</td>\n",
              "      <td>0.000111</td>\n",
              "      <td>0.014313</td>\n",
              "      <td>0.793197</td>\n",
              "      <td>0.000176</td>\n",
              "      <td>4.942895e-08</td>\n",
              "      <td>0.552705</td>\n",
              "      <td>-3071.275897</td>\n",
              "      <td>...</td>\n",
              "      <td>1.044045</td>\n",
              "      <td>28.2608</td>\n",
              "      <td>0.105451</td>\n",
              "      <td>0.018327</td>\n",
              "      <td>127</td>\n",
              "      <td>171</td>\n",
              "      <td>1.028727</td>\n",
              "      <td>1.048461</td>\n",
              "      <td>1.043709</td>\n",
              "      <td>2</td>\n",
              "    </tr>\n",
              "    <tr>\n",
              "      <th>1</th>\n",
              "      <td>46.417276</td>\n",
              "      <td>41.406250</td>\n",
              "      <td>96.875000</td>\n",
              "      <td>0.000068</td>\n",
              "      <td>0.008791</td>\n",
              "      <td>0.408057</td>\n",
              "      <td>0.000055</td>\n",
              "      <td>1.099079e-08</td>\n",
              "      <td>0.286842</td>\n",
              "      <td>-2154.557254</td>\n",
              "      <td>...</td>\n",
              "      <td>1.042973</td>\n",
              "      <td>21.2560</td>\n",
              "      <td>0.079313</td>\n",
              "      <td>0.010138</td>\n",
              "      <td>127</td>\n",
              "      <td>159</td>\n",
              "      <td>1.027678</td>\n",
              "      <td>1.049776</td>\n",
              "      <td>1.042400</td>\n",
              "      <td>2</td>\n",
              "    </tr>\n",
              "    <tr>\n",
              "      <th>2</th>\n",
              "      <td>47.624864</td>\n",
              "      <td>42.968750</td>\n",
              "      <td>18.750000</td>\n",
              "      <td>0.000037</td>\n",
              "      <td>0.004753</td>\n",
              "      <td>0.226361</td>\n",
              "      <td>0.000014</td>\n",
              "      <td>1.280866e-09</td>\n",
              "      <td>0.490085</td>\n",
              "      <td>-2268.124730</td>\n",
              "      <td>...</td>\n",
              "      <td>0.377396</td>\n",
              "      <td>15.0539</td>\n",
              "      <td>0.056171</td>\n",
              "      <td>0.005335</td>\n",
              "      <td>128</td>\n",
              "      <td>150</td>\n",
              "      <td>0.372582</td>\n",
              "      <td>0.376030</td>\n",
              "      <td>0.371424</td>\n",
              "      <td>2</td>\n",
              "    </tr>\n",
              "    <tr>\n",
              "      <th>3</th>\n",
              "      <td>58.367037</td>\n",
              "      <td>63.281250</td>\n",
              "      <td>82.031250</td>\n",
              "      <td>0.000051</td>\n",
              "      <td>0.006575</td>\n",
              "      <td>0.383741</td>\n",
              "      <td>0.000048</td>\n",
              "      <td>1.005752e-08</td>\n",
              "      <td>0.552740</td>\n",
              "      <td>-3406.703588</td>\n",
              "      <td>...</td>\n",
              "      <td>0.272121</td>\n",
              "      <td>19.9717</td>\n",
              "      <td>0.074521</td>\n",
              "      <td>0.009346</td>\n",
              "      <td>119</td>\n",
              "      <td>175</td>\n",
              "      <td>0.275317</td>\n",
              "      <td>0.264978</td>\n",
              "      <td>0.254756</td>\n",
              "      <td>2</td>\n",
              "    </tr>\n",
              "    <tr>\n",
              "      <th>4</th>\n",
              "      <td>56.565354</td>\n",
              "      <td>61.718750</td>\n",
              "      <td>87.500000</td>\n",
              "      <td>0.000079</td>\n",
              "      <td>0.010210</td>\n",
              "      <td>0.577510</td>\n",
              "      <td>0.000094</td>\n",
              "      <td>1.970993e-08</td>\n",
              "      <td>0.506859</td>\n",
              "      <td>-3199.630143</td>\n",
              "      <td>...</td>\n",
              "      <td>0.671264</td>\n",
              "      <td>23.8004</td>\n",
              "      <td>0.088807</td>\n",
              "      <td>0.013067</td>\n",
              "      <td>122</td>\n",
              "      <td>175</td>\n",
              "      <td>0.656143</td>\n",
              "      <td>0.672436</td>\n",
              "      <td>0.672284</td>\n",
              "      <td>2</td>\n",
              "    </tr>\n",
              "    <tr>\n",
              "      <th>...</th>\n",
              "      <td>...</td>\n",
              "      <td>...</td>\n",
              "      <td>...</td>\n",
              "      <td>...</td>\n",
              "      <td>...</td>\n",
              "      <td>...</td>\n",
              "      <td>...</td>\n",
              "      <td>...</td>\n",
              "      <td>...</td>\n",
              "      <td>...</td>\n",
              "      <td>...</td>\n",
              "      <td>...</td>\n",
              "      <td>...</td>\n",
              "      <td>...</td>\n",
              "      <td>...</td>\n",
              "      <td>...</td>\n",
              "      <td>...</td>\n",
              "      <td>...</td>\n",
              "      <td>...</td>\n",
              "      <td>...</td>\n",
              "      <td>...</td>\n",
              "    </tr>\n",
              "    <tr>\n",
              "      <th>443</th>\n",
              "      <td>45.690739</td>\n",
              "      <td>52.577320</td>\n",
              "      <td>2.061856</td>\n",
              "      <td>0.000047</td>\n",
              "      <td>0.004592</td>\n",
              "      <td>0.209827</td>\n",
              "      <td>0.000016</td>\n",
              "      <td>1.861566e-09</td>\n",
              "      <td>0.414700</td>\n",
              "      <td>-2087.640062</td>\n",
              "      <td>...</td>\n",
              "      <td>0.428809</td>\n",
              "      <td>8.8702</td>\n",
              "      <td>0.045723</td>\n",
              "      <td>0.005040</td>\n",
              "      <td>75</td>\n",
              "      <td>112</td>\n",
              "      <td>0.427869</td>\n",
              "      <td>0.411197</td>\n",
              "      <td>0.439009</td>\n",
              "      <td>0</td>\n",
              "    </tr>\n",
              "    <tr>\n",
              "      <th>444</th>\n",
              "      <td>56.467415</td>\n",
              "      <td>61.855670</td>\n",
              "      <td>2.061856</td>\n",
              "      <td>0.000028</td>\n",
              "      <td>0.002701</td>\n",
              "      <td>0.152535</td>\n",
              "      <td>0.000007</td>\n",
              "      <td>3.885592e-10</td>\n",
              "      <td>0.225227</td>\n",
              "      <td>-3188.566401</td>\n",
              "      <td>...</td>\n",
              "      <td>0.393196</td>\n",
              "      <td>5.6602</td>\n",
              "      <td>0.029176</td>\n",
              "      <td>0.003460</td>\n",
              "      <td>76</td>\n",
              "      <td>119</td>\n",
              "      <td>0.388441</td>\n",
              "      <td>0.383534</td>\n",
              "      <td>0.402183</td>\n",
              "      <td>0</td>\n",
              "    </tr>\n",
              "    <tr>\n",
              "      <th>445</th>\n",
              "      <td>50.043560</td>\n",
              "      <td>52.577320</td>\n",
              "      <td>3.092784</td>\n",
              "      <td>0.002204</td>\n",
              "      <td>0.216023</td>\n",
              "      <td>10.810550</td>\n",
              "      <td>0.027303</td>\n",
              "      <td>7.751657e-05</td>\n",
              "      <td>0.356280</td>\n",
              "      <td>-2504.231517</td>\n",
              "      <td>...</td>\n",
              "      <td>0.933596</td>\n",
              "      <td>19.0994</td>\n",
              "      <td>0.098451</td>\n",
              "      <td>0.226049</td>\n",
              "      <td>85</td>\n",
              "      <td>107</td>\n",
              "      <td>0.928752</td>\n",
              "      <td>0.818748</td>\n",
              "      <td>0.869166</td>\n",
              "      <td>0</td>\n",
              "    </tr>\n",
              "    <tr>\n",
              "      <th>446</th>\n",
              "      <td>40.622414</td>\n",
              "      <td>37.113402</td>\n",
              "      <td>3.092784</td>\n",
              "      <td>0.002015</td>\n",
              "      <td>0.197486</td>\n",
              "      <td>8.022370</td>\n",
              "      <td>0.015042</td>\n",
              "      <td>3.434915e-05</td>\n",
              "      <td>0.438603</td>\n",
              "      <td>-1650.104383</td>\n",
              "      <td>...</td>\n",
              "      <td>0.960611</td>\n",
              "      <td>17.2063</td>\n",
              "      <td>0.088692</td>\n",
              "      <td>0.159189</td>\n",
              "      <td>87</td>\n",
              "      <td>110</td>\n",
              "      <td>0.967816</td>\n",
              "      <td>0.846981</td>\n",
              "      <td>0.907030</td>\n",
              "      <td>0</td>\n",
              "    </tr>\n",
              "    <tr>\n",
              "      <th>447</th>\n",
              "      <td>47.871795</td>\n",
              "      <td>47.422680</td>\n",
              "      <td>3.092784</td>\n",
              "      <td>0.001911</td>\n",
              "      <td>0.187291</td>\n",
              "      <td>8.965960</td>\n",
              "      <td>0.018625</td>\n",
              "      <td>4.329729e-05</td>\n",
              "      <td>0.387206</td>\n",
              "      <td>-2291.609350</td>\n",
              "      <td>...</td>\n",
              "      <td>0.572039</td>\n",
              "      <td>17.8796</td>\n",
              "      <td>0.092163</td>\n",
              "      <td>0.184900</td>\n",
              "      <td>89</td>\n",
              "      <td>110</td>\n",
              "      <td>0.540312</td>\n",
              "      <td>0.435203</td>\n",
              "      <td>0.466980</td>\n",
              "      <td>0</td>\n",
              "    </tr>\n",
              "  </tbody>\n",
              "</table>\n",
              "<p>448 rows × 30 columns</p>\n",
              "</div>\n",
              "      <button class=\"colab-df-convert\" onclick=\"convertToInteractive('df-396f34c5-2357-4243-9af5-3e205049488e')\"\n",
              "              title=\"Convert this dataframe to an interactive table.\"\n",
              "              style=\"display:none;\">\n",
              "        \n",
              "  <svg xmlns=\"http://www.w3.org/2000/svg\" height=\"24px\"viewBox=\"0 0 24 24\"\n",
              "       width=\"24px\">\n",
              "    <path d=\"M0 0h24v24H0V0z\" fill=\"none\"/>\n",
              "    <path d=\"M18.56 5.44l.94 2.06.94-2.06 2.06-.94-2.06-.94-.94-2.06-.94 2.06-2.06.94zm-11 1L8.5 8.5l.94-2.06 2.06-.94-2.06-.94L8.5 2.5l-.94 2.06-2.06.94zm10 10l.94 2.06.94-2.06 2.06-.94-2.06-.94-.94-2.06-.94 2.06-2.06.94z\"/><path d=\"M17.41 7.96l-1.37-1.37c-.4-.4-.92-.59-1.43-.59-.52 0-1.04.2-1.43.59L10.3 9.45l-7.72 7.72c-.78.78-.78 2.05 0 2.83L4 21.41c.39.39.9.59 1.41.59.51 0 1.02-.2 1.41-.59l7.78-7.78 2.81-2.81c.8-.78.8-2.07 0-2.86zM5.41 20L4 18.59l7.72-7.72 1.47 1.35L5.41 20z\"/>\n",
              "  </svg>\n",
              "      </button>\n",
              "      \n",
              "  <style>\n",
              "    .colab-df-container {\n",
              "      display:flex;\n",
              "      flex-wrap:wrap;\n",
              "      gap: 12px;\n",
              "    }\n",
              "\n",
              "    .colab-df-convert {\n",
              "      background-color: #E8F0FE;\n",
              "      border: none;\n",
              "      border-radius: 50%;\n",
              "      cursor: pointer;\n",
              "      display: none;\n",
              "      fill: #1967D2;\n",
              "      height: 32px;\n",
              "      padding: 0 0 0 0;\n",
              "      width: 32px;\n",
              "    }\n",
              "\n",
              "    .colab-df-convert:hover {\n",
              "      background-color: #E2EBFA;\n",
              "      box-shadow: 0px 1px 2px rgba(60, 64, 67, 0.3), 0px 1px 3px 1px rgba(60, 64, 67, 0.15);\n",
              "      fill: #174EA6;\n",
              "    }\n",
              "\n",
              "    [theme=dark] .colab-df-convert {\n",
              "      background-color: #3B4455;\n",
              "      fill: #D2E3FC;\n",
              "    }\n",
              "\n",
              "    [theme=dark] .colab-df-convert:hover {\n",
              "      background-color: #434B5C;\n",
              "      box-shadow: 0px 1px 3px 1px rgba(0, 0, 0, 0.15);\n",
              "      filter: drop-shadow(0px 1px 2px rgba(0, 0, 0, 0.3));\n",
              "      fill: #FFFFFF;\n",
              "    }\n",
              "  </style>\n",
              "\n",
              "      <script>\n",
              "        const buttonEl =\n",
              "          document.querySelector('#df-396f34c5-2357-4243-9af5-3e205049488e button.colab-df-convert');\n",
              "        buttonEl.style.display =\n",
              "          google.colab.kernel.accessAllowed ? 'block' : 'none';\n",
              "\n",
              "        async function convertToInteractive(key) {\n",
              "          const element = document.querySelector('#df-396f34c5-2357-4243-9af5-3e205049488e');\n",
              "          const dataTable =\n",
              "            await google.colab.kernel.invokeFunction('convertToInteractive',\n",
              "                                                     [key], {});\n",
              "          if (!dataTable) return;\n",
              "\n",
              "          const docLinkHtml = 'Like what you see? Visit the ' +\n",
              "            '<a target=\"_blank\" href=https://colab.research.google.com/notebooks/data_table.ipynb>data table notebook</a>'\n",
              "            + ' to learn more about interactive tables.';\n",
              "          element.innerHTML = '';\n",
              "          dataTable['output_type'] = 'display_data';\n",
              "          await google.colab.output.renderOutput(dataTable, element);\n",
              "          const docLink = document.createElement('div');\n",
              "          docLink.innerHTML = docLinkHtml;\n",
              "          element.appendChild(docLink);\n",
              "        }\n",
              "      </script>\n",
              "    </div>\n",
              "  </div>\n",
              "  "
            ],
            "text/plain": [
              "           MNF        MDF  PeakFrequency       MNP       TTP        SM1  \\\n",
              "0    55.419204  60.937500      75.781250  0.000111  0.014313   0.793197   \n",
              "1    46.417276  41.406250      96.875000  0.000068  0.008791   0.408057   \n",
              "2    47.624864  42.968750      18.750000  0.000037  0.004753   0.226361   \n",
              "3    58.367037  63.281250      82.031250  0.000051  0.006575   0.383741   \n",
              "4    56.565354  61.718750      87.500000  0.000079  0.010210   0.577510   \n",
              "..         ...        ...            ...       ...       ...        ...   \n",
              "443  45.690739  52.577320       2.061856  0.000047  0.004592   0.209827   \n",
              "444  56.467415  61.855670       2.061856  0.000028  0.002701   0.152535   \n",
              "445  50.043560  52.577320       3.092784  0.002204  0.216023  10.810550   \n",
              "446  40.622414  37.113402       3.092784  0.002015  0.197486   8.022370   \n",
              "447  47.871795  47.422680       3.092784  0.001911  0.187291   8.965960   \n",
              "\n",
              "          SM2           SM3       PSR          VCF  ...       RMS       WL  \\\n",
              "0    0.000176  4.942895e-08  0.552705 -3071.275897  ...  1.044045  28.2608   \n",
              "1    0.000055  1.099079e-08  0.286842 -2154.557254  ...  1.042973  21.2560   \n",
              "2    0.000014  1.280866e-09  0.490085 -2268.124730  ...  0.377396  15.0539   \n",
              "3    0.000048  1.005752e-08  0.552740 -3406.703588  ...  0.272121  19.9717   \n",
              "4    0.000094  1.970993e-08  0.506859 -3199.630143  ...  0.671264  23.8004   \n",
              "..        ...           ...       ...          ...  ...       ...      ...   \n",
              "443  0.000016  1.861566e-09  0.414700 -2087.640062  ...  0.428809   8.8702   \n",
              "444  0.000007  3.885592e-10  0.225227 -3188.566401  ...  0.393196   5.6602   \n",
              "445  0.027303  7.751657e-05  0.356280 -2504.231517  ...  0.933596  19.0994   \n",
              "446  0.015042  3.434915e-05  0.438603 -1650.104383  ...  0.960611  17.2063   \n",
              "447  0.018625  4.329729e-05  0.387206 -2291.609350  ...  0.572039  17.8796   \n",
              "\n",
              "          AAC     DASDV  WAMP  SSC  MAVSLPk1  MAVSLPk2  MAVSLPk3  label  \n",
              "0    0.105451  0.018327   127  171  1.028727  1.048461  1.043709      2  \n",
              "1    0.079313  0.010138   127  159  1.027678  1.049776  1.042400      2  \n",
              "2    0.056171  0.005335   128  150  0.372582  0.376030  0.371424      2  \n",
              "3    0.074521  0.009346   119  175  0.275317  0.264978  0.254756      2  \n",
              "4    0.088807  0.013067   122  175  0.656143  0.672436  0.672284      2  \n",
              "..        ...       ...   ...  ...       ...       ...       ...    ...  \n",
              "443  0.045723  0.005040    75  112  0.427869  0.411197  0.439009      0  \n",
              "444  0.029176  0.003460    76  119  0.388441  0.383534  0.402183      0  \n",
              "445  0.098451  0.226049    85  107  0.928752  0.818748  0.869166      0  \n",
              "446  0.088692  0.159189    87  110  0.967816  0.846981  0.907030      0  \n",
              "447  0.092163  0.184900    89  110  0.540312  0.435203  0.466980      0  \n",
              "\n",
              "[448 rows x 30 columns]"
            ]
          },
          "execution_count": 10,
          "metadata": {},
          "output_type": "execute_result"
        }
      ],
      "source": [
        "dataFrame"
      ]
    },
    {
      "cell_type": "code",
      "execution_count": null,
      "metadata": {
        "id": "kCR9uzLXJW-C"
      },
      "outputs": [],
      "source": [
        "dataFrame.iloc[:60,:16]"
      ]
    },
    {
      "cell_type": "code",
      "execution_count": null,
      "metadata": {
        "id": "fVHhtD50I2Ws"
      },
      "outputs": [],
      "source": [
        "dataFrame.iloc[:60,16:]"
      ]
    },
    {
      "cell_type": "code",
      "execution_count": null,
      "metadata": {
        "colab": {
          "base_uri": "https://localhost:8080/"
        },
        "id": "KYXo25tw-LjD",
        "outputId": "4cea4cdd-f75a-4f3c-f79f-4fd5bd13164d"
      },
      "outputs": [
        {
          "data": {
            "text/plain": [
              "Index(['MNF', 'MDF', 'PeakFrequency', 'MNP', 'TTP', 'SM1', 'SM2', 'SM3', 'PSR',\n",
              "       'VCF', 'IEMG', 'MAV', 'MAV1', 'MAV2', 'SSI', 'VAR', 'TM3', 'TM4', 'TM5',\n",
              "       'LOG', 'RMS', 'WL', 'AAC', 'DASDV', 'WAMP', 'SSC', 'MAVSLPk1',\n",
              "       'MAVSLPk2', 'MAVSLPk3', 'label'],\n",
              "      dtype='object')"
            ]
          },
          "execution_count": 11,
          "metadata": {},
          "output_type": "execute_result"
        }
      ],
      "source": [
        "dataFrame.columns"
      ]
    },
    {
      "cell_type": "code",
      "execution_count": null,
      "metadata": {
        "id": "yvnrc8I3I9R6"
      },
      "outputs": [],
      "source": [
        "dataFrame =  dataFrame.drop(columns='FR')\n",
        "dataFrame =  dataFrame.drop(columns='ZC')\n",
        "dataFrame =  dataFrame.drop(columns='MYOP')"
      ]
    },
    {
      "cell_type": "code",
      "execution_count": null,
      "metadata": {
        "id": "4u73pjTdoNGo"
      },
      "outputs": [],
      "source": [
        "# !pip -q install dataprep"
      ]
    },
    {
      "cell_type": "code",
      "execution_count": null,
      "metadata": {
        "id": "GymmQ3G25_Jq"
      },
      "outputs": [],
      "source": [
        "\n",
        "# from dataprep.eda import plot, plot_correlation, plot_missing,create_db_report,create_report\n",
        "# report = create_report(dataFrame)\n",
        "# report"
      ]
    },
    {
      "cell_type": "code",
      "execution_count": null,
      "metadata": {
        "colab": {
          "base_uri": "https://localhost:8080/"
        },
        "id": "Wck1fXuWQ6K3",
        "outputId": "d522c4b8-197c-4578-b76a-9703a0606e1f"
      },
      "outputs": [
        {
          "data": {
            "text/plain": [
              "array([2, 1, 0, 3])"
            ]
          },
          "execution_count": 10,
          "metadata": {},
          "output_type": "execute_result"
        }
      ],
      "source": [
        "dataFrame[\"label\"].unique()"
      ]
    },
    {
      "cell_type": "code",
      "execution_count": null,
      "metadata": {
        "id": "jOFvnuNCUxIV"
      },
      "outputs": [],
      "source": [
        "  als = dataFrame[dataFrame.label == 0]\n",
        "  control = dataFrame[dataFrame.label==1]\n",
        "  hunt = dataFrame[dataFrame.label==2]\n",
        "  park = dataFrame[dataFrame.label==3]"
      ]
    },
    {
      "cell_type": "code",
      "execution_count": null,
      "metadata": {
        "id": "A00T9r9IAvRK"
      },
      "outputs": [],
      "source": [
        "def plot_scatter(x,y):\n",
        "  fig, ax = plt.subplots()\n",
        "  fig.set_size_inches(13, 7) \n",
        "  # lables and scatter points\n",
        "  ax.scatter(als[x], als[y], label=\"als\", facecolor=\"blue\")\n",
        "  ax.scatter(control[x], control[y], label=\"control\", facecolor=\"green\")\n",
        "  ax.scatter(hunt[x], hunt[y], label=\"hunt\", facecolor=\"red\")\n",
        "  ax.scatter(park[x], park[y], label=\"park\", facecolor=\"Yellow\")\n",
        "  ax.set_xlabel(x)\n",
        "  ax.set_ylabel(y)\n",
        "  ax.grid()\n",
        "  ax.set_title(\"\")\n",
        "  ax.legend()"
      ]
    },
    {
      "cell_type": "code",
      "execution_count": null,
      "metadata": {
        "id": "-P948YNKVgJ8"
      },
      "outputs": [],
      "source": [
        "plot_scatter('MNF', 'MDF')"
      ]
    },
    {
      "cell_type": "code",
      "execution_count": null,
      "metadata": {
        "id": "QlFSJhG7VlHu"
      },
      "outputs": [],
      "source": [
        "plot_scatter('WL', 'AAC')"
      ]
    },
    {
      "cell_type": "code",
      "execution_count": null,
      "metadata": {
        "id": "FbYbaTPb1h_s"
      },
      "outputs": [],
      "source": [
        "# plt.figure(figsize=(50,50))\n",
        "# sns.heatmap(dataFrame.corr())"
      ]
    },
    {
      "cell_type": "markdown",
      "metadata": {
        "id": "K4jMm7xMWTlD"
      },
      "source": [
        "# Main function"
      ]
    },
    {
      "cell_type": "code",
      "execution_count": 54,
      "metadata": {
        "id": "YYo85v1gnALG"
      },
      "outputs": [],
      "source": [
        "def Main(dataFrame,columns):\n",
        "    models = {\n",
        "        'Logistic Regression':LogisticRegression(max_iter=5000,solver='lbfgs', fit_intercept=True,intercept_scaling=1),\n",
        "        \"Naive Bayes\":GaussianNB( var_smoothing=1e-018),\n",
        "        'Support Vector ':SVC(kernel='rbf', C=2, max_iter=-1),\n",
        "        \"Decision Tree\":DecisionTreeClassifier(criterion = 'entropy',random_state=0,max_depth = 32),\n",
        "        \"Random Forest\": RandomForestClassifier(n_estimators=26, random_state=2,max_depth=5),\n",
        "        \"K-Neighbors\":KNeighborsClassifier(n_neighbors=16),\n",
        "        \"Extreme Gradient Boost\":XGBClassifier(learning_rate=0.01, n_estimators=25, max_depth=15,gamma=0.6, subsample=0.52,colsample_bytree=0.6,seed=27, reg_lambda=2, booster='dart', colsample_bylevel=0.6, colsample_bynode=0.5),\n",
        "        \"Ada Boost\":AdaBoostClassifier(n_estimators=500, learning_rate = 0.75),\n",
        "        \"LDA\":LinearDiscriminantAnalysis(),\n",
        "        \"MLP\":MLPClassifier(hidden_layer_sizes=(100,100,100), max_iter=500, alpha=0.0001,solver='sgd',  random_state=21,tol=0.000000001)\n",
        "    }\n",
        "    acc_score={}\n",
        "    colors = ['red','green','blue','Cyan','Lime','yellow','orange',\"DeepPink\",\"OrangeRed\",\"DarkMagenta\"]\n",
        "    y, X = dataFrame['label'], dataFrame.loc[:,columns].astype('float64')\n",
        "    X_train, X_test, y_train, y_test = train_test_split(X, y, test_size=0.2, random_state=42) \n",
        "    score = []\n",
        "    models_names = list(models.keys())\n",
        "    for i in models_names:\n",
        "      models[i].fit(X_train, y_train)\n",
        "      predict = models[i].predict(X_test)\n",
        "      acc = accuracy_score(y_test, predict)\n",
        "      score.append(acc*100)\n",
        "    acc_score[\"Model\"] = models_names\n",
        "    acc_score[\"Accuracy\"] = score\n",
        "    frame =  pd.DataFrame(acc_score)\n",
        "    plt.figure(figsize=(20,10))\n",
        "    plt.title(\"barplot Represent Accuracy of different models\")\n",
        "    plt.xlabel(\"Algorithms\")\n",
        "    plt.ylabel(\"Accuracy %\")\n",
        "    plt.bar(frame['Model'],frame['Accuracy'],color = colors)\n",
        "    plt.show()\n",
        "    return [frame,models.copy()]"
      ]
    },
    {
      "cell_type": "code",
      "source": [
        "Main(dataFrame,dataFrame.columns[:-1])"
      ],
      "metadata": {
        "colab": {
          "base_uri": "https://localhost:8080/",
          "height": 1000
        },
        "id": "JlDZulFgM2V_",
        "outputId": "21b4e779-9c1a-4335-a256-5dbcf2282c50"
      },
      "execution_count": 63,
      "outputs": [
        {
          "output_type": "stream",
          "name": "stderr",
          "text": [
            "/usr/local/lib/python3.10/dist-packages/sklearn/linear_model/_logistic.py:458: ConvergenceWarning: lbfgs failed to converge (status=2):\n",
            "ABNORMAL_TERMINATION_IN_LNSRCH.\n",
            "\n",
            "Increase the number of iterations (max_iter) or scale the data as shown in:\n",
            "    https://scikit-learn.org/stable/modules/preprocessing.html\n",
            "Please also refer to the documentation for alternative solver options:\n",
            "    https://scikit-learn.org/stable/modules/linear_model.html#logistic-regression\n",
            "  n_iter_i = _check_optimize_result(\n"
          ]
        },
        {
          "output_type": "display_data",
          "data": {
            "text/plain": [
              "<Figure size 2000x1000 with 1 Axes>"
            ],
            "image/png": "[encoded data removed]"
          },
          "metadata": {}
        },
        {
          "output_type": "execute_result",
          "data": {
            "text/plain": [
              "[                    Model   Accuracy\n",
              " 0     Logistic Regression  18.888889\n",
              " 1             Naive Bayes  24.444444\n",
              " 2         Support Vector   38.888889\n",
              " 3           Decision Tree  57.777778\n",
              " 4           Random Forest  61.111111\n",
              " 5             K-Neighbors  47.777778\n",
              " 6  Extreme Gradient Boost  57.777778\n",
              " 7               Ada Boost  48.888889\n",
              " 8                     LDA  62.222222\n",
              " 9                     MLP  18.888889,\n",
              " {'Logistic Regression': LogisticRegression(max_iter=5000),\n",
              "  'Naive Bayes': GaussianNB(var_smoothing=1e-18),\n",
              "  'Support Vector ': SVC(C=2),\n",
              "  'Decision Tree': DecisionTreeClassifier(criterion='entropy', max_depth=32, random_state=0),\n",
              "  'Random Forest': RandomForestClassifier(max_depth=5, n_estimators=26, random_state=2),\n",
              "  'K-Neighbors': KNeighborsClassifier(n_neighbors=16),\n",
              "  'Extreme Gradient Boost': XGBClassifier(base_score=None, booster='dart', callbacks=None,\n",
              "                colsample_bylevel=0.6, colsample_bynode=0.5, colsample_bytree=0.6,\n",
              "                early_stopping_rounds=None, enable_categorical=False,\n",
              "                eval_metric=None, feature_types=None, gamma=0.6, gpu_id=None,\n",
              "                grow_policy=None, importance_type=None,\n",
              "                interaction_constraints=None, learning_rate=0.01, max_bin=None,\n",
              "                max_cat_threshold=None, max_cat_to_onehot=None,\n",
              "                max_delta_step=None, max_depth=15, max_leaves=None,\n",
              "                min_child_weight=None, missing=nan, monotone_constraints=None,\n",
              "                n_estimators=25, n_jobs=None, num_parallel_tree=None,\n",
              "                objective='multi:softprob', predictor=None, ...),\n",
              "  'Ada Boost': AdaBoostClassifier(learning_rate=0.75, n_estimators=500),\n",
              "  'LDA': LinearDiscriminantAnalysis(),\n",
              "  'MLP': MLPClassifier(hidden_layer_sizes=(100, 100, 100), max_iter=500, random_state=21,\n",
              "                solver='sgd', tol=1e-09)}]"
            ]
          },
          "metadata": {},
          "execution_count": 63
        }
      ]
    },
    {
      "cell_type": "code",
      "execution_count": null,
      "metadata": {
        "id": "edIf6HkmEzGa"
      },
      "outputs": [],
      "source": [
        "def filter(dataFrame,name):\n",
        "    min = dataFrame[name].min().astype('float64')\n",
        "    std = dataFrame[name].std().astype('float64')\n",
        "    data = dataFrame.loc[:,[name,'label']].astype('float64')\n",
        "    for x in data.index:\n",
        "      if data.loc[x, name] > min+std or data.loc[x, name] < min-std:\n",
        "        data.drop(x, inplace = True)\n",
        "    return data\n",
        "\n",
        "def MainoneByone(dataFrame):\n",
        "    models = {\n",
        "        'Logistic Regression':LogisticRegression(max_iter=5000,solver='lbfgs', fit_intercept=True,intercept_scaling=1),\n",
        "        \"Naive Bayes\":GaussianNB( var_smoothing=1e-018),\n",
        "        'Support Vector ':SVC(kernel='rbf', C=2, max_iter=-1),\n",
        "        \"Decision Tree\":DecisionTreeClassifier(criterion = 'entropy',random_state=0,max_depth = 32),\n",
        "        \"Random Forest\": RandomForestClassifier(n_estimators=26, random_state=2,max_depth=5),\n",
        "        \"K-Neighbors\":KNeighborsClassifier(n_neighbors=16),\n",
        "        \"Extreme Gradient Boost\":XGBClassifier(learning_rate=0.01, n_estimators=25, max_depth=15,gamma=0.6, subsample=0.52,colsample_bytree=0.6,seed=27, reg_lambda=2, booster='dart', colsample_bylevel=0.6, colsample_bynode=0.5),\n",
        "        \"Ada Boost\":AdaBoostClassifier(n_estimators=500, learning_rate = 0.75),\n",
        "        \"LDA\":LinearDiscriminantAnalysis(),\n",
        "        \"MLP\":MLPClassifier(hidden_layer_sizes=(100,100,100), max_iter=500, alpha=0.0001,solver='sgd',  random_state=21,tol=0.000000001)\n",
        "    }\n",
        "    columns = list(dataFrame.columns)\n",
        "    data={  \n",
        "        \"feature\":[],\n",
        "        'Logistic Regression':[],  \n",
        "        \"Naive Bayes\":[],\n",
        "        'Support Vector ':[],   \n",
        "        \"Decision Tree\":[],\n",
        "        \"Random Forest\": [],  \n",
        "        \"K-Neighbors\":[],\n",
        "        \"Extreme Gradient Boost\":[],    \n",
        "        \"Ada Boost\":[],\n",
        "        \"LDA\":[], \n",
        "        \"MLP\":[],   \n",
        "    }  \n",
        "    reject =[]\n",
        "    models_names = list(models.keys())  \n",
        "    for j in columns[:-1]:  \n",
        "      copy_model = models.copy()  \n",
        "      # filter \n",
        "\n",
        "      df =  filter(dataFrame,j) \n",
        "      \n",
        "      if (len(df.index) > 100):\n",
        "        y, X = df['label'], df[[j]].astype('float64') \n",
        "        X_train, X_test, y_train, y_test = train_test_split(X, y, test_size=0.2, random_state=42)   \n",
        "        for i in models_names: \n",
        "            copy_model[i].fit(X_train, y_train)      \n",
        "            predict = copy_model[i].predict(X_test)   \n",
        "            acc = accuracy_score(y_test, predict)     \n",
        "            data[i].append(acc*100)  \n",
        "        data[\"feature\"].append(j)   \n",
        "      else: \n",
        "        reject.append(j)\n",
        "    frame =  pd.DataFrame(data)  \n",
        "    return [frame,reject]  \n",
        "\n",
        "[acuuracy,rejected] = MainoneByone(dataFrame)"
      ]
    },
    {
      "cell_type": "code",
      "source": [
        "acuuracy"
      ],
      "metadata": {
        "colab": {
          "base_uri": "https://localhost:8080/",
          "height": 803
        },
        "id": "ehidUN-tNqwa",
        "outputId": "b0cb8e6f-80f4-449b-8124-50e3e2f8ffd1"
      },
      "execution_count": 71,
      "outputs": [
        {
          "output_type": "execute_result",
          "data": {
            "text/plain": [
              "          feature  Logistic Regression  Naive Bayes  Support Vector   \\\n",
              "0   PeakFrequency            29.577465    29.577465        32.394366   \n",
              "1             MNP            38.202247    32.584270        40.449438   \n",
              "2             TTP            34.444444    35.555556        37.777778   \n",
              "3             SM1            39.080460    28.735632        28.735632   \n",
              "4             SM2            33.333333    32.222222        36.666667   \n",
              "5             SM3            33.333333    31.111111        35.555556   \n",
              "6             PSR            35.227273    38.636364        36.363636   \n",
              "7            IEMG            33.333333    33.333333        33.333333   \n",
              "8             MAV            33.333333    34.444444        35.555556   \n",
              "9            MAV1            33.333333    34.444444        37.777778   \n",
              "10           MAV2            36.666667    33.333333        35.555556   \n",
              "11            SSI            35.555556    27.777778        35.555556   \n",
              "12            VAR            38.888889    28.888889        34.444444   \n",
              "13            TM3            24.444444    31.111111        33.333333   \n",
              "14            TM4            28.888889    33.333333        33.333333   \n",
              "15            TM5            34.444444    31.111111        33.333333   \n",
              "16            LOG            34.444444    30.000000        35.555556   \n",
              "17            RMS            29.885057    24.137931        27.586207   \n",
              "18             WL            46.153846    43.589744        43.589744   \n",
              "19            AAC            40.740741    51.851852        48.148148   \n",
              "20          DASDV            39.534884    29.069767        29.069767   \n",
              "21       MAVSLPk1            34.444444    34.444444        34.444444   \n",
              "22       MAVSLPk2            32.222222    34.444444        36.666667   \n",
              "23       MAVSLPk3            31.460674    34.831461        31.460674   \n",
              "\n",
              "    Decision Tree  Random Forest  K-Neighbors  Extreme Gradient Boost  \\\n",
              "0       61.971831      56.338028    45.070423               52.112676   \n",
              "1       33.707865      39.325843    42.696629               40.449438   \n",
              "2       43.333333      50.000000    48.888889               51.111111   \n",
              "3       37.931034      35.632184    43.678161               37.931034   \n",
              "4       43.333333      45.555556    45.555556               42.222222   \n",
              "5       36.666667      37.777778    48.888889               42.222222   \n",
              "6       28.409091      34.090909    39.772727               35.227273   \n",
              "7       23.333333      33.333333    37.777778               32.222222   \n",
              "8       44.444444      38.888889    37.777778               38.888889   \n",
              "9       41.111111      36.666667    38.888889               38.888889   \n",
              "10      47.777778      41.111111    44.444444               47.777778   \n",
              "11      45.555556      44.444444    40.000000               40.000000   \n",
              "12      41.111111      37.777778    43.333333               37.777778   \n",
              "13      32.222222      35.555556    40.000000               31.111111   \n",
              "14      34.444444      36.666667    40.000000               36.666667   \n",
              "15      37.777778      36.666667    35.555556               35.555556   \n",
              "16      44.444444      38.888889    40.000000               38.888889   \n",
              "17      42.528736      35.632184    39.080460               34.482759   \n",
              "18      30.769231      39.743590    41.025641               39.743590   \n",
              "19      25.925926      45.679012    40.740741               40.740741   \n",
              "20      36.046512      44.186047    45.348837               46.511628   \n",
              "21      51.111111      41.111111    41.111111               46.666667   \n",
              "22      44.444444      45.555556    43.333333               42.222222   \n",
              "23      42.696629      39.325843    38.202247               34.831461   \n",
              "\n",
              "    Ada Boost        LDA        MLP  \n",
              "0   45.070423  29.577465  30.985915  \n",
              "1   39.325843  39.325843  38.202247  \n",
              "2   45.555556  34.444444  35.555556  \n",
              "3   34.482759  39.080460  40.229885  \n",
              "4   41.111111  33.333333  34.444444  \n",
              "5   31.111111  33.333333  33.333333  \n",
              "6   32.954545  35.227273  35.227273  \n",
              "7   34.444444  33.333333  34.444444  \n",
              "8   31.111111  32.222222  38.888889  \n",
              "9   35.555556  32.222222  34.444444  \n",
              "10  44.444444  33.333333  33.333333  \n",
              "11  38.888889  34.444444  21.111111  \n",
              "12  32.222222  34.444444  36.666667  \n",
              "13  40.000000  33.333333  28.888889  \n",
              "14  45.555556  33.333333  33.333333  \n",
              "15  37.777778  32.222222  33.333333  \n",
              "16  31.111111  34.444444  34.444444  \n",
              "17  35.632184  31.034483  35.632184  \n",
              "18  42.307692  43.589744  46.153846  \n",
              "19  28.395062  51.851852  23.456790  \n",
              "20  40.697674  39.534884  41.860465  \n",
              "21  38.888889  34.444444  32.222222  \n",
              "22  36.666667  32.222222  35.555556  \n",
              "23  28.089888  30.337079  40.449438  "
            ],
            "text/html": [
              "\n",
              "  <div id=\"df-162cfe51-c364-446c-b324-bdf5016e1f7c\">\n",
              "    <div class=\"colab-df-container\">\n",
              "      <div>\n",
              "<style scoped>\n",
              "    .dataframe tbody tr th:only-of-type {\n",
              "        vertical-align: middle;\n",
              "    }\n",
              "\n",
              "    .dataframe tbody tr th {\n",
              "        vertical-align: top;\n",
              "    }\n",
              "\n",
              "    .dataframe thead th {\n",
              "        text-align: right;\n",
              "    }\n",
              "</style>\n",
              "<table border=\"1\" class=\"dataframe\">\n",
              "  <thead>\n",
              "    <tr style=\"text-align: right;\">\n",
              "      <th></th>\n",
              "      <th>feature</th>\n",
              "      <th>Logistic Regression</th>\n",
              "      <th>Naive Bayes</th>\n",
              "      <th>Support Vector</th>\n",
              "      <th>Decision Tree</th>\n",
              "      <th>Random Forest</th>\n",
              "      <th>K-Neighbors</th>\n",
              "      <th>Extreme Gradient Boost</th>\n",
              "      <th>Ada Boost</th>\n",
              "      <th>LDA</th>\n",
              "      <th>MLP</th>\n",
              "    </tr>\n",
              "  </thead>\n",
              "  <tbody>\n",
              "    <tr>\n",
              "      <th>0</th>\n",
              "      <td>PeakFrequency</td>\n",
              "      <td>29.577465</td>\n",
              "      <td>29.577465</td>\n",
              "      <td>32.394366</td>\n",
              "      <td>61.971831</td>\n",
              "      <td>56.338028</td>\n",
              "      <td>45.070423</td>\n",
              "      <td>52.112676</td>\n",
              "      <td>45.070423</td>\n",
              "      <td>29.577465</td>\n",
              "      <td>30.985915</td>\n",
              "    </tr>\n",
              "    <tr>\n",
              "      <th>1</th>\n",
              "      <td>MNP</td>\n",
              "      <td>38.202247</td>\n",
              "      <td>32.584270</td>\n",
              "      <td>40.449438</td>\n",
              "      <td>33.707865</td>\n",
              "      <td>39.325843</td>\n",
              "      <td>42.696629</td>\n",
              "      <td>40.449438</td>\n",
              "      <td>39.325843</td>\n",
              "      <td>39.325843</td>\n",
              "      <td>38.202247</td>\n",
              "    </tr>\n",
              "    <tr>\n",
              "      <th>2</th>\n",
              "      <td>TTP</td>\n",
              "      <td>34.444444</td>\n",
              "      <td>35.555556</td>\n",
              "      <td>37.777778</td>\n",
              "      <td>43.333333</td>\n",
              "      <td>50.000000</td>\n",
              "      <td>48.888889</td>\n",
              "      <td>51.111111</td>\n",
              "      <td>45.555556</td>\n",
              "      <td>34.444444</td>\n",
              "      <td>35.555556</td>\n",
              "    </tr>\n",
              "    <tr>\n",
              "      <th>3</th>\n",
              "      <td>SM1</td>\n",
              "      <td>39.080460</td>\n",
              "      <td>28.735632</td>\n",
              "      <td>28.735632</td>\n",
              "      <td>37.931034</td>\n",
              "      <td>35.632184</td>\n",
              "      <td>43.678161</td>\n",
              "      <td>37.931034</td>\n",
              "      <td>34.482759</td>\n",
              "      <td>39.080460</td>\n",
              "      <td>40.229885</td>\n",
              "    </tr>\n",
              "    <tr>\n",
              "      <th>4</th>\n",
              "      <td>SM2</td>\n",
              "      <td>33.333333</td>\n",
              "      <td>32.222222</td>\n",
              "      <td>36.666667</td>\n",
              "      <td>43.333333</td>\n",
              "      <td>45.555556</td>\n",
              "      <td>45.555556</td>\n",
              "      <td>42.222222</td>\n",
              "      <td>41.111111</td>\n",
              "      <td>33.333333</td>\n",
              "      <td>34.444444</td>\n",
              "    </tr>\n",
              "    <tr>\n",
              "      <th>5</th>\n",
              "      <td>SM3</td>\n",
              "      <td>33.333333</td>\n",
              "      <td>31.111111</td>\n",
              "      <td>35.555556</td>\n",
              "      <td>36.666667</td>\n",
              "      <td>37.777778</td>\n",
              "      <td>48.888889</td>\n",
              "      <td>42.222222</td>\n",
              "      <td>31.111111</td>\n",
              "      <td>33.333333</td>\n",
              "      <td>33.333333</td>\n",
              "    </tr>\n",
              "    <tr>\n",
              "      <th>6</th>\n",
              "      <td>PSR</td>\n",
              "      <td>35.227273</td>\n",
              "      <td>38.636364</td>\n",
              "      <td>36.363636</td>\n",
              "      <td>28.409091</td>\n",
              "      <td>34.090909</td>\n",
              "      <td>39.772727</td>\n",
              "      <td>35.227273</td>\n",
              "      <td>32.954545</td>\n",
              "      <td>35.227273</td>\n",
              "      <td>35.227273</td>\n",
              "    </tr>\n",
              "    <tr>\n",
              "      <th>7</th>\n",
              "      <td>IEMG</td>\n",
              "      <td>33.333333</td>\n",
              "      <td>33.333333</td>\n",
              "      <td>33.333333</td>\n",
              "      <td>23.333333</td>\n",
              "      <td>33.333333</td>\n",
              "      <td>37.777778</td>\n",
              "      <td>32.222222</td>\n",
              "      <td>34.444444</td>\n",
              "      <td>33.333333</td>\n",
              "      <td>34.444444</td>\n",
              "    </tr>\n",
              "    <tr>\n",
              "      <th>8</th>\n",
              "      <td>MAV</td>\n",
              "      <td>33.333333</td>\n",
              "      <td>34.444444</td>\n",
              "      <td>35.555556</td>\n",
              "      <td>44.444444</td>\n",
              "      <td>38.888889</td>\n",
              "      <td>37.777778</td>\n",
              "      <td>38.888889</td>\n",
              "      <td>31.111111</td>\n",
              "      <td>32.222222</td>\n",
              "      <td>38.888889</td>\n",
              "    </tr>\n",
              "    <tr>\n",
              "      <th>9</th>\n",
              "      <td>MAV1</td>\n",
              "      <td>33.333333</td>\n",
              "      <td>34.444444</td>\n",
              "      <td>37.777778</td>\n",
              "      <td>41.111111</td>\n",
              "      <td>36.666667</td>\n",
              "      <td>38.888889</td>\n",
              "      <td>38.888889</td>\n",
              "      <td>35.555556</td>\n",
              "      <td>32.222222</td>\n",
              "      <td>34.444444</td>\n",
              "    </tr>\n",
              "    <tr>\n",
              "      <th>10</th>\n",
              "      <td>MAV2</td>\n",
              "      <td>36.666667</td>\n",
              "      <td>33.333333</td>\n",
              "      <td>35.555556</td>\n",
              "      <td>47.777778</td>\n",
              "      <td>41.111111</td>\n",
              "      <td>44.444444</td>\n",
              "      <td>47.777778</td>\n",
              "      <td>44.444444</td>\n",
              "      <td>33.333333</td>\n",
              "      <td>33.333333</td>\n",
              "    </tr>\n",
              "    <tr>\n",
              "      <th>11</th>\n",
              "      <td>SSI</td>\n",
              "      <td>35.555556</td>\n",
              "      <td>27.777778</td>\n",
              "      <td>35.555556</td>\n",
              "      <td>45.555556</td>\n",
              "      <td>44.444444</td>\n",
              "      <td>40.000000</td>\n",
              "      <td>40.000000</td>\n",
              "      <td>38.888889</td>\n",
              "      <td>34.444444</td>\n",
              "      <td>21.111111</td>\n",
              "    </tr>\n",
              "    <tr>\n",
              "      <th>12</th>\n",
              "      <td>VAR</td>\n",
              "      <td>38.888889</td>\n",
              "      <td>28.888889</td>\n",
              "      <td>34.444444</td>\n",
              "      <td>41.111111</td>\n",
              "      <td>37.777778</td>\n",
              "      <td>43.333333</td>\n",
              "      <td>37.777778</td>\n",
              "      <td>32.222222</td>\n",
              "      <td>34.444444</td>\n",
              "      <td>36.666667</td>\n",
              "    </tr>\n",
              "    <tr>\n",
              "      <th>13</th>\n",
              "      <td>TM3</td>\n",
              "      <td>24.444444</td>\n",
              "      <td>31.111111</td>\n",
              "      <td>33.333333</td>\n",
              "      <td>32.222222</td>\n",
              "      <td>35.555556</td>\n",
              "      <td>40.000000</td>\n",
              "      <td>31.111111</td>\n",
              "      <td>40.000000</td>\n",
              "      <td>33.333333</td>\n",
              "      <td>28.888889</td>\n",
              "    </tr>\n",
              "    <tr>\n",
              "      <th>14</th>\n",
              "      <td>TM4</td>\n",
              "      <td>28.888889</td>\n",
              "      <td>33.333333</td>\n",
              "      <td>33.333333</td>\n",
              "      <td>34.444444</td>\n",
              "      <td>36.666667</td>\n",
              "      <td>40.000000</td>\n",
              "      <td>36.666667</td>\n",
              "      <td>45.555556</td>\n",
              "      <td>33.333333</td>\n",
              "      <td>33.333333</td>\n",
              "    </tr>\n",
              "    <tr>\n",
              "      <th>15</th>\n",
              "      <td>TM5</td>\n",
              "      <td>34.444444</td>\n",
              "      <td>31.111111</td>\n",
              "      <td>33.333333</td>\n",
              "      <td>37.777778</td>\n",
              "      <td>36.666667</td>\n",
              "      <td>35.555556</td>\n",
              "      <td>35.555556</td>\n",
              "      <td>37.777778</td>\n",
              "      <td>32.222222</td>\n",
              "      <td>33.333333</td>\n",
              "    </tr>\n",
              "    <tr>\n",
              "      <th>16</th>\n",
              "      <td>LOG</td>\n",
              "      <td>34.444444</td>\n",
              "      <td>30.000000</td>\n",
              "      <td>35.555556</td>\n",
              "      <td>44.444444</td>\n",
              "      <td>38.888889</td>\n",
              "      <td>40.000000</td>\n",
              "      <td>38.888889</td>\n",
              "      <td>31.111111</td>\n",
              "      <td>34.444444</td>\n",
              "      <td>34.444444</td>\n",
              "    </tr>\n",
              "    <tr>\n",
              "      <th>17</th>\n",
              "      <td>RMS</td>\n",
              "      <td>29.885057</td>\n",
              "      <td>24.137931</td>\n",
              "      <td>27.586207</td>\n",
              "      <td>42.528736</td>\n",
              "      <td>35.632184</td>\n",
              "      <td>39.080460</td>\n",
              "      <td>34.482759</td>\n",
              "      <td>35.632184</td>\n",
              "      <td>31.034483</td>\n",
              "      <td>35.632184</td>\n",
              "    </tr>\n",
              "    <tr>\n",
              "      <th>18</th>\n",
              "      <td>WL</td>\n",
              "      <td>46.153846</td>\n",
              "      <td>43.589744</td>\n",
              "      <td>43.589744</td>\n",
              "      <td>30.769231</td>\n",
              "      <td>39.743590</td>\n",
              "      <td>41.025641</td>\n",
              "      <td>39.743590</td>\n",
              "      <td>42.307692</td>\n",
              "      <td>43.589744</td>\n",
              "      <td>46.153846</td>\n",
              "    </tr>\n",
              "    <tr>\n",
              "      <th>19</th>\n",
              "      <td>AAC</td>\n",
              "      <td>40.740741</td>\n",
              "      <td>51.851852</td>\n",
              "      <td>48.148148</td>\n",
              "      <td>25.925926</td>\n",
              "      <td>45.679012</td>\n",
              "      <td>40.740741</td>\n",
              "      <td>40.740741</td>\n",
              "      <td>28.395062</td>\n",
              "      <td>51.851852</td>\n",
              "      <td>23.456790</td>\n",
              "    </tr>\n",
              "    <tr>\n",
              "      <th>20</th>\n",
              "      <td>DASDV</td>\n",
              "      <td>39.534884</td>\n",
              "      <td>29.069767</td>\n",
              "      <td>29.069767</td>\n",
              "      <td>36.046512</td>\n",
              "      <td>44.186047</td>\n",
              "      <td>45.348837</td>\n",
              "      <td>46.511628</td>\n",
              "      <td>40.697674</td>\n",
              "      <td>39.534884</td>\n",
              "      <td>41.860465</td>\n",
              "    </tr>\n",
              "    <tr>\n",
              "      <th>21</th>\n",
              "      <td>MAVSLPk1</td>\n",
              "      <td>34.444444</td>\n",
              "      <td>34.444444</td>\n",
              "      <td>34.444444</td>\n",
              "      <td>51.111111</td>\n",
              "      <td>41.111111</td>\n",
              "      <td>41.111111</td>\n",
              "      <td>46.666667</td>\n",
              "      <td>38.888889</td>\n",
              "      <td>34.444444</td>\n",
              "      <td>32.222222</td>\n",
              "    </tr>\n",
              "    <tr>\n",
              "      <th>22</th>\n",
              "      <td>MAVSLPk2</td>\n",
              "      <td>32.222222</td>\n",
              "      <td>34.444444</td>\n",
              "      <td>36.666667</td>\n",
              "      <td>44.444444</td>\n",
              "      <td>45.555556</td>\n",
              "      <td>43.333333</td>\n",
              "      <td>42.222222</td>\n",
              "      <td>36.666667</td>\n",
              "      <td>32.222222</td>\n",
              "      <td>35.555556</td>\n",
              "    </tr>\n",
              "    <tr>\n",
              "      <th>23</th>\n",
              "      <td>MAVSLPk3</td>\n",
              "      <td>31.460674</td>\n",
              "      <td>34.831461</td>\n",
              "      <td>31.460674</td>\n",
              "      <td>42.696629</td>\n",
              "      <td>39.325843</td>\n",
              "      <td>38.202247</td>\n",
              "      <td>34.831461</td>\n",
              "      <td>28.089888</td>\n",
              "      <td>30.337079</td>\n",
              "      <td>40.449438</td>\n",
              "    </tr>\n",
              "  </tbody>\n",
              "</table>\n",
              "</div>\n",
              "      <button class=\"colab-df-convert\" onclick=\"convertToInteractive('df-162cfe51-c364-446c-b324-bdf5016e1f7c')\"\n",
              "              title=\"Convert this dataframe to an interactive table.\"\n",
              "              style=\"display:none;\">\n",
              "        \n",
              "  <svg xmlns=\"http://www.w3.org/2000/svg\" height=\"24px\"viewBox=\"0 0 24 24\"\n",
              "       width=\"24px\">\n",
              "    <path d=\"M0 0h24v24H0V0z\" fill=\"none\"/>\n",
              "    <path d=\"M18.56 5.44l.94 2.06.94-2.06 2.06-.94-2.06-.94-.94-2.06-.94 2.06-2.06.94zm-11 1L8.5 8.5l.94-2.06 2.06-.94-2.06-.94L8.5 2.5l-.94 2.06-2.06.94zm10 10l.94 2.06.94-2.06 2.06-.94-2.06-.94-.94-2.06-.94 2.06-2.06.94z\"/><path d=\"M17.41 7.96l-1.37-1.37c-.4-.4-.92-.59-1.43-.59-.52 0-1.04.2-1.43.59L10.3 9.45l-7.72 7.72c-.78.78-.78 2.05 0 2.83L4 21.41c.39.39.9.59 1.41.59.51 0 1.02-.2 1.41-.59l7.78-7.78 2.81-2.81c.8-.78.8-2.07 0-2.86zM5.41 20L4 18.59l7.72-7.72 1.47 1.35L5.41 20z\"/>\n",
              "  </svg>\n",
              "      </button>\n",
              "      \n",
              "  <style>\n",
              "    .colab-df-container {\n",
              "      display:flex;\n",
              "      flex-wrap:wrap;\n",
              "      gap: 12px;\n",
              "    }\n",
              "\n",
              "    .colab-df-convert {\n",
              "      background-color: #E8F0FE;\n",
              "      border: none;\n",
              "      border-radius: 50%;\n",
              "      cursor: pointer;\n",
              "      display: none;\n",
              "      fill: #1967D2;\n",
              "      height: 32px;\n",
              "      padding: 0 0 0 0;\n",
              "      width: 32px;\n",
              "    }\n",
              "\n",
              "    .colab-df-convert:hover {\n",
              "      background-color: #E2EBFA;\n",
              "      box-shadow: 0px 1px 2px rgba(60, 64, 67, 0.3), 0px 1px 3px 1px rgba(60, 64, 67, 0.15);\n",
              "      fill: #174EA6;\n",
              "    }\n",
              "\n",
              "    [theme=dark] .colab-df-convert {\n",
              "      background-color: #3B4455;\n",
              "      fill: #D2E3FC;\n",
              "    }\n",
              "\n",
              "    [theme=dark] .colab-df-convert:hover {\n",
              "      background-color: #434B5C;\n",
              "      box-shadow: 0px 1px 3px 1px rgba(0, 0, 0, 0.15);\n",
              "      filter: drop-shadow(0px 1px 2px rgba(0, 0, 0, 0.3));\n",
              "      fill: #FFFFFF;\n",
              "    }\n",
              "  </style>\n",
              "\n",
              "      <script>\n",
              "        const buttonEl =\n",
              "          document.querySelector('#df-162cfe51-c364-446c-b324-bdf5016e1f7c button.colab-df-convert');\n",
              "        buttonEl.style.display =\n",
              "          google.colab.kernel.accessAllowed ? 'block' : 'none';\n",
              "\n",
              "        async function convertToInteractive(key) {\n",
              "          const element = document.querySelector('#df-162cfe51-c364-446c-b324-bdf5016e1f7c');\n",
              "          const dataTable =\n",
              "            await google.colab.kernel.invokeFunction('convertToInteractive',\n",
              "                                                     [key], {});\n",
              "          if (!dataTable) return;\n",
              "\n",
              "          const docLinkHtml = 'Like what you see? Visit the ' +\n",
              "            '<a target=\"_blank\" href=https://colab.research.google.com/notebooks/data_table.ipynb>data table notebook</a>'\n",
              "            + ' to learn more about interactive tables.';\n",
              "          element.innerHTML = '';\n",
              "          dataTable['output_type'] = 'display_data';\n",
              "          await google.colab.output.renderOutput(dataTable, element);\n",
              "          const docLink = document.createElement('div');\n",
              "          docLink.innerHTML = docLinkHtml;\n",
              "          element.appendChild(docLink);\n",
              "        }\n",
              "      </script>\n",
              "    </div>\n",
              "  </div>\n",
              "  "
            ]
          },
          "metadata": {},
          "execution_count": 71
        }
      ]
    },
    {
      "cell_type": "code",
      "source": [
        "rejected"
      ],
      "metadata": {
        "colab": {
          "base_uri": "https://localhost:8080/"
        },
        "id": "0bbOKcr3QJ9i",
        "outputId": "a4cc67e1-a22f-4e18-d4da-d0965fef8c21"
      },
      "execution_count": 72,
      "outputs": [
        {
          "output_type": "execute_result",
          "data": {
            "text/plain": [
              "['MNF', 'MDF', 'VCF', 'WAMP', 'SSC']"
            ]
          },
          "metadata": {},
          "execution_count": 72
        }
      ]
    },
    {
      "cell_type": "code",
      "source": [
        "for i in rejected:\n",
        "  dataFrame =  dataFrame.drop(columns=i)"
      ],
      "metadata": {
        "id": "b__778sQN_89"
      },
      "execution_count": 74,
      "outputs": []
    },
    {
      "cell_type": "markdown",
      "source": [
        "# train on all column without the rejected"
      ],
      "metadata": {
        "id": "Or4Tyae1QxWX"
      }
    },
    {
      "cell_type": "code",
      "source": [
        "Main(dataFrame,dataFrame.columns[:-1])"
      ],
      "metadata": {
        "colab": {
          "base_uri": "https://localhost:8080/",
          "height": 1000
        },
        "id": "umfNWuXxQutf",
        "outputId": "2a87385a-6af6-49c7-8060-fea6aa6bb3c2"
      },
      "execution_count": 77,
      "outputs": [
        {
          "output_type": "stream",
          "name": "stderr",
          "text": [
            "/usr/local/lib/python3.10/dist-packages/sklearn/linear_model/_logistic.py:458: ConvergenceWarning: lbfgs failed to converge (status=2):\n",
            "ABNORMAL_TERMINATION_IN_LNSRCH.\n",
            "\n",
            "Increase the number of iterations (max_iter) or scale the data as shown in:\n",
            "    https://scikit-learn.org/stable/modules/preprocessing.html\n",
            "Please also refer to the documentation for alternative solver options:\n",
            "    https://scikit-learn.org/stable/modules/linear_model.html#logistic-regression\n",
            "  n_iter_i = _check_optimize_result(\n"
          ]
        },
        {
          "output_type": "display_data",
          "data": {
            "text/plain": [
              "<Figure size 2000x1000 with 1 Axes>"
            ],
            "image/png": "[encoded data removed]"
          },
          "metadata": {}
        },
        {
          "output_type": "execute_result",
          "data": {
            "text/plain": [
              "[                    Model   Accuracy\n",
              " 0     Logistic Regression  18.888889\n",
              " 1             Naive Bayes  24.444444\n",
              " 2         Support Vector   38.888889\n",
              " 3           Decision Tree  60.000000\n",
              " 4           Random Forest  53.333333\n",
              " 5             K-Neighbors  41.111111\n",
              " 6  Extreme Gradient Boost  56.666667\n",
              " 7               Ada Boost  52.222222\n",
              " 8                     LDA  62.222222\n",
              " 9                     MLP  38.888889,\n",
              " {'Logistic Regression': LogisticRegression(max_iter=5000),\n",
              "  'Naive Bayes': GaussianNB(var_smoothing=1e-18),\n",
              "  'Support Vector ': SVC(C=2),\n",
              "  'Decision Tree': DecisionTreeClassifier(criterion='entropy', max_depth=32, random_state=0),\n",
              "  'Random Forest': RandomForestClassifier(max_depth=5, n_estimators=26, random_state=2),\n",
              "  'K-Neighbors': KNeighborsClassifier(n_neighbors=16),\n",
              "  'Extreme Gradient Boost': XGBClassifier(base_score=None, booster='dart', callbacks=None,\n",
              "                colsample_bylevel=0.6, colsample_bynode=0.5, colsample_bytree=0.6,\n",
              "                early_stopping_rounds=None, enable_categorical=False,\n",
              "                eval_metric=None, feature_types=None, gamma=0.6, gpu_id=None,\n",
              "                grow_policy=None, importance_type=None,\n",
              "                interaction_constraints=None, learning_rate=0.01, max_bin=None,\n",
              "                max_cat_threshold=None, max_cat_to_onehot=None,\n",
              "                max_delta_step=None, max_depth=15, max_leaves=None,\n",
              "                min_child_weight=None, missing=nan, monotone_constraints=None,\n",
              "                n_estimators=25, n_jobs=None, num_parallel_tree=None,\n",
              "                objective='multi:softprob', predictor=None, ...),\n",
              "  'Ada Boost': AdaBoostClassifier(learning_rate=0.75, n_estimators=500),\n",
              "  'LDA': LinearDiscriminantAnalysis(),\n",
              "  'MLP': MLPClassifier(hidden_layer_sizes=(100, 100, 100), max_iter=500, random_state=21,\n",
              "                solver='sgd', tol=1e-09)}]"
            ]
          },
          "metadata": {},
          "execution_count": 77
        }
      ]
    },
    {
      "cell_type": "markdown",
      "source": [
        "# filter and concatenate multi column "
      ],
      "metadata": {
        "id": "-zNtZbsNQYwE"
      }
    },
    {
      "cell_type": "code",
      "source": [
        "def filtermultiColumn(dataFrame,selected_features):\n",
        "  std={}\n",
        "  min={}\n",
        "  for i in selected_features:\n",
        "    min[i] = dataFrame[i].min().astype('float64')\n",
        "    std[i] =dataFrame[i].std().astype('float64')\n",
        "  selected_features.append(\"label\")\n",
        "  df = dataFrame[selected_features]\n",
        "  for i in selected_features[:-1]:\n",
        "    for j in df[i].index:\n",
        "      if df.loc[j, i] > min[i]+std[i] or df.loc[j, i] < min[i]-std[i]:\n",
        "        df = df.drop(j)\n",
        "  return df"
      ],
      "metadata": {
        "id": "kOBvPDLyQlwK"
      },
      "execution_count": 76,
      "outputs": []
    },
    {
      "cell_type": "markdown",
      "metadata": {
        "id": "2RVOzeyi8NGh"
      },
      "source": [
        "# feature_selection SequentialFeatureSelector"
      ]
    },
    {
      "cell_type": "code",
      "execution_count": 79,
      "metadata": {
        "colab": {
          "base_uri": "https://localhost:8080/"
        },
        "id": "PpW3sfw58JIY",
        "outputId": "9589d0cf-980e-4f36-9ee6-ee3daf5aac1c"
      },
      "outputs": [
        {
          "output_type": "execute_result",
          "data": {
            "text/plain": [
              "['MNP', 'TTP', 'SM2', 'SM3', 'MAV1', 'MAV2', 'TM5', 'WL', 'AAC', 'DASDV']"
            ]
          },
          "metadata": {},
          "execution_count": 79
        }
      ],
      "source": [
        "from sklearn.svm import SVR\n",
        "from sklearn.feature_selection import SequentialFeatureSelector\n",
        "\n",
        "y, X = dataFrame['label'], dataFrame.drop(columns='label').astype('float64')\n",
        "\n",
        "\n",
        "knn = KNeighborsClassifier(n_neighbors=10)\n",
        "sfs = SequentialFeatureSelector(knn, n_features_to_select=10)\n",
        "sfs.fit(X, y)\n",
        "selected_features = list(X.columns[sfs.get_support()])\n",
        "selected_features"
      ]
    },
    {
      "cell_type": "code",
      "source": [
        "data1 = filtermultiColumn(dataFrame,selected_features)\n",
        "Main(data1,selected_features)"
      ],
      "metadata": {
        "colab": {
          "base_uri": "https://localhost:8080/",
          "height": 1000
        },
        "id": "B9IqjgIVRSlh",
        "outputId": "e4f23d57-1687-45a4-d814-d8cdcb6db9e3"
      },
      "execution_count": 81,
      "outputs": [
        {
          "output_type": "stream",
          "name": "stderr",
          "text": [
            "/usr/local/lib/python3.10/dist-packages/sklearn/neural_network/_multilayer_perceptron.py:686: ConvergenceWarning: Stochastic Optimizer: Maximum iterations (500) reached and the optimization hasn't converged yet.\n",
            "  warnings.warn(\n"
          ]
        },
        {
          "output_type": "display_data",
          "data": {
            "text/plain": [
              "<Figure size 2000x1000 with 1 Axes>"
            ],
            "image/png": "[encoded data removed]"
          },
          "metadata": {}
        },
        {
          "output_type": "execute_result",
          "data": {
            "text/plain": [
              "[                    Model    Accuracy\n",
              " 0     Logistic Regression   98.717949\n",
              " 1             Naive Bayes  100.000000\n",
              " 2         Support Vector    56.410256\n",
              " 3           Decision Tree  100.000000\n",
              " 4           Random Forest   97.435897\n",
              " 5             K-Neighbors   75.641026\n",
              " 6  Extreme Gradient Boost   66.666667\n",
              " 7               Ada Boost  100.000000\n",
              " 8                     LDA   52.564103\n",
              " 9                     MLP  100.000000,\n",
              " {'Logistic Regression': LogisticRegression(max_iter=5000),\n",
              "  'Naive Bayes': GaussianNB(var_smoothing=1e-18),\n",
              "  'Support Vector ': SVC(C=2),\n",
              "  'Decision Tree': DecisionTreeClassifier(criterion='entropy', max_depth=32, random_state=0),\n",
              "  'Random Forest': RandomForestClassifier(max_depth=5, n_estimators=26, random_state=2),\n",
              "  'K-Neighbors': KNeighborsClassifier(n_neighbors=16),\n",
              "  'Extreme Gradient Boost': XGBClassifier(base_score=None, booster='dart', callbacks=None,\n",
              "                colsample_bylevel=0.6, colsample_bynode=0.5, colsample_bytree=0.6,\n",
              "                early_stopping_rounds=None, enable_categorical=False,\n",
              "                eval_metric=None, feature_types=None, gamma=0.6, gpu_id=None,\n",
              "                grow_policy=None, importance_type=None,\n",
              "                interaction_constraints=None, learning_rate=0.01, max_bin=None,\n",
              "                max_cat_threshold=None, max_cat_to_onehot=None,\n",
              "                max_delta_step=None, max_depth=15, max_leaves=None,\n",
              "                min_child_weight=None, missing=nan, monotone_constraints=None,\n",
              "                n_estimators=25, n_jobs=None, num_parallel_tree=None,\n",
              "                objective='multi:softprob', predictor=None, ...),\n",
              "  'Ada Boost': AdaBoostClassifier(learning_rate=0.75, n_estimators=500),\n",
              "  'LDA': LinearDiscriminantAnalysis(),\n",
              "  'MLP': MLPClassifier(hidden_layer_sizes=(100, 100, 100), max_iter=500, random_state=21,\n",
              "                solver='sgd', tol=1e-09)}]"
            ]
          },
          "metadata": {},
          "execution_count": 81
        }
      ]
    },
    {
      "cell_type": "markdown",
      "metadata": {
        "id": "2aR7r4kJGTf2"
      },
      "source": [
        "# feature selection RFECV"
      ]
    },
    {
      "cell_type": "code",
      "execution_count": null,
      "metadata": {
        "id": "9eagC3IKz2u1"
      },
      "outputs": [],
      "source": [
        "from sklearn.feature_selection import RFECV\n",
        "from sklearn.svm import SVR\n",
        "y, X = dataFrame['label'], dataFrame.drop(columns='label').astype('float64')\n",
        "estimator =LogisticRegression()\n",
        "\n",
        "selector = RFECV(estimator, step=1, cv=5)\n",
        "selector = selector.fit(X, y)\n",
        "\n",
        "selected_features2 = list(X.columns[selector.support_])\n"
      ]
    },
    {
      "cell_type": "code",
      "source": [
        "selected_features2"
      ],
      "metadata": {
        "colab": {
          "base_uri": "https://localhost:8080/"
        },
        "id": "ATIV9c0kR3h1",
        "outputId": "5806aea9-e8ce-4619-d62c-12a0e1187443"
      },
      "execution_count": 83,
      "outputs": [
        {
          "output_type": "execute_result",
          "data": {
            "text/plain": [
              "['RMS', 'WL', 'AAC', 'DASDV', 'MAVSLPk1', 'MAVSLPk2', 'MAVSLPk3']"
            ]
          },
          "metadata": {},
          "execution_count": 83
        }
      ]
    },
    {
      "cell_type": "code",
      "execution_count": 85,
      "metadata": {
        "colab": {
          "base_uri": "https://localhost:8080/",
          "height": 1000
        },
        "id": "-i8xAfXEBIEn",
        "outputId": "8266bfd5-64da-44af-b51c-1c5efe70ba8b"
      },
      "outputs": [
        {
          "output_type": "stream",
          "name": "stderr",
          "text": [
            "/usr/local/lib/python3.10/dist-packages/sklearn/neural_network/_multilayer_perceptron.py:686: ConvergenceWarning: Stochastic Optimizer: Maximum iterations (500) reached and the optimization hasn't converged yet.\n",
            "  warnings.warn(\n"
          ]
        },
        {
          "output_type": "display_data",
          "data": {
            "text/plain": [
              "<Figure size 2000x1000 with 1 Axes>"
            ],
            "image/png": "[encoded data removed]"
          },
          "metadata": {}
        },
        {
          "output_type": "execute_result",
          "data": {
            "text/plain": [
              "[                    Model    Accuracy\n",
              " 0     Logistic Regression   98.717949\n",
              " 1             Naive Bayes  100.000000\n",
              " 2         Support Vector    98.717949\n",
              " 3           Decision Tree  100.000000\n",
              " 4           Random Forest   98.717949\n",
              " 5             K-Neighbors   76.923077\n",
              " 6  Extreme Gradient Boost   83.333333\n",
              " 7               Ada Boost  100.000000\n",
              " 8                     LDA   53.846154\n",
              " 9                     MLP  100.000000,\n",
              " {'Logistic Regression': LogisticRegression(max_iter=5000),\n",
              "  'Naive Bayes': GaussianNB(var_smoothing=1e-18),\n",
              "  'Support Vector ': SVC(C=2),\n",
              "  'Decision Tree': DecisionTreeClassifier(criterion='entropy', max_depth=32, random_state=0),\n",
              "  'Random Forest': RandomForestClassifier(max_depth=5, n_estimators=26, random_state=2),\n",
              "  'K-Neighbors': KNeighborsClassifier(n_neighbors=16),\n",
              "  'Extreme Gradient Boost': XGBClassifier(base_score=None, booster='dart', callbacks=None,\n",
              "                colsample_bylevel=0.6, colsample_bynode=0.5, colsample_bytree=0.6,\n",
              "                early_stopping_rounds=None, enable_categorical=False,\n",
              "                eval_metric=None, feature_types=None, gamma=0.6, gpu_id=None,\n",
              "                grow_policy=None, importance_type=None,\n",
              "                interaction_constraints=None, learning_rate=0.01, max_bin=None,\n",
              "                max_cat_threshold=None, max_cat_to_onehot=None,\n",
              "                max_delta_step=None, max_depth=15, max_leaves=None,\n",
              "                min_child_weight=None, missing=nan, monotone_constraints=None,\n",
              "                n_estimators=25, n_jobs=None, num_parallel_tree=None,\n",
              "                objective='multi:softprob', predictor=None, ...),\n",
              "  'Ada Boost': AdaBoostClassifier(learning_rate=0.75, n_estimators=500),\n",
              "  'LDA': LinearDiscriminantAnalysis(),\n",
              "  'MLP': MLPClassifier(hidden_layer_sizes=(100, 100, 100), max_iter=500, random_state=21,\n",
              "                solver='sgd', tol=1e-09)}]"
            ]
          },
          "metadata": {},
          "execution_count": 85
        }
      ],
      "source": [
        "data2 = filtermultiColumn(dataFrame,selected_features2)\n",
        "Main(data2,selected_features2)"
      ]
    }
  ],
  "metadata": {
    "colab": {
      "provenance": []
    },
    "kernelspec": {
      "display_name": "Python 3",
      "name": "python3"
    },
    "language_info": {
      "name": "python"
    }
  },
  "nbformat": 4,
  "nbformat_minor": 0
}